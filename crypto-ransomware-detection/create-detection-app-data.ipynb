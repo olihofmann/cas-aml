{
 "cells": [
  {
   "cell_type": "code",
   "execution_count": 3,
   "metadata": {},
   "outputs": [],
   "source": [
    "import pandas as pd"
   ]
  },
  {
   "cell_type": "markdown",
   "metadata": {},
   "source": [
    "## Create Branch Instructions Detection App Data"
   ]
  },
  {
   "cell_type": "code",
   "execution_count": 1,
   "metadata": {},
   "outputs": [],
   "source": [
    "DATASET_COLUMNS = [\"time-interval\", \"counter-value\", \"event\", \"runtime\", \"percentage\"]"
   ]
  },
  {
   "cell_type": "markdown",
   "metadata": {},
   "source": [
    "### Load Benign Branch Instruction Data"
   ]
  },
  {
   "cell_type": "code",
   "execution_count": 4,
   "metadata": {},
   "outputs": [
    {
     "name": "stdout",
     "output_type": "stream",
     "text": [
      "(411911, 5)\n"
     ]
    },
    {
     "data": {
      "text/html": [
       "<div>\n",
       "<style scoped>\n",
       "    .dataframe tbody tr th:only-of-type {\n",
       "        vertical-align: middle;\n",
       "    }\n",
       "\n",
       "    .dataframe tbody tr th {\n",
       "        vertical-align: top;\n",
       "    }\n",
       "\n",
       "    .dataframe thead th {\n",
       "        text-align: right;\n",
       "    }\n",
       "</style>\n",
       "<table border=\"1\" class=\"dataframe\">\n",
       "  <thead>\n",
       "    <tr style=\"text-align: right;\">\n",
       "      <th></th>\n",
       "      <th>time-interval</th>\n",
       "      <th>counter-value</th>\n",
       "      <th>event</th>\n",
       "      <th>runtime</th>\n",
       "      <th>percentage</th>\n",
       "    </tr>\n",
       "  </thead>\n",
       "  <tbody>\n",
       "    <tr>\n",
       "      <th>0</th>\n",
       "      <td>0.010452</td>\n",
       "      <td>673597</td>\n",
       "      <td>branch-instructions</td>\n",
       "      <td>82102818</td>\n",
       "      <td>98.23</td>\n",
       "    </tr>\n",
       "    <tr>\n",
       "      <th>1</th>\n",
       "      <td>0.020993</td>\n",
       "      <td>416685</td>\n",
       "      <td>branch-instructions</td>\n",
       "      <td>67141031</td>\n",
       "      <td>80.03</td>\n",
       "    </tr>\n",
       "    <tr>\n",
       "      <th>2</th>\n",
       "      <td>0.031488</td>\n",
       "      <td>391423</td>\n",
       "      <td>branch-instructions</td>\n",
       "      <td>72762824</td>\n",
       "      <td>86.69</td>\n",
       "    </tr>\n",
       "    <tr>\n",
       "      <th>3</th>\n",
       "      <td>0.041902</td>\n",
       "      <td>552040</td>\n",
       "      <td>branch-instructions</td>\n",
       "      <td>67426486</td>\n",
       "      <td>80.52</td>\n",
       "    </tr>\n",
       "    <tr>\n",
       "      <th>4</th>\n",
       "      <td>0.052307</td>\n",
       "      <td>347851</td>\n",
       "      <td>branch-instructions</td>\n",
       "      <td>70607261</td>\n",
       "      <td>84.40</td>\n",
       "    </tr>\n",
       "  </tbody>\n",
       "</table>\n",
       "</div>"
      ],
      "text/plain": [
       "   time-interval  counter-value                event   runtime  percentage\n",
       "0       0.010452         673597  branch-instructions  82102818       98.23\n",
       "1       0.020993         416685  branch-instructions  67141031       80.03\n",
       "2       0.031488         391423  branch-instructions  72762824       86.69\n",
       "3       0.041902         552040  branch-instructions  67426486       80.52\n",
       "4       0.052307         347851  branch-instructions  70607261       84.40"
      ]
     },
     "execution_count": 4,
     "metadata": {},
     "output_type": "execute_result"
    }
   ],
   "source": [
    "dataset_benign_branch_instructions = pd.read_csv(\"data/benign-branch-instructions.csv\", delimiter=\",\", header=None)\n",
    "dataset_benign_branch_instructions = dataset_benign_branch_instructions.dropna(axis=1)\n",
    "dataset_benign_branch_instructions.columns = DATASET_COLUMNS\n",
    "\n",
    "print(dataset_benign_branch_instructions.shape)\n",
    "dataset_benign_branch_instructions.head()"
   ]
  },
  {
   "cell_type": "markdown",
   "metadata": {},
   "source": [
    "### Load Ransomware Branch Instruction Data"
   ]
  },
  {
   "cell_type": "code",
   "execution_count": 5,
   "metadata": {},
   "outputs": [
    {
     "name": "stdout",
     "output_type": "stream",
     "text": [
      "(12423, 5)\n"
     ]
    },
    {
     "data": {
      "text/html": [
       "<div>\n",
       "<style scoped>\n",
       "    .dataframe tbody tr th:only-of-type {\n",
       "        vertical-align: middle;\n",
       "    }\n",
       "\n",
       "    .dataframe tbody tr th {\n",
       "        vertical-align: top;\n",
       "    }\n",
       "\n",
       "    .dataframe thead th {\n",
       "        text-align: right;\n",
       "    }\n",
       "</style>\n",
       "<table border=\"1\" class=\"dataframe\">\n",
       "  <thead>\n",
       "    <tr style=\"text-align: right;\">\n",
       "      <th></th>\n",
       "      <th>time-interval</th>\n",
       "      <th>counter-value</th>\n",
       "      <th>event</th>\n",
       "      <th>runtime</th>\n",
       "      <th>percentage</th>\n",
       "    </tr>\n",
       "  </thead>\n",
       "  <tbody>\n",
       "    <tr>\n",
       "      <th>0</th>\n",
       "      <td>0.010327</td>\n",
       "      <td>354247</td>\n",
       "      <td>branch-instructions</td>\n",
       "      <td>38019191</td>\n",
       "      <td>46.33</td>\n",
       "    </tr>\n",
       "    <tr>\n",
       "      <th>1</th>\n",
       "      <td>0.020617</td>\n",
       "      <td>893405</td>\n",
       "      <td>branch-instructions</td>\n",
       "      <td>60558970</td>\n",
       "      <td>73.33</td>\n",
       "    </tr>\n",
       "    <tr>\n",
       "      <th>2</th>\n",
       "      <td>0.031023</td>\n",
       "      <td>690527</td>\n",
       "      <td>branch-instructions</td>\n",
       "      <td>46730346</td>\n",
       "      <td>56.46</td>\n",
       "    </tr>\n",
       "    <tr>\n",
       "      <th>3</th>\n",
       "      <td>0.041392</td>\n",
       "      <td>337800</td>\n",
       "      <td>branch-instructions</td>\n",
       "      <td>55677350</td>\n",
       "      <td>67.32</td>\n",
       "    </tr>\n",
       "    <tr>\n",
       "      <th>4</th>\n",
       "      <td>0.051646</td>\n",
       "      <td>267611</td>\n",
       "      <td>branch-instructions</td>\n",
       "      <td>51213177</td>\n",
       "      <td>62.10</td>\n",
       "    </tr>\n",
       "  </tbody>\n",
       "</table>\n",
       "</div>"
      ],
      "text/plain": [
       "   time-interval  counter-value                event   runtime  percentage\n",
       "0       0.010327         354247  branch-instructions  38019191       46.33\n",
       "1       0.020617         893405  branch-instructions  60558970       73.33\n",
       "2       0.031023         690527  branch-instructions  46730346       56.46\n",
       "3       0.041392         337800  branch-instructions  55677350       67.32\n",
       "4       0.051646         267611  branch-instructions  51213177       62.10"
      ]
     },
     "execution_count": 5,
     "metadata": {},
     "output_type": "execute_result"
    }
   ],
   "source": [
    "dataset_ransomware_branch_instructions = pd.read_csv(\"data/ransomware-branch-instructions.csv\", delimiter=\",\", header=None)\n",
    "dataset_ransomware_branch_instructions = dataset_ransomware_branch_instructions.dropna(axis=1)\n",
    "dataset_ransomware_branch_instructions.columns = DATASET_COLUMNS\n",
    "\n",
    "print(dataset_ransomware_branch_instructions.shape)\n",
    "dataset_ransomware_branch_instructions.head()"
   ]
  },
  {
   "cell_type": "markdown",
   "metadata": {},
   "source": [
    "### Create Branch Instruction Detection App Data"
   ]
  },
  {
   "cell_type": "code",
   "execution_count": 14,
   "metadata": {},
   "outputs": [
    {
     "name": "stdout",
     "output_type": "stream",
     "text": [
      "(500, 5)\n"
     ]
    },
    {
     "data": {
      "text/html": [
       "<div>\n",
       "<style scoped>\n",
       "    .dataframe tbody tr th:only-of-type {\n",
       "        vertical-align: middle;\n",
       "    }\n",
       "\n",
       "    .dataframe tbody tr th {\n",
       "        vertical-align: top;\n",
       "    }\n",
       "\n",
       "    .dataframe thead th {\n",
       "        text-align: right;\n",
       "    }\n",
       "</style>\n",
       "<table border=\"1\" class=\"dataframe\">\n",
       "  <thead>\n",
       "    <tr style=\"text-align: right;\">\n",
       "      <th></th>\n",
       "      <th>time-interval</th>\n",
       "      <th>counter-value</th>\n",
       "      <th>event</th>\n",
       "      <th>runtime</th>\n",
       "      <th>percentage</th>\n",
       "    </tr>\n",
       "  </thead>\n",
       "  <tbody>\n",
       "    <tr>\n",
       "      <th>1000</th>\n",
       "      <td>20.546514</td>\n",
       "      <td>6547289</td>\n",
       "      <td>branch-instructionsbranch-instructions</td>\n",
       "      <td>120458118</td>\n",
       "      <td>146.67</td>\n",
       "    </tr>\n",
       "    <tr>\n",
       "      <th>1001</th>\n",
       "      <td>20.567124</td>\n",
       "      <td>7231277</td>\n",
       "      <td>branch-instructionsbranch-instructions</td>\n",
       "      <td>120460106</td>\n",
       "      <td>146.67</td>\n",
       "    </tr>\n",
       "    <tr>\n",
       "      <th>1002</th>\n",
       "      <td>20.587569</td>\n",
       "      <td>7134690</td>\n",
       "      <td>branch-instructionsbranch-instructions</td>\n",
       "      <td>120449475</td>\n",
       "      <td>146.66</td>\n",
       "    </tr>\n",
       "    <tr>\n",
       "      <th>1003</th>\n",
       "      <td>20.608204</td>\n",
       "      <td>6706675</td>\n",
       "      <td>branch-instructionsbranch-instructions</td>\n",
       "      <td>120475102</td>\n",
       "      <td>146.69</td>\n",
       "    </tr>\n",
       "    <tr>\n",
       "      <th>1004</th>\n",
       "      <td>20.628618</td>\n",
       "      <td>7584028</td>\n",
       "      <td>branch-instructionsbranch-instructions</td>\n",
       "      <td>120440937</td>\n",
       "      <td>146.65</td>\n",
       "    </tr>\n",
       "  </tbody>\n",
       "</table>\n",
       "</div>"
      ],
      "text/plain": [
       "      time-interval  counter-value                                   event  \\\n",
       "1000      20.546514        6547289  branch-instructionsbranch-instructions   \n",
       "1001      20.567124        7231277  branch-instructionsbranch-instructions   \n",
       "1002      20.587569        7134690  branch-instructionsbranch-instructions   \n",
       "1003      20.608204        6706675  branch-instructionsbranch-instructions   \n",
       "1004      20.628618        7584028  branch-instructionsbranch-instructions   \n",
       "\n",
       "        runtime  percentage  \n",
       "1000  120458118      146.67  \n",
       "1001  120460106      146.67  \n",
       "1002  120449475      146.66  \n",
       "1003  120475102      146.69  \n",
       "1004  120440937      146.65  "
      ]
     },
     "execution_count": 14,
     "metadata": {},
     "output_type": "execute_result"
    }
   ],
   "source": [
    "benign_branch_instruction_app_data = dataset_benign_branch_instructions[1000:1500].copy()\n",
    "ransomware_branch_instruction_app_data = dataset_ransomware_branch_instructions[1000:1500].copy()\n",
    "\n",
    "branch_instructions_app_data = benign_branch_instruction_app_data + ransomware_branch_instruction_app_data\n",
    "\n",
    "print(branch_instructions_app_data.shape)\n",
    "branch_instructions_app_data.head()"
   ]
  },
  {
   "cell_type": "markdown",
   "metadata": {},
   "source": [
    "### Save Branch Instruction Detection App Data"
   ]
  },
  {
   "cell_type": "code",
   "execution_count": 10,
   "metadata": {},
   "outputs": [],
   "source": [
    "branch_instructions_app_data.to_csv(\"data/detection_app/branch_instructions.csv\", index=False)"
   ]
  },
  {
   "cell_type": "markdown",
   "metadata": {},
   "source": [
    "### Load Benign Cache References Data"
   ]
  },
  {
   "cell_type": "code",
   "execution_count": 11,
   "metadata": {},
   "outputs": [
    {
     "name": "stdout",
     "output_type": "stream",
     "text": [
      "(106679, 5)\n"
     ]
    },
    {
     "data": {
      "text/html": [
       "<div>\n",
       "<style scoped>\n",
       "    .dataframe tbody tr th:only-of-type {\n",
       "        vertical-align: middle;\n",
       "    }\n",
       "\n",
       "    .dataframe tbody tr th {\n",
       "        vertical-align: top;\n",
       "    }\n",
       "\n",
       "    .dataframe thead th {\n",
       "        text-align: right;\n",
       "    }\n",
       "</style>\n",
       "<table border=\"1\" class=\"dataframe\">\n",
       "  <thead>\n",
       "    <tr style=\"text-align: right;\">\n",
       "      <th></th>\n",
       "      <th>time-interval</th>\n",
       "      <th>counter-value</th>\n",
       "      <th>event</th>\n",
       "      <th>runtime</th>\n",
       "      <th>percentage</th>\n",
       "    </tr>\n",
       "  </thead>\n",
       "  <tbody>\n",
       "    <tr>\n",
       "      <th>0</th>\n",
       "      <td>0.010243</td>\n",
       "      <td>830525</td>\n",
       "      <td>cache-references</td>\n",
       "      <td>81954793</td>\n",
       "      <td>100.0</td>\n",
       "    </tr>\n",
       "    <tr>\n",
       "      <th>1</th>\n",
       "      <td>0.020617</td>\n",
       "      <td>714546</td>\n",
       "      <td>cache-references</td>\n",
       "      <td>82348731</td>\n",
       "      <td>100.0</td>\n",
       "    </tr>\n",
       "    <tr>\n",
       "      <th>2</th>\n",
       "      <td>0.030905</td>\n",
       "      <td>827680</td>\n",
       "      <td>cache-references</td>\n",
       "      <td>82431082</td>\n",
       "      <td>100.0</td>\n",
       "    </tr>\n",
       "    <tr>\n",
       "      <th>3</th>\n",
       "      <td>0.041283</td>\n",
       "      <td>505713</td>\n",
       "      <td>cache-references</td>\n",
       "      <td>82612535</td>\n",
       "      <td>100.0</td>\n",
       "    </tr>\n",
       "    <tr>\n",
       "      <th>4</th>\n",
       "      <td>0.051697</td>\n",
       "      <td>541460</td>\n",
       "      <td>cache-references</td>\n",
       "      <td>82732483</td>\n",
       "      <td>100.0</td>\n",
       "    </tr>\n",
       "  </tbody>\n",
       "</table>\n",
       "</div>"
      ],
      "text/plain": [
       "   time-interval  counter-value             event   runtime  percentage\n",
       "0       0.010243         830525  cache-references  81954793       100.0\n",
       "1       0.020617         714546  cache-references  82348731       100.0\n",
       "2       0.030905         827680  cache-references  82431082       100.0\n",
       "3       0.041283         505713  cache-references  82612535       100.0\n",
       "4       0.051697         541460  cache-references  82732483       100.0"
      ]
     },
     "execution_count": 11,
     "metadata": {},
     "output_type": "execute_result"
    }
   ],
   "source": [
    "dataset_benign_cache_references = pd.read_csv(\"data/benign-cache-references.csv\", delimiter=\",\", header=None)\n",
    "dataset_benign_cache_references = dataset_benign_cache_references.dropna(axis=1)\n",
    "dataset_benign_cache_references.columns = DATASET_COLUMNS\n",
    "\n",
    "print(dataset_benign_cache_references.shape)\n",
    "dataset_benign_cache_references.head()"
   ]
  },
  {
   "cell_type": "markdown",
   "metadata": {},
   "source": [
    "### Load Ransomware Cache References Data"
   ]
  },
  {
   "cell_type": "code",
   "execution_count": 12,
   "metadata": {},
   "outputs": [
    {
     "name": "stdout",
     "output_type": "stream",
     "text": [
      "(9576, 5)\n"
     ]
    },
    {
     "data": {
      "text/html": [
       "<div>\n",
       "<style scoped>\n",
       "    .dataframe tbody tr th:only-of-type {\n",
       "        vertical-align: middle;\n",
       "    }\n",
       "\n",
       "    .dataframe tbody tr th {\n",
       "        vertical-align: top;\n",
       "    }\n",
       "\n",
       "    .dataframe thead th {\n",
       "        text-align: right;\n",
       "    }\n",
       "</style>\n",
       "<table border=\"1\" class=\"dataframe\">\n",
       "  <thead>\n",
       "    <tr style=\"text-align: right;\">\n",
       "      <th></th>\n",
       "      <th>time-interval</th>\n",
       "      <th>counter-value</th>\n",
       "      <th>event</th>\n",
       "      <th>runtime</th>\n",
       "      <th>percentage</th>\n",
       "    </tr>\n",
       "  </thead>\n",
       "  <tbody>\n",
       "    <tr>\n",
       "      <th>0</th>\n",
       "      <td>0.010208</td>\n",
       "      <td>1955597</td>\n",
       "      <td>cache-references</td>\n",
       "      <td>35824231</td>\n",
       "      <td>43.72</td>\n",
       "    </tr>\n",
       "    <tr>\n",
       "      <th>1</th>\n",
       "      <td>0.020454</td>\n",
       "      <td>1502355</td>\n",
       "      <td>cache-references</td>\n",
       "      <td>58847273</td>\n",
       "      <td>71.85</td>\n",
       "    </tr>\n",
       "    <tr>\n",
       "      <th>2</th>\n",
       "      <td>0.030715</td>\n",
       "      <td>1033919</td>\n",
       "      <td>cache-references</td>\n",
       "      <td>45143499</td>\n",
       "      <td>55.10</td>\n",
       "    </tr>\n",
       "    <tr>\n",
       "      <th>3</th>\n",
       "      <td>0.040948</td>\n",
       "      <td>1380785</td>\n",
       "      <td>cache-references</td>\n",
       "      <td>54359529</td>\n",
       "      <td>66.33</td>\n",
       "    </tr>\n",
       "    <tr>\n",
       "      <th>4</th>\n",
       "      <td>0.051210</td>\n",
       "      <td>1605479</td>\n",
       "      <td>cache-references</td>\n",
       "      <td>51095808</td>\n",
       "      <td>62.43</td>\n",
       "    </tr>\n",
       "  </tbody>\n",
       "</table>\n",
       "</div>"
      ],
      "text/plain": [
       "   time-interval  counter-value             event   runtime  percentage\n",
       "0       0.010208        1955597  cache-references  35824231       43.72\n",
       "1       0.020454        1502355  cache-references  58847273       71.85\n",
       "2       0.030715        1033919  cache-references  45143499       55.10\n",
       "3       0.040948        1380785  cache-references  54359529       66.33\n",
       "4       0.051210        1605479  cache-references  51095808       62.43"
      ]
     },
     "execution_count": 12,
     "metadata": {},
     "output_type": "execute_result"
    }
   ],
   "source": [
    "dataset_ransomware_cache_references = pd.read_csv(\"data/ransomware-cache-references.csv\", delimiter=\",\", header=None)\n",
    "dataset_ransomware_cache_references = dataset_ransomware_cache_references.dropna(axis=1)\n",
    "dataset_ransomware_cache_references.columns = DATASET_COLUMNS\n",
    "\n",
    "print(dataset_ransomware_cache_references.shape)\n",
    "dataset_ransomware_cache_references.head()"
   ]
  },
  {
   "cell_type": "markdown",
   "metadata": {},
   "source": [
    "### Create Cache References Detection App Data"
   ]
  },
  {
   "cell_type": "code",
   "execution_count": 13,
   "metadata": {},
   "outputs": [
    {
     "name": "stdout",
     "output_type": "stream",
     "text": [
      "(500, 5)\n"
     ]
    },
    {
     "data": {
      "text/html": [
       "<div>\n",
       "<style scoped>\n",
       "    .dataframe tbody tr th:only-of-type {\n",
       "        vertical-align: middle;\n",
       "    }\n",
       "\n",
       "    .dataframe tbody tr th {\n",
       "        vertical-align: top;\n",
       "    }\n",
       "\n",
       "    .dataframe thead th {\n",
       "        text-align: right;\n",
       "    }\n",
       "</style>\n",
       "<table border=\"1\" class=\"dataframe\">\n",
       "  <thead>\n",
       "    <tr style=\"text-align: right;\">\n",
       "      <th></th>\n",
       "      <th>time-interval</th>\n",
       "      <th>counter-value</th>\n",
       "      <th>event</th>\n",
       "      <th>runtime</th>\n",
       "      <th>percentage</th>\n",
       "    </tr>\n",
       "  </thead>\n",
       "  <tbody>\n",
       "    <tr>\n",
       "      <th>1000</th>\n",
       "      <td>20.506026</td>\n",
       "      <td>1480383</td>\n",
       "      <td>cache-referencescache-references</td>\n",
       "      <td>136664482</td>\n",
       "      <td>166.66</td>\n",
       "    </tr>\n",
       "    <tr>\n",
       "      <th>1001</th>\n",
       "      <td>20.526701</td>\n",
       "      <td>2665616</td>\n",
       "      <td>cache-referencescache-references</td>\n",
       "      <td>136655928</td>\n",
       "      <td>166.65</td>\n",
       "    </tr>\n",
       "    <tr>\n",
       "      <th>1002</th>\n",
       "      <td>20.547203</td>\n",
       "      <td>2747230</td>\n",
       "      <td>cache-referencescache-references</td>\n",
       "      <td>136656649</td>\n",
       "      <td>166.65</td>\n",
       "    </tr>\n",
       "    <tr>\n",
       "      <th>1003</th>\n",
       "      <td>20.567789</td>\n",
       "      <td>2235234</td>\n",
       "      <td>cache-referencescache-references</td>\n",
       "      <td>136675975</td>\n",
       "      <td>166.67</td>\n",
       "    </tr>\n",
       "    <tr>\n",
       "      <th>1004</th>\n",
       "      <td>20.588243</td>\n",
       "      <td>2411010</td>\n",
       "      <td>cache-referencescache-references</td>\n",
       "      <td>136647908</td>\n",
       "      <td>166.64</td>\n",
       "    </tr>\n",
       "  </tbody>\n",
       "</table>\n",
       "</div>"
      ],
      "text/plain": [
       "      time-interval  counter-value                             event  \\\n",
       "1000      20.506026        1480383  cache-referencescache-references   \n",
       "1001      20.526701        2665616  cache-referencescache-references   \n",
       "1002      20.547203        2747230  cache-referencescache-references   \n",
       "1003      20.567789        2235234  cache-referencescache-references   \n",
       "1004      20.588243        2411010  cache-referencescache-references   \n",
       "\n",
       "        runtime  percentage  \n",
       "1000  136664482      166.66  \n",
       "1001  136655928      166.65  \n",
       "1002  136656649      166.65  \n",
       "1003  136675975      166.67  \n",
       "1004  136647908      166.64  "
      ]
     },
     "execution_count": 13,
     "metadata": {},
     "output_type": "execute_result"
    }
   ],
   "source": [
    "benign_cache_references_app_data = dataset_benign_cache_references[1000:1500].copy()\n",
    "ransomware_cache_references_app_data = dataset_ransomware_cache_references[1000:1500].copy()\n",
    "\n",
    "cache_references_app_data = benign_cache_references_app_data + ransomware_cache_references_app_data\n",
    "\n",
    "print(cache_references_app_data.shape)\n",
    "cache_references_app_data.head()"
   ]
  },
  {
   "cell_type": "markdown",
   "metadata": {},
   "source": [
    "### Save Cache References Detection App Data"
   ]
  },
  {
   "cell_type": "code",
   "execution_count": 15,
   "metadata": {},
   "outputs": [],
   "source": [
    "cache_references_app_data.to_csv(\"data/detection_app/cache_references.csv\", index=False)"
   ]
  }
 ],
 "metadata": {
  "interpreter": {
   "hash": "b515cee28708d379ea2f6ba59aad1db66e547118a9ae47a027e3aa389b865dc3"
  },
  "kernelspec": {
   "display_name": "Python 3.9.7 ('unibern-pytorch')",
   "language": "python",
   "name": "python3"
  },
  "language_info": {
   "codemirror_mode": {
    "name": "ipython",
    "version": 3
   },
   "file_extension": ".py",
   "mimetype": "text/x-python",
   "name": "python",
   "nbconvert_exporter": "python",
   "pygments_lexer": "ipython3",
   "version": "3.9.7"
  },
  "orig_nbformat": 4
 },
 "nbformat": 4,
 "nbformat_minor": 2
}
