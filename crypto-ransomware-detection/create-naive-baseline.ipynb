{
 "cells": [
  {
   "cell_type": "code",
   "execution_count": 1,
   "metadata": {},
   "outputs": [],
   "source": [
    "import pandas as pd\n",
    "import numpy as np\n",
    "import matplotlib.pyplot as plt"
   ]
  },
  {
   "cell_type": "code",
   "execution_count": 2,
   "metadata": {},
   "outputs": [],
   "source": [
    "DATASET_COLUMNS = [\"time-interval\", \"counter-value\", \"event\", \"runtime\", \"percentage\"]"
   ]
  },
  {
   "cell_type": "markdown",
   "metadata": {},
   "source": [
    "## Naive baseline for Branch Instructions"
   ]
  },
  {
   "cell_type": "markdown",
   "metadata": {},
   "source": [
    "### Load the data"
   ]
  },
  {
   "cell_type": "code",
   "execution_count": 3,
   "metadata": {},
   "outputs": [
    {
     "data": {
      "text/html": [
       "<div>\n",
       "<style scoped>\n",
       "    .dataframe tbody tr th:only-of-type {\n",
       "        vertical-align: middle;\n",
       "    }\n",
       "\n",
       "    .dataframe tbody tr th {\n",
       "        vertical-align: top;\n",
       "    }\n",
       "\n",
       "    .dataframe thead th {\n",
       "        text-align: right;\n",
       "    }\n",
       "</style>\n",
       "<table border=\"1\" class=\"dataframe\">\n",
       "  <thead>\n",
       "    <tr style=\"text-align: right;\">\n",
       "      <th></th>\n",
       "      <th>time-interval</th>\n",
       "      <th>counter-value</th>\n",
       "      <th>event</th>\n",
       "      <th>runtime</th>\n",
       "      <th>percentage</th>\n",
       "    </tr>\n",
       "  </thead>\n",
       "  <tbody>\n",
       "    <tr>\n",
       "      <th>0</th>\n",
       "      <td>0.010452</td>\n",
       "      <td>673597</td>\n",
       "      <td>branch-instructions</td>\n",
       "      <td>82102818</td>\n",
       "      <td>98.23</td>\n",
       "    </tr>\n",
       "    <tr>\n",
       "      <th>1</th>\n",
       "      <td>0.020993</td>\n",
       "      <td>416685</td>\n",
       "      <td>branch-instructions</td>\n",
       "      <td>67141031</td>\n",
       "      <td>80.03</td>\n",
       "    </tr>\n",
       "    <tr>\n",
       "      <th>2</th>\n",
       "      <td>0.031488</td>\n",
       "      <td>391423</td>\n",
       "      <td>branch-instructions</td>\n",
       "      <td>72762824</td>\n",
       "      <td>86.69</td>\n",
       "    </tr>\n",
       "    <tr>\n",
       "      <th>3</th>\n",
       "      <td>0.041902</td>\n",
       "      <td>552040</td>\n",
       "      <td>branch-instructions</td>\n",
       "      <td>67426486</td>\n",
       "      <td>80.52</td>\n",
       "    </tr>\n",
       "    <tr>\n",
       "      <th>4</th>\n",
       "      <td>0.052307</td>\n",
       "      <td>347851</td>\n",
       "      <td>branch-instructions</td>\n",
       "      <td>70607261</td>\n",
       "      <td>84.40</td>\n",
       "    </tr>\n",
       "  </tbody>\n",
       "</table>\n",
       "</div>"
      ],
      "text/plain": [
       "   time-interval  counter-value                event   runtime  percentage\n",
       "0       0.010452         673597  branch-instructions  82102818       98.23\n",
       "1       0.020993         416685  branch-instructions  67141031       80.03\n",
       "2       0.031488         391423  branch-instructions  72762824       86.69\n",
       "3       0.041902         552040  branch-instructions  67426486       80.52\n",
       "4       0.052307         347851  branch-instructions  70607261       84.40"
      ]
     },
     "execution_count": 3,
     "metadata": {},
     "output_type": "execute_result"
    }
   ],
   "source": [
    "dataset_benign_branch_instructions = pd.read_csv(\"data/benign-branch-instructions.csv\", delimiter=\",\", header=None)\n",
    "dataset_benign_branch_instructions = dataset_benign_branch_instructions.dropna(axis=1)\n",
    "dataset_benign_branch_instructions.columns = DATASET_COLUMNS\n",
    "\n",
    "dataset_benign_branch_instructions.head()"
   ]
  },
  {
   "cell_type": "code",
   "execution_count": 4,
   "metadata": {},
   "outputs": [
    {
     "name": "stdout",
     "output_type": "stream",
     "text": [
      "(12423, 5)\n"
     ]
    },
    {
     "data": {
      "text/html": [
       "<div>\n",
       "<style scoped>\n",
       "    .dataframe tbody tr th:only-of-type {\n",
       "        vertical-align: middle;\n",
       "    }\n",
       "\n",
       "    .dataframe tbody tr th {\n",
       "        vertical-align: top;\n",
       "    }\n",
       "\n",
       "    .dataframe thead th {\n",
       "        text-align: right;\n",
       "    }\n",
       "</style>\n",
       "<table border=\"1\" class=\"dataframe\">\n",
       "  <thead>\n",
       "    <tr style=\"text-align: right;\">\n",
       "      <th></th>\n",
       "      <th>time-interval</th>\n",
       "      <th>counter-value</th>\n",
       "      <th>event</th>\n",
       "      <th>runtime</th>\n",
       "      <th>percentage</th>\n",
       "    </tr>\n",
       "  </thead>\n",
       "  <tbody>\n",
       "    <tr>\n",
       "      <th>0</th>\n",
       "      <td>0.010327</td>\n",
       "      <td>354247</td>\n",
       "      <td>branch-instructions</td>\n",
       "      <td>38019191</td>\n",
       "      <td>46.33</td>\n",
       "    </tr>\n",
       "    <tr>\n",
       "      <th>1</th>\n",
       "      <td>0.020617</td>\n",
       "      <td>893405</td>\n",
       "      <td>branch-instructions</td>\n",
       "      <td>60558970</td>\n",
       "      <td>73.33</td>\n",
       "    </tr>\n",
       "    <tr>\n",
       "      <th>2</th>\n",
       "      <td>0.031023</td>\n",
       "      <td>690527</td>\n",
       "      <td>branch-instructions</td>\n",
       "      <td>46730346</td>\n",
       "      <td>56.46</td>\n",
       "    </tr>\n",
       "    <tr>\n",
       "      <th>3</th>\n",
       "      <td>0.041392</td>\n",
       "      <td>337800</td>\n",
       "      <td>branch-instructions</td>\n",
       "      <td>55677350</td>\n",
       "      <td>67.32</td>\n",
       "    </tr>\n",
       "    <tr>\n",
       "      <th>4</th>\n",
       "      <td>0.051646</td>\n",
       "      <td>267611</td>\n",
       "      <td>branch-instructions</td>\n",
       "      <td>51213177</td>\n",
       "      <td>62.10</td>\n",
       "    </tr>\n",
       "  </tbody>\n",
       "</table>\n",
       "</div>"
      ],
      "text/plain": [
       "   time-interval  counter-value                event   runtime  percentage\n",
       "0       0.010327         354247  branch-instructions  38019191       46.33\n",
       "1       0.020617         893405  branch-instructions  60558970       73.33\n",
       "2       0.031023         690527  branch-instructions  46730346       56.46\n",
       "3       0.041392         337800  branch-instructions  55677350       67.32\n",
       "4       0.051646         267611  branch-instructions  51213177       62.10"
      ]
     },
     "execution_count": 4,
     "metadata": {},
     "output_type": "execute_result"
    }
   ],
   "source": [
    "dataset_ransomware_branch_instructions = pd.read_csv(\"data/ransomware-branch-instructions.csv\", delimiter=\",\", header=None)\n",
    "dataset_ransomware_branch_instructions = dataset_ransomware_branch_instructions.dropna(axis=1)\n",
    "dataset_ransomware_branch_instructions.columns = DATASET_COLUMNS\n",
    "\n",
    "print(dataset_ransomware_branch_instructions.shape)\n",
    "dataset_ransomware_branch_instructions.head()"
   ]
  },
  {
   "cell_type": "code",
   "execution_count": 5,
   "metadata": {},
   "outputs": [
    {
     "name": "stdout",
     "output_type": "stream",
     "text": [
      "(410911, 7)\n"
     ]
    },
    {
     "data": {
      "text/html": [
       "<div>\n",
       "<style scoped>\n",
       "    .dataframe tbody tr th:only-of-type {\n",
       "        vertical-align: middle;\n",
       "    }\n",
       "\n",
       "    .dataframe tbody tr th {\n",
       "        vertical-align: top;\n",
       "    }\n",
       "\n",
       "    .dataframe thead th {\n",
       "        text-align: right;\n",
       "    }\n",
       "</style>\n",
       "<table border=\"1\" class=\"dataframe\">\n",
       "  <thead>\n",
       "    <tr style=\"text-align: right;\">\n",
       "      <th></th>\n",
       "      <th>index</th>\n",
       "      <th>time-interval</th>\n",
       "      <th>counter-value</th>\n",
       "      <th>event</th>\n",
       "      <th>runtime</th>\n",
       "      <th>percentage</th>\n",
       "      <th>interval</th>\n",
       "    </tr>\n",
       "  </thead>\n",
       "  <tbody>\n",
       "    <tr>\n",
       "      <th>0</th>\n",
       "      <td>1000</td>\n",
       "      <td>10.307010</td>\n",
       "      <td>309933</td>\n",
       "      <td>branch-instructions</td>\n",
       "      <td>65909282</td>\n",
       "      <td>80.01</td>\n",
       "      <td>1</td>\n",
       "    </tr>\n",
       "    <tr>\n",
       "      <th>1</th>\n",
       "      <td>1001</td>\n",
       "      <td>10.317362</td>\n",
       "      <td>989338</td>\n",
       "      <td>branch-instructions</td>\n",
       "      <td>65917447</td>\n",
       "      <td>80.02</td>\n",
       "      <td>2</td>\n",
       "    </tr>\n",
       "    <tr>\n",
       "      <th>2</th>\n",
       "      <td>1002</td>\n",
       "      <td>10.327725</td>\n",
       "      <td>386434</td>\n",
       "      <td>branch-instructions</td>\n",
       "      <td>65911191</td>\n",
       "      <td>80.01</td>\n",
       "      <td>3</td>\n",
       "    </tr>\n",
       "    <tr>\n",
       "      <th>3</th>\n",
       "      <td>1003</td>\n",
       "      <td>10.338134</td>\n",
       "      <td>331708</td>\n",
       "      <td>branch-instructions</td>\n",
       "      <td>65913865</td>\n",
       "      <td>80.02</td>\n",
       "      <td>4</td>\n",
       "    </tr>\n",
       "    <tr>\n",
       "      <th>4</th>\n",
       "      <td>1004</td>\n",
       "      <td>10.348433</td>\n",
       "      <td>1249317</td>\n",
       "      <td>branch-instructions</td>\n",
       "      <td>65913008</td>\n",
       "      <td>80.02</td>\n",
       "      <td>5</td>\n",
       "    </tr>\n",
       "  </tbody>\n",
       "</table>\n",
       "</div>"
      ],
      "text/plain": [
       "   index  time-interval  counter-value                event   runtime  \\\n",
       "0   1000      10.307010         309933  branch-instructions  65909282   \n",
       "1   1001      10.317362         989338  branch-instructions  65917447   \n",
       "2   1002      10.327725         386434  branch-instructions  65911191   \n",
       "3   1003      10.338134         331708  branch-instructions  65913865   \n",
       "4   1004      10.348433        1249317  branch-instructions  65913008   \n",
       "\n",
       "   percentage  interval  \n",
       "0       80.01         1  \n",
       "1       80.02         2  \n",
       "2       80.01         3  \n",
       "3       80.02         4  \n",
       "4       80.02         5  "
      ]
     },
     "execution_count": 5,
     "metadata": {},
     "output_type": "execute_result"
    }
   ],
   "source": [
    "dataset_benign_branch_instructions_observe = dataset_benign_branch_instructions[1000:].copy()\n",
    "dataset_benign_branch_instructions_observe = dataset_benign_branch_instructions_observe.reset_index()\n",
    "dataset_benign_branch_instructions_observe[\"interval\"] = dataset_benign_branch_instructions_observe.index + 1\n",
    "\n",
    "print(dataset_benign_branch_instructions_observe.shape)\n",
    "dataset_benign_branch_instructions_observe.head()"
   ]
  },
  {
   "cell_type": "code",
   "execution_count": 6,
   "metadata": {},
   "outputs": [
    {
     "name": "stdout",
     "output_type": "stream",
     "text": [
      "(11423, 7)\n"
     ]
    },
    {
     "data": {
      "text/html": [
       "<div>\n",
       "<style scoped>\n",
       "    .dataframe tbody tr th:only-of-type {\n",
       "        vertical-align: middle;\n",
       "    }\n",
       "\n",
       "    .dataframe tbody tr th {\n",
       "        vertical-align: top;\n",
       "    }\n",
       "\n",
       "    .dataframe thead th {\n",
       "        text-align: right;\n",
       "    }\n",
       "</style>\n",
       "<table border=\"1\" class=\"dataframe\">\n",
       "  <thead>\n",
       "    <tr style=\"text-align: right;\">\n",
       "      <th></th>\n",
       "      <th>index</th>\n",
       "      <th>time-interval</th>\n",
       "      <th>counter-value</th>\n",
       "      <th>event</th>\n",
       "      <th>runtime</th>\n",
       "      <th>percentage</th>\n",
       "      <th>interval</th>\n",
       "    </tr>\n",
       "  </thead>\n",
       "  <tbody>\n",
       "    <tr>\n",
       "      <th>0</th>\n",
       "      <td>1000</td>\n",
       "      <td>10.239505</td>\n",
       "      <td>6237356</td>\n",
       "      <td>branch-instructions</td>\n",
       "      <td>54548836</td>\n",
       "      <td>66.66</td>\n",
       "      <td>1</td>\n",
       "    </tr>\n",
       "    <tr>\n",
       "      <th>1</th>\n",
       "      <td>1001</td>\n",
       "      <td>10.249762</td>\n",
       "      <td>6241939</td>\n",
       "      <td>branch-instructions</td>\n",
       "      <td>54542659</td>\n",
       "      <td>66.65</td>\n",
       "      <td>2</td>\n",
       "    </tr>\n",
       "    <tr>\n",
       "      <th>2</th>\n",
       "      <td>1002</td>\n",
       "      <td>10.259843</td>\n",
       "      <td>6748256</td>\n",
       "      <td>branch-instructions</td>\n",
       "      <td>54538284</td>\n",
       "      <td>66.65</td>\n",
       "      <td>3</td>\n",
       "    </tr>\n",
       "    <tr>\n",
       "      <th>3</th>\n",
       "      <td>1003</td>\n",
       "      <td>10.270070</td>\n",
       "      <td>6374967</td>\n",
       "      <td>branch-instructions</td>\n",
       "      <td>54561237</td>\n",
       "      <td>66.67</td>\n",
       "      <td>4</td>\n",
       "    </tr>\n",
       "    <tr>\n",
       "      <th>4</th>\n",
       "      <td>1004</td>\n",
       "      <td>10.280185</td>\n",
       "      <td>6334711</td>\n",
       "      <td>branch-instructions</td>\n",
       "      <td>54527929</td>\n",
       "      <td>66.63</td>\n",
       "      <td>5</td>\n",
       "    </tr>\n",
       "  </tbody>\n",
       "</table>\n",
       "</div>"
      ],
      "text/plain": [
       "   index  time-interval  counter-value                event   runtime  \\\n",
       "0   1000      10.239505        6237356  branch-instructions  54548836   \n",
       "1   1001      10.249762        6241939  branch-instructions  54542659   \n",
       "2   1002      10.259843        6748256  branch-instructions  54538284   \n",
       "3   1003      10.270070        6374967  branch-instructions  54561237   \n",
       "4   1004      10.280185        6334711  branch-instructions  54527929   \n",
       "\n",
       "   percentage  interval  \n",
       "0       66.66         1  \n",
       "1       66.65         2  \n",
       "2       66.65         3  \n",
       "3       66.67         4  \n",
       "4       66.63         5  "
      ]
     },
     "execution_count": 6,
     "metadata": {},
     "output_type": "execute_result"
    }
   ],
   "source": [
    "dataset_ransomware_branch_instructions_observe = dataset_ransomware_branch_instructions[1000:].copy()\n",
    "dataset_ransomware_branch_instructions_observe = dataset_ransomware_branch_instructions_observe.reset_index()\n",
    "dataset_ransomware_branch_instructions_observe[\"interval\"] = dataset_ransomware_branch_instructions_observe.index + 1\n",
    "\n",
    "print(dataset_ransomware_branch_instructions_observe.shape)\n",
    "dataset_ransomware_branch_instructions_observe.head()"
   ]
  },
  {
   "cell_type": "markdown",
   "metadata": {},
   "source": [
    "### Prepare time series"
   ]
  },
  {
   "cell_type": "code",
   "execution_count": 7,
   "metadata": {},
   "outputs": [
    {
     "name": "stdout",
     "output_type": "stream",
     "text": [
      "(410911, 1)\n"
     ]
    },
    {
     "data": {
      "text/html": [
       "<div>\n",
       "<style scoped>\n",
       "    .dataframe tbody tr th:only-of-type {\n",
       "        vertical-align: middle;\n",
       "    }\n",
       "\n",
       "    .dataframe tbody tr th {\n",
       "        vertical-align: top;\n",
       "    }\n",
       "\n",
       "    .dataframe thead th {\n",
       "        text-align: right;\n",
       "    }\n",
       "</style>\n",
       "<table border=\"1\" class=\"dataframe\">\n",
       "  <thead>\n",
       "    <tr style=\"text-align: right;\">\n",
       "      <th></th>\n",
       "      <th>counter-value</th>\n",
       "    </tr>\n",
       "  </thead>\n",
       "  <tbody>\n",
       "    <tr>\n",
       "      <th>0</th>\n",
       "      <td>309933</td>\n",
       "    </tr>\n",
       "    <tr>\n",
       "      <th>1</th>\n",
       "      <td>989338</td>\n",
       "    </tr>\n",
       "    <tr>\n",
       "      <th>2</th>\n",
       "      <td>386434</td>\n",
       "    </tr>\n",
       "    <tr>\n",
       "      <th>3</th>\n",
       "      <td>331708</td>\n",
       "    </tr>\n",
       "    <tr>\n",
       "      <th>4</th>\n",
       "      <td>1249317</td>\n",
       "    </tr>\n",
       "  </tbody>\n",
       "</table>\n",
       "</div>"
      ],
      "text/plain": [
       "   counter-value\n",
       "0         309933\n",
       "1         989338\n",
       "2         386434\n",
       "3         331708\n",
       "4        1249317"
      ]
     },
     "execution_count": 7,
     "metadata": {},
     "output_type": "execute_result"
    }
   ],
   "source": [
    "dataset_benign_branch_instructions_counter = dataset_benign_branch_instructions_observe[[\"counter-value\"]].copy()\n",
    "\n",
    "print(dataset_benign_branch_instructions_counter.shape)\n",
    "dataset_benign_branch_instructions_counter.head()"
   ]
  },
  {
   "cell_type": "code",
   "execution_count": 8,
   "metadata": {},
   "outputs": [
    {
     "name": "stdout",
     "output_type": "stream",
     "text": [
      "(11423, 1)\n"
     ]
    },
    {
     "data": {
      "text/html": [
       "<div>\n",
       "<style scoped>\n",
       "    .dataframe tbody tr th:only-of-type {\n",
       "        vertical-align: middle;\n",
       "    }\n",
       "\n",
       "    .dataframe tbody tr th {\n",
       "        vertical-align: top;\n",
       "    }\n",
       "\n",
       "    .dataframe thead th {\n",
       "        text-align: right;\n",
       "    }\n",
       "</style>\n",
       "<table border=\"1\" class=\"dataframe\">\n",
       "  <thead>\n",
       "    <tr style=\"text-align: right;\">\n",
       "      <th></th>\n",
       "      <th>counter-value</th>\n",
       "    </tr>\n",
       "  </thead>\n",
       "  <tbody>\n",
       "    <tr>\n",
       "      <th>0</th>\n",
       "      <td>6237356</td>\n",
       "    </tr>\n",
       "    <tr>\n",
       "      <th>1</th>\n",
       "      <td>6241939</td>\n",
       "    </tr>\n",
       "    <tr>\n",
       "      <th>2</th>\n",
       "      <td>6748256</td>\n",
       "    </tr>\n",
       "    <tr>\n",
       "      <th>3</th>\n",
       "      <td>6374967</td>\n",
       "    </tr>\n",
       "    <tr>\n",
       "      <th>4</th>\n",
       "      <td>6334711</td>\n",
       "    </tr>\n",
       "  </tbody>\n",
       "</table>\n",
       "</div>"
      ],
      "text/plain": [
       "   counter-value\n",
       "0        6237356\n",
       "1        6241939\n",
       "2        6748256\n",
       "3        6374967\n",
       "4        6334711"
      ]
     },
     "execution_count": 8,
     "metadata": {},
     "output_type": "execute_result"
    }
   ],
   "source": [
    "dataset_ransomware_branch_instructions_counter = dataset_ransomware_branch_instructions_observe[[\"counter-value\"]].copy()\n",
    "\n",
    "print(dataset_ransomware_branch_instructions_counter.shape)\n",
    "dataset_ransomware_branch_instructions_counter.head()"
   ]
  },
  {
   "cell_type": "code",
   "execution_count": 29,
   "metadata": {},
   "outputs": [
    {
     "data": {
      "text/plain": [
       "0"
      ]
     },
     "execution_count": 29,
     "metadata": {},
     "output_type": "execute_result"
    }
   ],
   "source": [
    "series_size = 20\n",
    "start_index = 0\n",
    "stop = series_size * 200 + series_size\n",
    "benign_means = list()\n",
    "\n",
    "for i in range(series_size, stop, series_size):\n",
    "    benign_mean = dataset_benign_branch_instructions_counter[start_index:i].mean()\n",
    "    ransomware_mean = dataset_ransomware_branch_instructions_counter[start_index:i].mean()\n",
    "    if benign_mean >= ransomware_mean:\n",
    "        print(\"greater\")\n",
    "\n",
    "len(benign_means)"
   ]
  },
  {
   "cell_type": "code",
   "execution_count": 24,
   "metadata": {},
   "outputs": [
    {
     "data": {
      "text/plain": [
       "200"
      ]
     },
     "execution_count": 24,
     "metadata": {},
     "output_type": "execute_result"
    }
   ],
   "source": [
    "series_size = 20\n",
    "start_index = 0\n",
    "stop = series_size * 200 + series_size\n",
    "ransomware_means = list()\n",
    "\n",
    "for i in range(series_size, stop, series_size):\n",
    "    ransomware_means.append(dataset_ransomware_branch_instructions_counter[start_index:i].mean())\n",
    "\n",
    "len(ransomware_means)"
   ]
  },
  {
   "cell_type": "code",
   "execution_count": 25,
   "metadata": {},
   "outputs": [
    {
     "data": {
      "text/html": [
       "<div>\n",
       "<style scoped>\n",
       "    .dataframe tbody tr th:only-of-type {\n",
       "        vertical-align: middle;\n",
       "    }\n",
       "\n",
       "    .dataframe tbody tr th {\n",
       "        vertical-align: top;\n",
       "    }\n",
       "\n",
       "    .dataframe thead th {\n",
       "        text-align: right;\n",
       "    }\n",
       "</style>\n",
       "<table border=\"1\" class=\"dataframe\">\n",
       "  <thead>\n",
       "    <tr style=\"text-align: right;\">\n",
       "      <th></th>\n",
       "      <th>counter-value</th>\n",
       "    </tr>\n",
       "  </thead>\n",
       "  <tbody>\n",
       "    <tr>\n",
       "      <th>0</th>\n",
       "      <td>8.993139e+05</td>\n",
       "    </tr>\n",
       "    <tr>\n",
       "      <th>1</th>\n",
       "      <td>1.141223e+06</td>\n",
       "    </tr>\n",
       "    <tr>\n",
       "      <th>2</th>\n",
       "      <td>1.053838e+06</td>\n",
       "    </tr>\n",
       "    <tr>\n",
       "      <th>3</th>\n",
       "      <td>1.094350e+06</td>\n",
       "    </tr>\n",
       "    <tr>\n",
       "      <th>4</th>\n",
       "      <td>1.038236e+06</td>\n",
       "    </tr>\n",
       "    <tr>\n",
       "      <th>5</th>\n",
       "      <td>9.727030e+05</td>\n",
       "    </tr>\n",
       "    <tr>\n",
       "      <th>6</th>\n",
       "      <td>8.966681e+05</td>\n",
       "    </tr>\n",
       "    <tr>\n",
       "      <th>7</th>\n",
       "      <td>8.660327e+05</td>\n",
       "    </tr>\n",
       "    <tr>\n",
       "      <th>8</th>\n",
       "      <td>9.126873e+05</td>\n",
       "    </tr>\n",
       "    <tr>\n",
       "      <th>9</th>\n",
       "      <td>8.987156e+05</td>\n",
       "    </tr>\n",
       "  </tbody>\n",
       "</table>\n",
       "</div>"
      ],
      "text/plain": [
       "   counter-value\n",
       "0   8.993139e+05\n",
       "1   1.141223e+06\n",
       "2   1.053838e+06\n",
       "3   1.094350e+06\n",
       "4   1.038236e+06\n",
       "5   9.727030e+05\n",
       "6   8.966681e+05\n",
       "7   8.660327e+05\n",
       "8   9.126873e+05\n",
       "9   8.987156e+05"
      ]
     },
     "execution_count": 25,
     "metadata": {},
     "output_type": "execute_result"
    }
   ],
   "source": [
    "benign_means_df = pd.DataFrame(benign_means, columns=[\"counter-value\"])\n",
    "benign_means_df.head(10)"
   ]
  },
  {
   "cell_type": "code",
   "execution_count": 26,
   "metadata": {},
   "outputs": [
    {
     "data": {
      "text/html": [
       "<div>\n",
       "<style scoped>\n",
       "    .dataframe tbody tr th:only-of-type {\n",
       "        vertical-align: middle;\n",
       "    }\n",
       "\n",
       "    .dataframe tbody tr th {\n",
       "        vertical-align: top;\n",
       "    }\n",
       "\n",
       "    .dataframe thead th {\n",
       "        text-align: right;\n",
       "    }\n",
       "</style>\n",
       "<table border=\"1\" class=\"dataframe\">\n",
       "  <thead>\n",
       "    <tr style=\"text-align: right;\">\n",
       "      <th></th>\n",
       "      <th>counter-value</th>\n",
       "    </tr>\n",
       "  </thead>\n",
       "  <tbody>\n",
       "    <tr>\n",
       "      <th>0</th>\n",
       "      <td>6.872474e+06</td>\n",
       "    </tr>\n",
       "    <tr>\n",
       "      <th>1</th>\n",
       "      <td>7.823918e+06</td>\n",
       "    </tr>\n",
       "    <tr>\n",
       "      <th>2</th>\n",
       "      <td>7.691078e+06</td>\n",
       "    </tr>\n",
       "    <tr>\n",
       "      <th>3</th>\n",
       "      <td>8.224594e+06</td>\n",
       "    </tr>\n",
       "    <tr>\n",
       "      <th>4</th>\n",
       "      <td>7.620213e+06</td>\n",
       "    </tr>\n",
       "    <tr>\n",
       "      <th>5</th>\n",
       "      <td>7.074469e+06</td>\n",
       "    </tr>\n",
       "    <tr>\n",
       "      <th>6</th>\n",
       "      <td>7.200331e+06</td>\n",
       "    </tr>\n",
       "    <tr>\n",
       "      <th>7</th>\n",
       "      <td>7.313904e+06</td>\n",
       "    </tr>\n",
       "    <tr>\n",
       "      <th>8</th>\n",
       "      <td>7.298930e+06</td>\n",
       "    </tr>\n",
       "    <tr>\n",
       "      <th>9</th>\n",
       "      <td>6.950619e+06</td>\n",
       "    </tr>\n",
       "  </tbody>\n",
       "</table>\n",
       "</div>"
      ],
      "text/plain": [
       "   counter-value\n",
       "0   6.872474e+06\n",
       "1   7.823918e+06\n",
       "2   7.691078e+06\n",
       "3   8.224594e+06\n",
       "4   7.620213e+06\n",
       "5   7.074469e+06\n",
       "6   7.200331e+06\n",
       "7   7.313904e+06\n",
       "8   7.298930e+06\n",
       "9   6.950619e+06"
      ]
     },
     "execution_count": 26,
     "metadata": {},
     "output_type": "execute_result"
    }
   ],
   "source": [
    "ransomware_means_df = pd.DataFrame(ransomware_means, columns=[\"counter-value\"])\n",
    "ransomware_means_df.head(10)"
   ]
  },
  {
   "cell_type": "code",
   "execution_count": 27,
   "metadata": {},
   "outputs": [
    {
     "data": {
      "image/png": "[encoded data removed]",
      "text/plain": [
       "<Figure size 2250x1200 with 1 Axes>"
      ]
     },
     "metadata": {
      "needs_background": "light"
     },
     "output_type": "display_data"
    }
   ],
   "source": [
    "plt.figure(figsize=(15, 8), dpi=150)\n",
    "\n",
    "benign_means_df[\"counter-value\"].plot(label=\"Benign\", color=\"green\")\n",
    "ransomware_means_df[\"counter-value\"].plot(label=\"Ransomware\", color=\"red\")\n",
    "\n",
    "plt.title(\"Mean\")\n",
    "plt.xlabel(\"interval (10ms)\")\n",
    "plt.ylabel(\"counter-value\")\n",
    "plt.legend()\n",
    "plt.show()"
   ]
  }
 ],
 "metadata": {
  "interpreter": {
   "hash": "b515cee28708d379ea2f6ba59aad1db66e547118a9ae47a027e3aa389b865dc3"
  },
  "kernelspec": {
   "display_name": "Python 3.9.7 ('unibern-pytorch')",
   "language": "python",
   "name": "python3"
  },
  "language_info": {
   "codemirror_mode": {
    "name": "ipython",
    "version": 3
   },
   "file_extension": ".py",
   "mimetype": "text/x-python",
   "name": "python",
   "nbconvert_exporter": "python",
   "pygments_lexer": "ipython3",
   "version": "3.9.7"
  },
  "orig_nbformat": 4
 },
 "nbformat": 4,
 "nbformat_minor": 2
}
