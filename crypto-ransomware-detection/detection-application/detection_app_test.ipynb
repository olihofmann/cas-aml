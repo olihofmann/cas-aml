{
 "cells": [
  {
   "cell_type": "code",
   "execution_count": 2,
   "metadata": {},
   "outputs": [],
   "source": [
    "import pandas as pd\n",
    "import time\n",
    "from io import TextIOWrapper"
   ]
  },
  {
   "cell_type": "code",
   "execution_count": 3,
   "metadata": {},
   "outputs": [],
   "source": [
    "DATASET_COLUMNS = [\"index\", \"time-interval\", \"counter-value\", \"event\", \"runtime\", \"percentage\"]"
   ]
  },
  {
   "cell_type": "code",
   "execution_count": 5,
   "metadata": {},
   "outputs": [],
   "source": [
    "def follow(file: TextIOWrapper):\n",
    "    where = file.tell()\n",
    "    line = file.readline()\n",
    "    if not line:\n",
    "        time.sleep(1)\n",
    "        file.seek(where)\n",
    "        return None\n",
    "    else:\n",
    "        return line"
   ]
  },
  {
   "cell_type": "code",
   "execution_count": 6,
   "metadata": {},
   "outputs": [],
   "source": [
    "line_counter = 0\n",
    "observation_data = list()\n",
    "\n",
    "with open(\"../data/benign-branch-instructions.csv\") as f:\n",
    "    while line_counter <= 10:\n",
    "        line = follow(file=f)\n",
    "        if line:\n",
    "            observation_data.append(line.split(\",\"))\n",
    "        \n",
    "        line_counter += 1\n"
   ]
  },
  {
   "cell_type": "code",
   "execution_count": 7,
   "metadata": {},
   "outputs": [
    {
     "data": {
      "text/html": [
       "<div>\n",
       "<style scoped>\n",
       "    .dataframe tbody tr th:only-of-type {\n",
       "        vertical-align: middle;\n",
       "    }\n",
       "\n",
       "    .dataframe tbody tr th {\n",
       "        vertical-align: top;\n",
       "    }\n",
       "\n",
       "    .dataframe thead th {\n",
       "        text-align: right;\n",
       "    }\n",
       "</style>\n",
       "<table border=\"1\" class=\"dataframe\">\n",
       "  <thead>\n",
       "    <tr style=\"text-align: right;\">\n",
       "      <th></th>\n",
       "      <th>index</th>\n",
       "      <th>time-interval</th>\n",
       "      <th>counter-value</th>\n",
       "      <th>event</th>\n",
       "      <th>runtime</th>\n",
       "      <th>percentage</th>\n",
       "    </tr>\n",
       "  </thead>\n",
       "  <tbody>\n",
       "    <tr>\n",
       "      <th>0</th>\n",
       "      <td>0</td>\n",
       "      <td>0.010451666</td>\n",
       "      <td>673597</td>\n",
       "      <td>branch-instructions</td>\n",
       "      <td>82102818</td>\n",
       "      <td>98.23</td>\n",
       "    </tr>\n",
       "    <tr>\n",
       "      <th>1</th>\n",
       "      <td>1</td>\n",
       "      <td>0.020993101</td>\n",
       "      <td>416685</td>\n",
       "      <td>branch-instructions</td>\n",
       "      <td>67141031</td>\n",
       "      <td>80.03</td>\n",
       "    </tr>\n",
       "    <tr>\n",
       "      <th>2</th>\n",
       "      <td>2</td>\n",
       "      <td>0.031488440</td>\n",
       "      <td>391423</td>\n",
       "      <td>branch-instructions</td>\n",
       "      <td>72762824</td>\n",
       "      <td>86.69</td>\n",
       "    </tr>\n",
       "    <tr>\n",
       "      <th>3</th>\n",
       "      <td>3</td>\n",
       "      <td>0.041901783</td>\n",
       "      <td>552040</td>\n",
       "      <td>branch-instructions</td>\n",
       "      <td>67426486</td>\n",
       "      <td>80.52</td>\n",
       "    </tr>\n",
       "    <tr>\n",
       "      <th>4</th>\n",
       "      <td>4</td>\n",
       "      <td>0.052307334</td>\n",
       "      <td>347851</td>\n",
       "      <td>branch-instructions</td>\n",
       "      <td>70607261</td>\n",
       "      <td>84.40</td>\n",
       "    </tr>\n",
       "  </tbody>\n",
       "</table>\n",
       "</div>"
      ],
      "text/plain": [
       "   index     time-interval  counter-value                event   runtime  \\\n",
       "0      0       0.010451666         673597  branch-instructions  82102818   \n",
       "1      1       0.020993101         416685  branch-instructions  67141031   \n",
       "2      2       0.031488440         391423  branch-instructions  72762824   \n",
       "3      3       0.041901783         552040  branch-instructions  67426486   \n",
       "4      4       0.052307334         347851  branch-instructions  70607261   \n",
       "\n",
       "  percentage  \n",
       "0      98.23  \n",
       "1      80.03  \n",
       "2      86.69  \n",
       "3      80.52  \n",
       "4      84.40  "
      ]
     },
     "execution_count": 7,
     "metadata": {},
     "output_type": "execute_result"
    }
   ],
   "source": [
    "df = pd.DataFrame(observation_data)\n",
    "df.drop([2, 6, 7], axis=1, inplace=True)\n",
    "df = df.reset_index()\n",
    "df.columns = DATASET_COLUMNS\n",
    "df[\"counter-value\"] = pd.to_numeric(df[\"counter-value\"])\n",
    "\n",
    "df.head()"
   ]
  }
 ],
 "metadata": {
  "interpreter": {
   "hash": "b515cee28708d379ea2f6ba59aad1db66e547118a9ae47a027e3aa389b865dc3"
  },
  "kernelspec": {
   "display_name": "Python 3.9.7 ('unibern-pytorch')",
   "language": "python",
   "name": "python3"
  },
  "language_info": {
   "codemirror_mode": {
    "name": "ipython",
    "version": 3
   },
   "file_extension": ".py",
   "mimetype": "text/x-python",
   "name": "python",
   "nbconvert_exporter": "python",
   "pygments_lexer": "ipython3",
   "version": "3.9.7"
  },
  "orig_nbformat": 4
 },
 "nbformat": 4,
 "nbformat_minor": 2
}
