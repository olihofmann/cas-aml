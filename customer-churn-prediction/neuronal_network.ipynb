{
 "cells": [
  {
   "cell_type": "markdown",
   "metadata": {},
   "source": [
    "### Import of the required libraries"
   ]
  },
  {
   "cell_type": "code",
   "execution_count": 131,
   "metadata": {},
   "outputs": [],
   "source": [
    "import pandas as pd\n",
    "import numpy as np\n",
    "import matplotlib.pyplot as plt\n",
    "import seaborn as sns\n",
    "import shap\n",
    "import tensorflow as tf\n",
    "\n",
    "from sklearn.preprocessing import StandardScaler, OneHotEncoder \n",
    "from sklearn.compose import ColumnTransformer\n",
    "from sklearn.pipeline import Pipeline\n",
    "from sklearn.model_selection import train_test_split\n",
    "from sklearn.metrics import confusion_matrix, classification_report\n",
    "\n",
    "from imblearn.over_sampling import RandomOverSampler\n",
    "\n",
    "from collections import Counter\n",
    "\n",
    "from tensorflow import keras"
   ]
  },
  {
   "cell_type": "markdown",
   "metadata": {},
   "source": [
    "### Load the data"
   ]
  },
  {
   "cell_type": "code",
   "execution_count": 3,
   "metadata": {},
   "outputs": [],
   "source": [
    "data = pd.read_csv(\"./data/churn.csv\")"
   ]
  },
  {
   "cell_type": "markdown",
   "metadata": {},
   "source": [
    "## Feature Engineering"
   ]
  },
  {
   "cell_type": "markdown",
   "metadata": {},
   "source": [
    "### Remove unused columns"
   ]
  },
  {
   "cell_type": "code",
   "execution_count": 4,
   "metadata": {},
   "outputs": [
    {
     "data": {
      "text/html": [
       "<div>\n",
       "<style scoped>\n",
       "    .dataframe tbody tr th:only-of-type {\n",
       "        vertical-align: middle;\n",
       "    }\n",
       "\n",
       "    .dataframe tbody tr th {\n",
       "        vertical-align: top;\n",
       "    }\n",
       "\n",
       "    .dataframe thead th {\n",
       "        text-align: right;\n",
       "    }\n",
       "</style>\n",
       "<table border=\"1\" class=\"dataframe\">\n",
       "  <thead>\n",
       "    <tr style=\"text-align: right;\">\n",
       "      <th></th>\n",
       "      <th>CreditScore</th>\n",
       "      <th>Geography</th>\n",
       "      <th>Gender</th>\n",
       "      <th>Age</th>\n",
       "      <th>Tenure</th>\n",
       "      <th>Balance</th>\n",
       "      <th>NumOfProducts</th>\n",
       "      <th>HasCrCard</th>\n",
       "      <th>IsActiveMember</th>\n",
       "      <th>EstimatedSalary</th>\n",
       "    </tr>\n",
       "  </thead>\n",
       "  <tbody>\n",
       "    <tr>\n",
       "      <th>0</th>\n",
       "      <td>619</td>\n",
       "      <td>France</td>\n",
       "      <td>Female</td>\n",
       "      <td>42</td>\n",
       "      <td>2</td>\n",
       "      <td>0.00</td>\n",
       "      <td>1</td>\n",
       "      <td>1</td>\n",
       "      <td>1</td>\n",
       "      <td>101348.88</td>\n",
       "    </tr>\n",
       "    <tr>\n",
       "      <th>1</th>\n",
       "      <td>608</td>\n",
       "      <td>Spain</td>\n",
       "      <td>Female</td>\n",
       "      <td>41</td>\n",
       "      <td>1</td>\n",
       "      <td>83807.86</td>\n",
       "      <td>1</td>\n",
       "      <td>0</td>\n",
       "      <td>1</td>\n",
       "      <td>112542.58</td>\n",
       "    </tr>\n",
       "    <tr>\n",
       "      <th>2</th>\n",
       "      <td>502</td>\n",
       "      <td>France</td>\n",
       "      <td>Female</td>\n",
       "      <td>42</td>\n",
       "      <td>8</td>\n",
       "      <td>159660.80</td>\n",
       "      <td>3</td>\n",
       "      <td>1</td>\n",
       "      <td>0</td>\n",
       "      <td>113931.57</td>\n",
       "    </tr>\n",
       "    <tr>\n",
       "      <th>3</th>\n",
       "      <td>699</td>\n",
       "      <td>France</td>\n",
       "      <td>Female</td>\n",
       "      <td>39</td>\n",
       "      <td>1</td>\n",
       "      <td>0.00</td>\n",
       "      <td>2</td>\n",
       "      <td>0</td>\n",
       "      <td>0</td>\n",
       "      <td>93826.63</td>\n",
       "    </tr>\n",
       "    <tr>\n",
       "      <th>4</th>\n",
       "      <td>850</td>\n",
       "      <td>Spain</td>\n",
       "      <td>Female</td>\n",
       "      <td>43</td>\n",
       "      <td>2</td>\n",
       "      <td>125510.82</td>\n",
       "      <td>1</td>\n",
       "      <td>1</td>\n",
       "      <td>1</td>\n",
       "      <td>79084.10</td>\n",
       "    </tr>\n",
       "    <tr>\n",
       "      <th>...</th>\n",
       "      <td>...</td>\n",
       "      <td>...</td>\n",
       "      <td>...</td>\n",
       "      <td>...</td>\n",
       "      <td>...</td>\n",
       "      <td>...</td>\n",
       "      <td>...</td>\n",
       "      <td>...</td>\n",
       "      <td>...</td>\n",
       "      <td>...</td>\n",
       "    </tr>\n",
       "    <tr>\n",
       "      <th>9995</th>\n",
       "      <td>771</td>\n",
       "      <td>France</td>\n",
       "      <td>Male</td>\n",
       "      <td>39</td>\n",
       "      <td>5</td>\n",
       "      <td>0.00</td>\n",
       "      <td>2</td>\n",
       "      <td>1</td>\n",
       "      <td>0</td>\n",
       "      <td>96270.64</td>\n",
       "    </tr>\n",
       "    <tr>\n",
       "      <th>9996</th>\n",
       "      <td>516</td>\n",
       "      <td>France</td>\n",
       "      <td>Male</td>\n",
       "      <td>35</td>\n",
       "      <td>10</td>\n",
       "      <td>57369.61</td>\n",
       "      <td>1</td>\n",
       "      <td>1</td>\n",
       "      <td>1</td>\n",
       "      <td>101699.77</td>\n",
       "    </tr>\n",
       "    <tr>\n",
       "      <th>9997</th>\n",
       "      <td>709</td>\n",
       "      <td>France</td>\n",
       "      <td>Female</td>\n",
       "      <td>36</td>\n",
       "      <td>7</td>\n",
       "      <td>0.00</td>\n",
       "      <td>1</td>\n",
       "      <td>0</td>\n",
       "      <td>1</td>\n",
       "      <td>42085.58</td>\n",
       "    </tr>\n",
       "    <tr>\n",
       "      <th>9998</th>\n",
       "      <td>772</td>\n",
       "      <td>Germany</td>\n",
       "      <td>Male</td>\n",
       "      <td>42</td>\n",
       "      <td>3</td>\n",
       "      <td>75075.31</td>\n",
       "      <td>2</td>\n",
       "      <td>1</td>\n",
       "      <td>0</td>\n",
       "      <td>92888.52</td>\n",
       "    </tr>\n",
       "    <tr>\n",
       "      <th>9999</th>\n",
       "      <td>792</td>\n",
       "      <td>France</td>\n",
       "      <td>Female</td>\n",
       "      <td>28</td>\n",
       "      <td>4</td>\n",
       "      <td>130142.79</td>\n",
       "      <td>1</td>\n",
       "      <td>1</td>\n",
       "      <td>0</td>\n",
       "      <td>38190.78</td>\n",
       "    </tr>\n",
       "  </tbody>\n",
       "</table>\n",
       "<p>10000 rows × 10 columns</p>\n",
       "</div>"
      ],
      "text/plain": [
       "      CreditScore Geography  Gender  Age  Tenure    Balance  NumOfProducts  \\\n",
       "0             619    France  Female   42       2       0.00              1   \n",
       "1             608     Spain  Female   41       1   83807.86              1   \n",
       "2             502    France  Female   42       8  159660.80              3   \n",
       "3             699    France  Female   39       1       0.00              2   \n",
       "4             850     Spain  Female   43       2  125510.82              1   \n",
       "...           ...       ...     ...  ...     ...        ...            ...   \n",
       "9995          771    France    Male   39       5       0.00              2   \n",
       "9996          516    France    Male   35      10   57369.61              1   \n",
       "9997          709    France  Female   36       7       0.00              1   \n",
       "9998          772   Germany    Male   42       3   75075.31              2   \n",
       "9999          792    France  Female   28       4  130142.79              1   \n",
       "\n",
       "      HasCrCard  IsActiveMember  EstimatedSalary  \n",
       "0             1               1        101348.88  \n",
       "1             0               1        112542.58  \n",
       "2             1               0        113931.57  \n",
       "3             0               0         93826.63  \n",
       "4             1               1         79084.10  \n",
       "...         ...             ...              ...  \n",
       "9995          1               0         96270.64  \n",
       "9996          1               1        101699.77  \n",
       "9997          0               1         42085.58  \n",
       "9998          1               0         92888.52  \n",
       "9999          1               0         38190.78  \n",
       "\n",
       "[10000 rows x 10 columns]"
      ]
     },
     "execution_count": 4,
     "metadata": {},
     "output_type": "execute_result"
    }
   ],
   "source": [
    "data_prepared = data.drop([\"RowNumber\", \"CustomerId\", \"Surname\", \"Exited\"], axis=1)\n",
    "y = data[\"Exited\"]\n",
    "\n",
    "data_prepared"
   ]
  },
  {
   "cell_type": "markdown",
   "metadata": {},
   "source": [
    "### Create pipeline for scalling and one-hot encoding"
   ]
  },
  {
   "cell_type": "code",
   "execution_count": 5,
   "metadata": {},
   "outputs": [],
   "source": [
    "scaler_pipeline = Pipeline([\n",
    "    (\"scaler\", StandardScaler())\n",
    "])"
   ]
  },
  {
   "cell_type": "code",
   "execution_count": 6,
   "metadata": {},
   "outputs": [],
   "source": [
    "onehot_pipeline = Pipeline([ \n",
    "    (\"onehot\", OneHotEncoder())\n",
    "])"
   ]
  },
  {
   "cell_type": "code",
   "execution_count": 7,
   "metadata": {},
   "outputs": [],
   "source": [
    "full_transformer = ColumnTransformer([\n",
    "    (\"pass\", \"passthrough\", [\"HasCrCard\", \"IsActiveMember\"]),\n",
    "    (\"scaler\", scaler_pipeline, [\"Age\", \"CreditScore\", \"Balance\", \"EstimatedSalary\", \"Tenure\", \"NumOfProducts\"]),\n",
    "    (\"onehot\", onehot_pipeline, [\"Geography\", \"Gender\"])\n",
    "])"
   ]
  },
  {
   "cell_type": "markdown",
   "metadata": {},
   "source": [
    "### The last 500 records are for the validation set"
   ]
  },
  {
   "cell_type": "code",
   "execution_count": 8,
   "metadata": {},
   "outputs": [],
   "source": [
    "data_final = data_prepared[:9500]\n",
    "y_final = y[:9500]\n",
    " \n",
    "data_validation = data_prepared[9500:]\n",
    "y_validation = y[9500:]"
   ]
  },
  {
   "cell_type": "markdown",
   "metadata": {},
   "source": [
    "### Splitting the dataset in data and label"
   ]
  },
  {
   "cell_type": "code",
   "execution_count": 9,
   "metadata": {},
   "outputs": [],
   "source": [
    "X_train, X_test, y_train, y_test = train_test_split(data_final, y_final, test_size=0.2, shuffle=True, random_state=42)"
   ]
  },
  {
   "cell_type": "markdown",
   "metadata": {},
   "source": [
    "### Oversampling the minority class\n",
    "We need to do an oversampling because the exited class is underrepresented"
   ]
  },
  {
   "cell_type": "code",
   "execution_count": 32,
   "metadata": {},
   "outputs": [
    {
     "name": "stdout",
     "output_type": "stream",
     "text": [
      "Counter({0: 6055, 1: 6055})\n",
      "(12110, 10)\n",
      "(12110,)\n"
     ]
    }
   ],
   "source": [
    "oversampler = RandomOverSampler(random_state=42, sampling_strategy=\"auto\")\n",
    "X_train_resample, y_train_resample = oversampler.fit_resample(X_train, y_train)\n",
    "\n",
    "print(Counter(y_train_resample))\n",
    "print(X_train_resample.shape)\n",
    "print(y_train_resample.shape)"
   ]
  },
  {
   "cell_type": "code",
   "execution_count": 11,
   "metadata": {},
   "outputs": [
    {
     "name": "stdout",
     "output_type": "stream",
     "text": [
      "(12110, 13)\n",
      "(1900, 13)\n"
     ]
    }
   ],
   "source": [
    "X_train_onehot_scaled = full_transformer.fit_transform(X_train_resample)\n",
    "X_test_onehot_scaled = full_transformer.fit_transform(X_test)\n",
    "\n",
    "print(X_train_onehot_scaled.shape)\n",
    "print(X_test_onehot_scaled.shape)"
   ]
  },
  {
   "cell_type": "markdown",
   "metadata": {},
   "source": [
    "## Train the Neuronal Network"
   ]
  },
  {
   "cell_type": "code",
   "execution_count": 122,
   "metadata": {},
   "outputs": [],
   "source": [
    "nn_model = keras.models.Sequential([\n",
    "    keras.layers.Input(shape=X_train_onehot_scaled[-1].shape),\n",
    "    keras.layers.Dense(64, activation=keras.activations.relu,\n",
    "                        kernel_regularizer=keras.regularizers.l2(0.01)),\n",
    "    keras.layers.Dense(32, activation=keras.activations.relu,\n",
    "                        kernel_regularizer=keras.regularizers.l2(0.01)),\n",
    "    keras.layers.Dense(16, activation=keras.activations.relu,\n",
    "                        kernel_regularizer=keras.regularizers.l2(0.01)),\n",
    "    keras.layers.Dense(8, activation=keras.activations.relu,\n",
    "                        kernel_regularizer=keras.regularizers.l2(0.01)),\n",
    "    keras.layers.Dense(1, activation=keras.activations.sigmoid,\n",
    "                        kernel_regularizer=keras.regularizers.l2(0.01))\n",
    "])"
   ]
  },
  {
   "cell_type": "code",
   "execution_count": 123,
   "metadata": {},
   "outputs": [],
   "source": [
    "nn_model.compile(\n",
    "    optimizer=keras.optimizers.Adam(learning_rate=0.0001), \n",
    "    loss=keras.losses.BinaryCrossentropy(), \n",
    "    metrics=[\"accuracy\"])"
   ]
  },
  {
   "cell_type": "code",
   "execution_count": 124,
   "metadata": {},
   "outputs": [
    {
     "name": "stdout",
     "output_type": "stream",
     "text": [
      "Epoch 1/15\n",
      "379/379 [==============================] - 1s 2ms/step - loss: 1.5459 - accuracy: 0.5410 - val_loss: 1.5004 - val_accuracy: 0.3384\n",
      "Epoch 2/15\n",
      "379/379 [==============================] - 1s 1ms/step - loss: 1.3097 - accuracy: 0.6463 - val_loss: 1.3152 - val_accuracy: 0.5184\n",
      "Epoch 3/15\n",
      "379/379 [==============================] - 1s 1ms/step - loss: 1.1395 - accuracy: 0.7073 - val_loss: 1.1570 - val_accuracy: 0.6179\n",
      "Epoch 4/15\n",
      "379/379 [==============================] - 1s 1ms/step - loss: 1.0104 - accuracy: 0.7316 - val_loss: 1.0507 - val_accuracy: 0.6311\n",
      "Epoch 5/15\n",
      "379/379 [==============================] - 1s 1ms/step - loss: 0.9134 - accuracy: 0.7391 - val_loss: 0.9615 - val_accuracy: 0.6621\n",
      "Epoch 6/15\n",
      "379/379 [==============================] - 1s 1ms/step - loss: 0.8393 - accuracy: 0.7463 - val_loss: 0.9062 - val_accuracy: 0.6616\n",
      "Epoch 7/15\n",
      "379/379 [==============================] - 1s 1ms/step - loss: 0.7826 - accuracy: 0.7530 - val_loss: 0.8570 - val_accuracy: 0.6758\n",
      "Epoch 8/15\n",
      "379/379 [==============================] - 1s 2ms/step - loss: 0.7391 - accuracy: 0.7567 - val_loss: 0.7912 - val_accuracy: 0.7163\n",
      "Epoch 9/15\n",
      "379/379 [==============================] - 1s 2ms/step - loss: 0.7058 - accuracy: 0.7614 - val_loss: 0.7702 - val_accuracy: 0.7089\n",
      "Epoch 10/15\n",
      "379/379 [==============================] - 1s 2ms/step - loss: 0.6805 - accuracy: 0.7623 - val_loss: 0.7494 - val_accuracy: 0.7179\n",
      "Epoch 11/15\n",
      "379/379 [==============================] - 1s 2ms/step - loss: 0.6615 - accuracy: 0.7645 - val_loss: 0.7251 - val_accuracy: 0.7253\n",
      "Epoch 12/15\n",
      "379/379 [==============================] - 1s 2ms/step - loss: 0.6473 - accuracy: 0.7675 - val_loss: 0.7111 - val_accuracy: 0.7316\n",
      "Epoch 13/15\n",
      "379/379 [==============================] - 1s 2ms/step - loss: 0.6368 - accuracy: 0.7675 - val_loss: 0.7109 - val_accuracy: 0.7211\n",
      "Epoch 14/15\n",
      "379/379 [==============================] - 1s 2ms/step - loss: 0.6290 - accuracy: 0.7669 - val_loss: 0.7060 - val_accuracy: 0.7189\n",
      "Epoch 15/15\n",
      "379/379 [==============================] - 1s 2ms/step - loss: 0.6226 - accuracy: 0.7671 - val_loss: 0.6697 - val_accuracy: 0.7547\n"
     ]
    }
   ],
   "source": [
    "history = nn_model.fit(X_train_onehot_scaled, y_train_resample, validation_data=(X_test_onehot_scaled, y_test), epochs=15)"
   ]
  },
  {
   "cell_type": "code",
   "execution_count": 125,
   "metadata": {},
   "outputs": [
    {
     "data": {
      "image/png": "[encoded data removed]",
      "text/plain": [
       "<Figure size 432x288 with 1 Axes>"
      ]
     },
     "metadata": {
      "needs_background": "light"
     },
     "output_type": "display_data"
    }
   ],
   "source": [
    "plt.plot(history.history['loss'], label='loss')\n",
    "plt.plot(history.history['val_loss'], label='val_loss')\n",
    "plt.legend()\n",
    "plt.show()"
   ]
  },
  {
   "cell_type": "code",
   "execution_count": 126,
   "metadata": {},
   "outputs": [
    {
     "data": {
      "image/png": "[encoded data removed]",
      "text/plain": [
       "<Figure size 432x288 with 1 Axes>"
      ]
     },
     "metadata": {
      "needs_background": "light"
     },
     "output_type": "display_data"
    }
   ],
   "source": [
    "plt.plot(history.history['accuracy'], label='acc')\n",
    "plt.plot(history.history['val_accuracy'], label='val_acc')\n",
    "plt.legend()\n",
    "plt.show()"
   ]
  },
  {
   "cell_type": "markdown",
   "metadata": {},
   "source": [
    "## Predict the validation dataset"
   ]
  },
  {
   "cell_type": "code",
   "execution_count": 127,
   "metadata": {},
   "outputs": [
    {
     "data": {
      "text/plain": [
       "(500, 13)"
      ]
     },
     "execution_count": 127,
     "metadata": {},
     "output_type": "execute_result"
    }
   ],
   "source": [
    "X_validation_onehot_scaled = full_transformer.fit_transform(data_validation)\n",
    "X_validation_onehot_scaled.shape"
   ]
  },
  {
   "cell_type": "code",
   "execution_count": 128,
   "metadata": {},
   "outputs": [],
   "source": [
    "prediction = nn_model.predict(X_validation_onehot_scaled).ravel() > 0.5\n",
    "y_pred = [int(p) for p in prediction]"
   ]
  },
  {
   "cell_type": "code",
   "execution_count": 133,
   "metadata": {},
   "outputs": [
    {
     "name": "stdout",
     "output_type": "stream",
     "text": [
      "              precision    recall  f1-score   support\n",
      "\n",
      "           0       0.95      0.70      0.81       413\n",
      "           1       0.37      0.84      0.51        87\n",
      "\n",
      "    accuracy                           0.72       500\n",
      "   macro avg       0.66      0.77      0.66       500\n",
      "weighted avg       0.85      0.72      0.75       500\n",
      "\n"
     ]
    }
   ],
   "source": [
    "print(classification_report(y_validation, y_pred))"
   ]
  },
  {
   "cell_type": "code",
   "execution_count": 134,
   "metadata": {},
   "outputs": [
    {
     "data": {
      "image/png": "[encoded data removed]",
      "text/plain": [
       "<Figure size 432x288 with 2 Axes>"
      ]
     },
     "metadata": {
      "needs_background": "light"
     },
     "output_type": "display_data"
    }
   ],
   "source": [
    "con_matrix = confusion_matrix(y_validation, y_pred)\n",
    "sns.heatmap(con_matrix, annot=True, fmt=\"d\")\n",
    "plt.title(\"Confusion Matrix\")\n",
    "plt.show()"
   ]
  }
 ],
 "metadata": {
  "interpreter": {
   "hash": "fa306bf0c5f84f5bbc9873a9044613f2317313e583cb51a56167379bf5454f8b"
  },
  "kernelspec": {
   "display_name": "Python 3.9.5 64-bit ('unibern': conda)",
   "name": "python3"
  },
  "language_info": {
   "codemirror_mode": {
    "name": "ipython",
    "version": 3
   },
   "file_extension": ".py",
   "mimetype": "text/x-python",
   "name": "python",
   "nbconvert_exporter": "python",
   "pygments_lexer": "ipython3",
   "version": "3.9.5"
  },
  "orig_nbformat": 4
 },
 "nbformat": 4,
 "nbformat_minor": 2
}
