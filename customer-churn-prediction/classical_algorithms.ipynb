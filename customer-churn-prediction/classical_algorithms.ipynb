{
 "cells": [
  {
   "cell_type": "markdown",
   "source": [
    "# Customer churn prediction\n",
    "\n",
    "Predicting customer churn is about identifying which customers are at high risk of terminating their accounts. For banks, it is important to identify these customers in order to present them with a new offer, for example. This project is about using various algorithms or neural networks to recognize whether a customer has a high risk of canceling the account."
   ],
   "metadata": {}
  },
  {
   "cell_type": "markdown",
   "source": [
    "## Dataset Information\n",
    "\n",
    "- RowNumber — The row number, has no effect on the output. (Has no effect on customer churn)\n",
    "- CustomerId — The id of the bank customer, it's a random id. (Has no effect on customer churn)\n",
    "- Surname — The surname of a customer. (Has no effect on customer churn)\n",
    "- CreditScore — The amount of the credit of the customer. (Can have an effect on customer churn)\n",
    "- Geography — The country where the customer lives. (Can have an effect on customer churn)\n",
    "- Gender — The gender of the customer. (Has no effect on customer churn)\n",
    "- Age — The age of the customer. (This is certainly relevant on customer churn)\n",
    "- Tenure — The number of years that the customer has been a client of the bank. (This is certainly relevant on customer churn)\n",
    "- Balance — The balance of the customer. (Very relevant on customer churn)\n",
    "- NumOfProducts — The number of products that a customer has purchased. (Relevant on customer churn)\n",
    "- HasCrCard — Has a customer a credit card or not.\n",
    "- IsActiveMember — Active customers.\n",
    "- EstimatedSalary — The salary of the customer.\n",
    "- Exited — Whether or not the customer left the bank. (Label)"
   ],
   "metadata": {}
  },
  {
   "cell_type": "markdown",
   "source": [
    "### Import of the required libraries"
   ],
   "metadata": {}
  },
  {
   "cell_type": "code",
   "execution_count": 1,
   "source": [
    "import pandas as pd"
   ],
   "outputs": [],
   "metadata": {}
  },
  {
   "cell_type": "markdown",
   "source": [
    "### Load the data and display the 5 first rows"
   ],
   "metadata": {}
  },
  {
   "cell_type": "code",
   "execution_count": 4,
   "source": [
    "data = pd.read_csv(\"./data/churn.csv\")"
   ],
   "outputs": [],
   "metadata": {}
  },
  {
   "cell_type": "markdown",
   "source": [
    "### Data Anlyses"
   ],
   "metadata": {}
  },
  {
   "cell_type": "code",
   "execution_count": 5,
   "source": [
    "data.head()"
   ],
   "outputs": [
    {
     "output_type": "execute_result",
     "data": {
      "text/plain": [
       "   RowNumber  CustomerId   Surname  CreditScore Geography  Gender  Age  \\\n",
       "0          1    15634602  Hargrave          619    France  Female   42   \n",
       "1          2    15647311      Hill          608     Spain  Female   41   \n",
       "2          3    15619304      Onio          502    France  Female   42   \n",
       "3          4    15701354      Boni          699    France  Female   39   \n",
       "4          5    15737888  Mitchell          850     Spain  Female   43   \n",
       "\n",
       "   Tenure    Balance  NumOfProducts  HasCrCard  IsActiveMember  \\\n",
       "0       2       0.00              1          1               1   \n",
       "1       1   83807.86              1          0               1   \n",
       "2       8  159660.80              3          1               0   \n",
       "3       1       0.00              2          0               0   \n",
       "4       2  125510.82              1          1               1   \n",
       "\n",
       "   EstimatedSalary  Exited  \n",
       "0        101348.88       1  \n",
       "1        112542.58       0  \n",
       "2        113931.57       1  \n",
       "3         93826.63       0  \n",
       "4         79084.10       0  "
      ],
      "text/html": [
       "<div>\n",
       "<style scoped>\n",
       "    .dataframe tbody tr th:only-of-type {\n",
       "        vertical-align: middle;\n",
       "    }\n",
       "\n",
       "    .dataframe tbody tr th {\n",
       "        vertical-align: top;\n",
       "    }\n",
       "\n",
       "    .dataframe thead th {\n",
       "        text-align: right;\n",
       "    }\n",
       "</style>\n",
       "<table border=\"1\" class=\"dataframe\">\n",
       "  <thead>\n",
       "    <tr style=\"text-align: right;\">\n",
       "      <th></th>\n",
       "      <th>RowNumber</th>\n",
       "      <th>CustomerId</th>\n",
       "      <th>Surname</th>\n",
       "      <th>CreditScore</th>\n",
       "      <th>Geography</th>\n",
       "      <th>Gender</th>\n",
       "      <th>Age</th>\n",
       "      <th>Tenure</th>\n",
       "      <th>Balance</th>\n",
       "      <th>NumOfProducts</th>\n",
       "      <th>HasCrCard</th>\n",
       "      <th>IsActiveMember</th>\n",
       "      <th>EstimatedSalary</th>\n",
       "      <th>Exited</th>\n",
       "    </tr>\n",
       "  </thead>\n",
       "  <tbody>\n",
       "    <tr>\n",
       "      <th>0</th>\n",
       "      <td>1</td>\n",
       "      <td>15634602</td>\n",
       "      <td>Hargrave</td>\n",
       "      <td>619</td>\n",
       "      <td>France</td>\n",
       "      <td>Female</td>\n",
       "      <td>42</td>\n",
       "      <td>2</td>\n",
       "      <td>0.00</td>\n",
       "      <td>1</td>\n",
       "      <td>1</td>\n",
       "      <td>1</td>\n",
       "      <td>101348.88</td>\n",
       "      <td>1</td>\n",
       "    </tr>\n",
       "    <tr>\n",
       "      <th>1</th>\n",
       "      <td>2</td>\n",
       "      <td>15647311</td>\n",
       "      <td>Hill</td>\n",
       "      <td>608</td>\n",
       "      <td>Spain</td>\n",
       "      <td>Female</td>\n",
       "      <td>41</td>\n",
       "      <td>1</td>\n",
       "      <td>83807.86</td>\n",
       "      <td>1</td>\n",
       "      <td>0</td>\n",
       "      <td>1</td>\n",
       "      <td>112542.58</td>\n",
       "      <td>0</td>\n",
       "    </tr>\n",
       "    <tr>\n",
       "      <th>2</th>\n",
       "      <td>3</td>\n",
       "      <td>15619304</td>\n",
       "      <td>Onio</td>\n",
       "      <td>502</td>\n",
       "      <td>France</td>\n",
       "      <td>Female</td>\n",
       "      <td>42</td>\n",
       "      <td>8</td>\n",
       "      <td>159660.80</td>\n",
       "      <td>3</td>\n",
       "      <td>1</td>\n",
       "      <td>0</td>\n",
       "      <td>113931.57</td>\n",
       "      <td>1</td>\n",
       "    </tr>\n",
       "    <tr>\n",
       "      <th>3</th>\n",
       "      <td>4</td>\n",
       "      <td>15701354</td>\n",
       "      <td>Boni</td>\n",
       "      <td>699</td>\n",
       "      <td>France</td>\n",
       "      <td>Female</td>\n",
       "      <td>39</td>\n",
       "      <td>1</td>\n",
       "      <td>0.00</td>\n",
       "      <td>2</td>\n",
       "      <td>0</td>\n",
       "      <td>0</td>\n",
       "      <td>93826.63</td>\n",
       "      <td>0</td>\n",
       "    </tr>\n",
       "    <tr>\n",
       "      <th>4</th>\n",
       "      <td>5</td>\n",
       "      <td>15737888</td>\n",
       "      <td>Mitchell</td>\n",
       "      <td>850</td>\n",
       "      <td>Spain</td>\n",
       "      <td>Female</td>\n",
       "      <td>43</td>\n",
       "      <td>2</td>\n",
       "      <td>125510.82</td>\n",
       "      <td>1</td>\n",
       "      <td>1</td>\n",
       "      <td>1</td>\n",
       "      <td>79084.10</td>\n",
       "      <td>0</td>\n",
       "    </tr>\n",
       "  </tbody>\n",
       "</table>\n",
       "</div>"
      ]
     },
     "metadata": {},
     "execution_count": 5
    }
   ],
   "metadata": {}
  },
  {
   "cell_type": "code",
   "execution_count": 6,
   "source": [
    "data.shape"
   ],
   "outputs": [
    {
     "output_type": "execute_result",
     "data": {
      "text/plain": [
       "(10000, 14)"
      ]
     },
     "metadata": {},
     "execution_count": 6
    }
   ],
   "metadata": {}
  },
  {
   "cell_type": "code",
   "execution_count": 7,
   "source": [
    "data.columns"
   ],
   "outputs": [
    {
     "output_type": "execute_result",
     "data": {
      "text/plain": [
       "Index(['RowNumber', 'CustomerId', 'Surname', 'CreditScore', 'Geography',\n",
       "       'Gender', 'Age', 'Tenure', 'Balance', 'NumOfProducts', 'HasCrCard',\n",
       "       'IsActiveMember', 'EstimatedSalary', 'Exited'],\n",
       "      dtype='object')"
      ]
     },
     "metadata": {},
     "execution_count": 7
    }
   ],
   "metadata": {}
  },
  {
   "cell_type": "code",
   "execution_count": 8,
   "source": [
    "data.dtypes"
   ],
   "outputs": [
    {
     "output_type": "execute_result",
     "data": {
      "text/plain": [
       "RowNumber            int64\n",
       "CustomerId           int64\n",
       "Surname             object\n",
       "CreditScore          int64\n",
       "Geography           object\n",
       "Gender              object\n",
       "Age                  int64\n",
       "Tenure               int64\n",
       "Balance            float64\n",
       "NumOfProducts        int64\n",
       "HasCrCard            int64\n",
       "IsActiveMember       int64\n",
       "EstimatedSalary    float64\n",
       "Exited               int64\n",
       "dtype: object"
      ]
     },
     "metadata": {},
     "execution_count": 8
    }
   ],
   "metadata": {}
  },
  {
   "cell_type": "code",
   "execution_count": 9,
   "source": [
    "data.info()"
   ],
   "outputs": [
    {
     "output_type": "stream",
     "name": "stdout",
     "text": [
      "<class 'pandas.core.frame.DataFrame'>\n",
      "RangeIndex: 10000 entries, 0 to 9999\n",
      "Data columns (total 14 columns):\n",
      " #   Column           Non-Null Count  Dtype  \n",
      "---  ------           --------------  -----  \n",
      " 0   RowNumber        10000 non-null  int64  \n",
      " 1   CustomerId       10000 non-null  int64  \n",
      " 2   Surname          10000 non-null  object \n",
      " 3   CreditScore      10000 non-null  int64  \n",
      " 4   Geography        10000 non-null  object \n",
      " 5   Gender           10000 non-null  object \n",
      " 6   Age              10000 non-null  int64  \n",
      " 7   Tenure           10000 non-null  int64  \n",
      " 8   Balance          10000 non-null  float64\n",
      " 9   NumOfProducts    10000 non-null  int64  \n",
      " 10  HasCrCard        10000 non-null  int64  \n",
      " 11  IsActiveMember   10000 non-null  int64  \n",
      " 12  EstimatedSalary  10000 non-null  float64\n",
      " 13  Exited           10000 non-null  int64  \n",
      "dtypes: float64(2), int64(9), object(3)\n",
      "memory usage: 1.1+ MB\n"
     ]
    }
   ],
   "metadata": {}
  },
  {
   "cell_type": "code",
   "execution_count": 10,
   "source": [
    "data.describe()"
   ],
   "outputs": [
    {
     "output_type": "execute_result",
     "data": {
      "text/plain": [
       "         RowNumber    CustomerId   CreditScore           Age        Tenure  \\\n",
       "count  10000.00000  1.000000e+04  10000.000000  10000.000000  10000.000000   \n",
       "mean    5000.50000  1.569094e+07    650.528800     38.921800      5.012800   \n",
       "std     2886.89568  7.193619e+04     96.653299     10.487806      2.892174   \n",
       "min        1.00000  1.556570e+07    350.000000     18.000000      0.000000   \n",
       "25%     2500.75000  1.562853e+07    584.000000     32.000000      3.000000   \n",
       "50%     5000.50000  1.569074e+07    652.000000     37.000000      5.000000   \n",
       "75%     7500.25000  1.575323e+07    718.000000     44.000000      7.000000   \n",
       "max    10000.00000  1.581569e+07    850.000000     92.000000     10.000000   \n",
       "\n",
       "             Balance  NumOfProducts    HasCrCard  IsActiveMember  \\\n",
       "count   10000.000000   10000.000000  10000.00000    10000.000000   \n",
       "mean    76485.889288       1.530200      0.70550        0.515100   \n",
       "std     62397.405202       0.581654      0.45584        0.499797   \n",
       "min         0.000000       1.000000      0.00000        0.000000   \n",
       "25%         0.000000       1.000000      0.00000        0.000000   \n",
       "50%     97198.540000       1.000000      1.00000        1.000000   \n",
       "75%    127644.240000       2.000000      1.00000        1.000000   \n",
       "max    250898.090000       4.000000      1.00000        1.000000   \n",
       "\n",
       "       EstimatedSalary        Exited  \n",
       "count     10000.000000  10000.000000  \n",
       "mean     100090.239881      0.203700  \n",
       "std       57510.492818      0.402769  \n",
       "min          11.580000      0.000000  \n",
       "25%       51002.110000      0.000000  \n",
       "50%      100193.915000      0.000000  \n",
       "75%      149388.247500      0.000000  \n",
       "max      199992.480000      1.000000  "
      ],
      "text/html": [
       "<div>\n",
       "<style scoped>\n",
       "    .dataframe tbody tr th:only-of-type {\n",
       "        vertical-align: middle;\n",
       "    }\n",
       "\n",
       "    .dataframe tbody tr th {\n",
       "        vertical-align: top;\n",
       "    }\n",
       "\n",
       "    .dataframe thead th {\n",
       "        text-align: right;\n",
       "    }\n",
       "</style>\n",
       "<table border=\"1\" class=\"dataframe\">\n",
       "  <thead>\n",
       "    <tr style=\"text-align: right;\">\n",
       "      <th></th>\n",
       "      <th>RowNumber</th>\n",
       "      <th>CustomerId</th>\n",
       "      <th>CreditScore</th>\n",
       "      <th>Age</th>\n",
       "      <th>Tenure</th>\n",
       "      <th>Balance</th>\n",
       "      <th>NumOfProducts</th>\n",
       "      <th>HasCrCard</th>\n",
       "      <th>IsActiveMember</th>\n",
       "      <th>EstimatedSalary</th>\n",
       "      <th>Exited</th>\n",
       "    </tr>\n",
       "  </thead>\n",
       "  <tbody>\n",
       "    <tr>\n",
       "      <th>count</th>\n",
       "      <td>10000.00000</td>\n",
       "      <td>1.000000e+04</td>\n",
       "      <td>10000.000000</td>\n",
       "      <td>10000.000000</td>\n",
       "      <td>10000.000000</td>\n",
       "      <td>10000.000000</td>\n",
       "      <td>10000.000000</td>\n",
       "      <td>10000.00000</td>\n",
       "      <td>10000.000000</td>\n",
       "      <td>10000.000000</td>\n",
       "      <td>10000.000000</td>\n",
       "    </tr>\n",
       "    <tr>\n",
       "      <th>mean</th>\n",
       "      <td>5000.50000</td>\n",
       "      <td>1.569094e+07</td>\n",
       "      <td>650.528800</td>\n",
       "      <td>38.921800</td>\n",
       "      <td>5.012800</td>\n",
       "      <td>76485.889288</td>\n",
       "      <td>1.530200</td>\n",
       "      <td>0.70550</td>\n",
       "      <td>0.515100</td>\n",
       "      <td>100090.239881</td>\n",
       "      <td>0.203700</td>\n",
       "    </tr>\n",
       "    <tr>\n",
       "      <th>std</th>\n",
       "      <td>2886.89568</td>\n",
       "      <td>7.193619e+04</td>\n",
       "      <td>96.653299</td>\n",
       "      <td>10.487806</td>\n",
       "      <td>2.892174</td>\n",
       "      <td>62397.405202</td>\n",
       "      <td>0.581654</td>\n",
       "      <td>0.45584</td>\n",
       "      <td>0.499797</td>\n",
       "      <td>57510.492818</td>\n",
       "      <td>0.402769</td>\n",
       "    </tr>\n",
       "    <tr>\n",
       "      <th>min</th>\n",
       "      <td>1.00000</td>\n",
       "      <td>1.556570e+07</td>\n",
       "      <td>350.000000</td>\n",
       "      <td>18.000000</td>\n",
       "      <td>0.000000</td>\n",
       "      <td>0.000000</td>\n",
       "      <td>1.000000</td>\n",
       "      <td>0.00000</td>\n",
       "      <td>0.000000</td>\n",
       "      <td>11.580000</td>\n",
       "      <td>0.000000</td>\n",
       "    </tr>\n",
       "    <tr>\n",
       "      <th>25%</th>\n",
       "      <td>2500.75000</td>\n",
       "      <td>1.562853e+07</td>\n",
       "      <td>584.000000</td>\n",
       "      <td>32.000000</td>\n",
       "      <td>3.000000</td>\n",
       "      <td>0.000000</td>\n",
       "      <td>1.000000</td>\n",
       "      <td>0.00000</td>\n",
       "      <td>0.000000</td>\n",
       "      <td>51002.110000</td>\n",
       "      <td>0.000000</td>\n",
       "    </tr>\n",
       "    <tr>\n",
       "      <th>50%</th>\n",
       "      <td>5000.50000</td>\n",
       "      <td>1.569074e+07</td>\n",
       "      <td>652.000000</td>\n",
       "      <td>37.000000</td>\n",
       "      <td>5.000000</td>\n",
       "      <td>97198.540000</td>\n",
       "      <td>1.000000</td>\n",
       "      <td>1.00000</td>\n",
       "      <td>1.000000</td>\n",
       "      <td>100193.915000</td>\n",
       "      <td>0.000000</td>\n",
       "    </tr>\n",
       "    <tr>\n",
       "      <th>75%</th>\n",
       "      <td>7500.25000</td>\n",
       "      <td>1.575323e+07</td>\n",
       "      <td>718.000000</td>\n",
       "      <td>44.000000</td>\n",
       "      <td>7.000000</td>\n",
       "      <td>127644.240000</td>\n",
       "      <td>2.000000</td>\n",
       "      <td>1.00000</td>\n",
       "      <td>1.000000</td>\n",
       "      <td>149388.247500</td>\n",
       "      <td>0.000000</td>\n",
       "    </tr>\n",
       "    <tr>\n",
       "      <th>max</th>\n",
       "      <td>10000.00000</td>\n",
       "      <td>1.581569e+07</td>\n",
       "      <td>850.000000</td>\n",
       "      <td>92.000000</td>\n",
       "      <td>10.000000</td>\n",
       "      <td>250898.090000</td>\n",
       "      <td>4.000000</td>\n",
       "      <td>1.00000</td>\n",
       "      <td>1.000000</td>\n",
       "      <td>199992.480000</td>\n",
       "      <td>1.000000</td>\n",
       "    </tr>\n",
       "  </tbody>\n",
       "</table>\n",
       "</div>"
      ]
     },
     "metadata": {},
     "execution_count": 10
    }
   ],
   "metadata": {}
  },
  {
   "cell_type": "code",
   "execution_count": 14,
   "source": [
    "data.plot.hist()"
   ],
   "outputs": [
    {
     "output_type": "execute_result",
     "data": {
      "text/plain": [
       "<AxesSubplot:ylabel='Frequency'>"
      ]
     },
     "metadata": {},
     "execution_count": 14
    },
    {
     "output_type": "display_data",
     "data": {
      "text/plain": [
       "<Figure size 432x288 with 1 Axes>"
      ],
      "image/svg+xml": "<?xml version=\"1.0\" encoding=\"utf-8\" standalone=\"no\"?>\n<!DOCTYPE svg PUBLIC \"-//W3C//DTD SVG 1.1//EN\"\n  \"http://www.w3.org/Graphics/SVG/1.1/DTD/svg11.dtd\">\n<svg height=\"261.19625pt\" version=\"1.1\" viewBox=\"0 0 401.690625 261.19625\" width=\"401.690625pt\" xmlns=\"http://www.w3.org/2000/svg\" xmlns:xlink=\"http://www.w3.org/1999/xlink\">\n <metadata>\n  <rdf:RDF xmlns:cc=\"http://creativecommons.org/ns#\" xmlns:dc=\"http://purl.org/dc/elements/1.1/\" xmlns:rdf=\"http://www.w3.org/1999/02/22-rdf-syntax-ns#\">\n   <cc:Work>\n    <dc:type rdf:resource=\"http://purl.org/dc/dcmitype/StillImage\"/>\n    <dc:date>2021-09-06T20:21:55.284207</dc:date>\n    <dc:format>image/svg+xml</dc:format>\n    <dc:creator>\n     <cc:Agent>\n      <dc:title>Matplotlib v3.4.2, https://matplotlib.org/</dc:title>\n     </cc:Agent>\n    </dc:creator>\n   </cc:Work>\n  </rdf:RDF>\n </metadata>\n <defs>\n  <style type=\"text/css\">*{stroke-linecap:butt;stroke-linejoin:round;}</style>\n </defs>\n <g id=\"figure_1\">\n  <g id=\"patch_1\">\n   <path d=\"M 0 261.19625 \nL 401.690625 261.19625 \nL 401.690625 0 \nL 0 0 \nz\n\" style=\"fill:none;\"/>\n  </g>\n  <g id=\"axes_1\">\n   <g id=\"patch_2\">\n    <path d=\"M 59.690625 224.64 \nL 394.490625 224.64 \nL 394.490625 7.2 \nL 59.690625 7.2 \nz\n\" style=\"fill:#ffffff;\"/>\n   </g>\n   <g id=\"patch_3\">\n    <path clip-path=\"url(#pdab5605b8f)\" d=\"M 74.908807 224.64 \nL 105.34517 224.64 \nL 105.34517 17.554286 \nL 74.908807 17.554286 \nz\n\" style=\"fill:#1f77b4;\"/>\n   </g>\n   <g id=\"patch_4\">\n    <path clip-path=\"url(#pdab5605b8f)\" d=\"M 105.34517 224.64 \nL 135.781534 224.64 \nL 135.781534 224.64 \nL 105.34517 224.64 \nz\n\" style=\"fill:#1f77b4;\"/>\n   </g>\n   <g id=\"patch_5\">\n    <path clip-path=\"url(#pdab5605b8f)\" d=\"M 135.781534 224.64 \nL 166.217898 224.64 \nL 166.217898 224.64 \nL 135.781534 224.64 \nz\n\" style=\"fill:#1f77b4;\"/>\n   </g>\n   <g id=\"patch_6\">\n    <path clip-path=\"url(#pdab5605b8f)\" d=\"M 166.217898 224.64 \nL 196.654261 224.64 \nL 196.654261 224.64 \nL 166.217898 224.64 \nz\n\" style=\"fill:#1f77b4;\"/>\n   </g>\n   <g id=\"patch_7\">\n    <path clip-path=\"url(#pdab5605b8f)\" d=\"M 196.654261 224.64 \nL 227.090625 224.64 \nL 227.090625 224.64 \nL 196.654261 224.64 \nz\n\" style=\"fill:#1f77b4;\"/>\n   </g>\n   <g id=\"patch_8\">\n    <path clip-path=\"url(#pdab5605b8f)\" d=\"M 227.090625 224.64 \nL 257.526989 224.64 \nL 257.526989 224.64 \nL 227.090625 224.64 \nz\n\" style=\"fill:#1f77b4;\"/>\n   </g>\n   <g id=\"patch_9\">\n    <path clip-path=\"url(#pdab5605b8f)\" d=\"M 257.526989 224.64 \nL 287.963352 224.64 \nL 287.963352 224.64 \nL 257.526989 224.64 \nz\n\" style=\"fill:#1f77b4;\"/>\n   </g>\n   <g id=\"patch_10\">\n    <path clip-path=\"url(#pdab5605b8f)\" d=\"M 287.963352 224.64 \nL 318.399716 224.64 \nL 318.399716 224.64 \nL 287.963352 224.64 \nz\n\" style=\"fill:#1f77b4;\"/>\n   </g>\n   <g id=\"patch_11\">\n    <path clip-path=\"url(#pdab5605b8f)\" d=\"M 318.399716 224.64 \nL 348.83608 224.64 \nL 348.83608 224.64 \nL 318.399716 224.64 \nz\n\" style=\"fill:#1f77b4;\"/>\n   </g>\n   <g id=\"patch_12\">\n    <path clip-path=\"url(#pdab5605b8f)\" d=\"M 348.83608 224.64 \nL 379.272443 224.64 \nL 379.272443 224.64 \nL 348.83608 224.64 \nz\n\" style=\"fill:#1f77b4;\"/>\n   </g>\n   <g id=\"patch_13\">\n    <path clip-path=\"url(#pdab5605b8f)\" d=\"M 74.908807 224.64 \nL 105.34517 224.64 \nL 105.34517 224.64 \nL 74.908807 224.64 \nz\n\" style=\"fill:#ff7f0e;\"/>\n   </g>\n   <g id=\"patch_14\">\n    <path clip-path=\"url(#pdab5605b8f)\" d=\"M 105.34517 224.64 \nL 135.781534 224.64 \nL 135.781534 224.64 \nL 105.34517 224.64 \nz\n\" style=\"fill:#ff7f0e;\"/>\n   </g>\n   <g id=\"patch_15\">\n    <path clip-path=\"url(#pdab5605b8f)\" d=\"M 135.781534 224.64 \nL 166.217898 224.64 \nL 166.217898 224.64 \nL 135.781534 224.64 \nz\n\" style=\"fill:#ff7f0e;\"/>\n   </g>\n   <g id=\"patch_16\">\n    <path clip-path=\"url(#pdab5605b8f)\" d=\"M 166.217898 224.64 \nL 196.654261 224.64 \nL 196.654261 224.64 \nL 166.217898 224.64 \nz\n\" style=\"fill:#ff7f0e;\"/>\n   </g>\n   <g id=\"patch_17\">\n    <path clip-path=\"url(#pdab5605b8f)\" d=\"M 196.654261 224.64 \nL 227.090625 224.64 \nL 227.090625 224.64 \nL 196.654261 224.64 \nz\n\" style=\"fill:#ff7f0e;\"/>\n   </g>\n   <g id=\"patch_18\">\n    <path clip-path=\"url(#pdab5605b8f)\" d=\"M 227.090625 224.64 \nL 257.526989 224.64 \nL 257.526989 224.64 \nL 227.090625 224.64 \nz\n\" style=\"fill:#ff7f0e;\"/>\n   </g>\n   <g id=\"patch_19\">\n    <path clip-path=\"url(#pdab5605b8f)\" d=\"M 257.526989 224.64 \nL 287.963352 224.64 \nL 287.963352 224.64 \nL 257.526989 224.64 \nz\n\" style=\"fill:#ff7f0e;\"/>\n   </g>\n   <g id=\"patch_20\">\n    <path clip-path=\"url(#pdab5605b8f)\" d=\"M 287.963352 224.64 \nL 318.399716 224.64 \nL 318.399716 224.64 \nL 287.963352 224.64 \nz\n\" style=\"fill:#ff7f0e;\"/>\n   </g>\n   <g id=\"patch_21\">\n    <path clip-path=\"url(#pdab5605b8f)\" d=\"M 318.399716 224.64 \nL 348.83608 224.64 \nL 348.83608 224.64 \nL 318.399716 224.64 \nz\n\" style=\"fill:#ff7f0e;\"/>\n   </g>\n   <g id=\"patch_22\">\n    <path clip-path=\"url(#pdab5605b8f)\" d=\"M 348.83608 224.64 \nL 379.272443 224.64 \nL 379.272443 17.554286 \nL 348.83608 17.554286 \nz\n\" style=\"fill:#ff7f0e;\"/>\n   </g>\n   <g id=\"patch_23\">\n    <path clip-path=\"url(#pdab5605b8f)\" d=\"M 74.908807 224.64 \nL 105.34517 224.64 \nL 105.34517 17.554286 \nL 74.908807 17.554286 \nz\n\" style=\"fill:#2ca02c;\"/>\n   </g>\n   <g id=\"patch_24\">\n    <path clip-path=\"url(#pdab5605b8f)\" d=\"M 105.34517 224.64 \nL 135.781534 224.64 \nL 135.781534 224.64 \nL 105.34517 224.64 \nz\n\" style=\"fill:#2ca02c;\"/>\n   </g>\n   <g id=\"patch_25\">\n    <path clip-path=\"url(#pdab5605b8f)\" d=\"M 135.781534 224.64 \nL 166.217898 224.64 \nL 166.217898 224.64 \nL 135.781534 224.64 \nz\n\" style=\"fill:#2ca02c;\"/>\n   </g>\n   <g id=\"patch_26\">\n    <path clip-path=\"url(#pdab5605b8f)\" d=\"M 166.217898 224.64 \nL 196.654261 224.64 \nL 196.654261 224.64 \nL 166.217898 224.64 \nz\n\" style=\"fill:#2ca02c;\"/>\n   </g>\n   <g id=\"patch_27\">\n    <path clip-path=\"url(#pdab5605b8f)\" d=\"M 196.654261 224.64 \nL 227.090625 224.64 \nL 227.090625 224.64 \nL 196.654261 224.64 \nz\n\" style=\"fill:#2ca02c;\"/>\n   </g>\n   <g id=\"patch_28\">\n    <path clip-path=\"url(#pdab5605b8f)\" d=\"M 227.090625 224.64 \nL 257.526989 224.64 \nL 257.526989 224.64 \nL 227.090625 224.64 \nz\n\" style=\"fill:#2ca02c;\"/>\n   </g>\n   <g id=\"patch_29\">\n    <path clip-path=\"url(#pdab5605b8f)\" d=\"M 257.526989 224.64 \nL 287.963352 224.64 \nL 287.963352 224.64 \nL 257.526989 224.64 \nz\n\" style=\"fill:#2ca02c;\"/>\n   </g>\n   <g id=\"patch_30\">\n    <path clip-path=\"url(#pdab5605b8f)\" d=\"M 287.963352 224.64 \nL 318.399716 224.64 \nL 318.399716 224.64 \nL 287.963352 224.64 \nz\n\" style=\"fill:#2ca02c;\"/>\n   </g>\n   <g id=\"patch_31\">\n    <path clip-path=\"url(#pdab5605b8f)\" d=\"M 318.399716 224.64 \nL 348.83608 224.64 \nL 348.83608 224.64 \nL 318.399716 224.64 \nz\n\" style=\"fill:#2ca02c;\"/>\n   </g>\n   <g id=\"patch_32\">\n    <path clip-path=\"url(#pdab5605b8f)\" d=\"M 348.83608 224.64 \nL 379.272443 224.64 \nL 379.272443 224.64 \nL 348.83608 224.64 \nz\n\" style=\"fill:#2ca02c;\"/>\n   </g>\n   <g id=\"patch_33\">\n    <path clip-path=\"url(#pdab5605b8f)\" d=\"M 74.908807 224.64 \nL 105.34517 224.64 \nL 105.34517 17.554286 \nL 74.908807 17.554286 \nz\n\" style=\"fill:#d62728;\"/>\n   </g>\n   <g id=\"patch_34\">\n    <path clip-path=\"url(#pdab5605b8f)\" d=\"M 105.34517 224.64 \nL 135.781534 224.64 \nL 135.781534 224.64 \nL 105.34517 224.64 \nz\n\" style=\"fill:#d62728;\"/>\n   </g>\n   <g id=\"patch_35\">\n    <path clip-path=\"url(#pdab5605b8f)\" d=\"M 135.781534 224.64 \nL 166.217898 224.64 \nL 166.217898 224.64 \nL 135.781534 224.64 \nz\n\" style=\"fill:#d62728;\"/>\n   </g>\n   <g id=\"patch_36\">\n    <path clip-path=\"url(#pdab5605b8f)\" d=\"M 166.217898 224.64 \nL 196.654261 224.64 \nL 196.654261 224.64 \nL 166.217898 224.64 \nz\n\" style=\"fill:#d62728;\"/>\n   </g>\n   <g id=\"patch_37\">\n    <path clip-path=\"url(#pdab5605b8f)\" d=\"M 196.654261 224.64 \nL 227.090625 224.64 \nL 227.090625 224.64 \nL 196.654261 224.64 \nz\n\" style=\"fill:#d62728;\"/>\n   </g>\n   <g id=\"patch_38\">\n    <path clip-path=\"url(#pdab5605b8f)\" d=\"M 227.090625 224.64 \nL 257.526989 224.64 \nL 257.526989 224.64 \nL 227.090625 224.64 \nz\n\" style=\"fill:#d62728;\"/>\n   </g>\n   <g id=\"patch_39\">\n    <path clip-path=\"url(#pdab5605b8f)\" d=\"M 257.526989 224.64 \nL 287.963352 224.64 \nL 287.963352 224.64 \nL 257.526989 224.64 \nz\n\" style=\"fill:#d62728;\"/>\n   </g>\n   <g id=\"patch_40\">\n    <path clip-path=\"url(#pdab5605b8f)\" d=\"M 287.963352 224.64 \nL 318.399716 224.64 \nL 318.399716 224.64 \nL 287.963352 224.64 \nz\n\" style=\"fill:#d62728;\"/>\n   </g>\n   <g id=\"patch_41\">\n    <path clip-path=\"url(#pdab5605b8f)\" d=\"M 318.399716 224.64 \nL 348.83608 224.64 \nL 348.83608 224.64 \nL 318.399716 224.64 \nz\n\" style=\"fill:#d62728;\"/>\n   </g>\n   <g id=\"patch_42\">\n    <path clip-path=\"url(#pdab5605b8f)\" d=\"M 348.83608 224.64 \nL 379.272443 224.64 \nL 379.272443 224.64 \nL 348.83608 224.64 \nz\n\" style=\"fill:#d62728;\"/>\n   </g>\n   <g id=\"patch_43\">\n    <path clip-path=\"url(#pdab5605b8f)\" d=\"M 74.908807 224.64 \nL 105.34517 224.64 \nL 105.34517 17.554286 \nL 74.908807 17.554286 \nz\n\" style=\"fill:#9467bd;\"/>\n   </g>\n   <g id=\"patch_44\">\n    <path clip-path=\"url(#pdab5605b8f)\" d=\"M 105.34517 224.64 \nL 135.781534 224.64 \nL 135.781534 224.64 \nL 105.34517 224.64 \nz\n\" style=\"fill:#9467bd;\"/>\n   </g>\n   <g id=\"patch_45\">\n    <path clip-path=\"url(#pdab5605b8f)\" d=\"M 135.781534 224.64 \nL 166.217898 224.64 \nL 166.217898 224.64 \nL 135.781534 224.64 \nz\n\" style=\"fill:#9467bd;\"/>\n   </g>\n   <g id=\"patch_46\">\n    <path clip-path=\"url(#pdab5605b8f)\" d=\"M 166.217898 224.64 \nL 196.654261 224.64 \nL 196.654261 224.64 \nL 166.217898 224.64 \nz\n\" style=\"fill:#9467bd;\"/>\n   </g>\n   <g id=\"patch_47\">\n    <path clip-path=\"url(#pdab5605b8f)\" d=\"M 196.654261 224.64 \nL 227.090625 224.64 \nL 227.090625 224.64 \nL 196.654261 224.64 \nz\n\" style=\"fill:#9467bd;\"/>\n   </g>\n   <g id=\"patch_48\">\n    <path clip-path=\"url(#pdab5605b8f)\" d=\"M 227.090625 224.64 \nL 257.526989 224.64 \nL 257.526989 224.64 \nL 227.090625 224.64 \nz\n\" style=\"fill:#9467bd;\"/>\n   </g>\n   <g id=\"patch_49\">\n    <path clip-path=\"url(#pdab5605b8f)\" d=\"M 257.526989 224.64 \nL 287.963352 224.64 \nL 287.963352 224.64 \nL 257.526989 224.64 \nz\n\" style=\"fill:#9467bd;\"/>\n   </g>\n   <g id=\"patch_50\">\n    <path clip-path=\"url(#pdab5605b8f)\" d=\"M 287.963352 224.64 \nL 318.399716 224.64 \nL 318.399716 224.64 \nL 287.963352 224.64 \nz\n\" style=\"fill:#9467bd;\"/>\n   </g>\n   <g id=\"patch_51\">\n    <path clip-path=\"url(#pdab5605b8f)\" d=\"M 318.399716 224.64 \nL 348.83608 224.64 \nL 348.83608 224.64 \nL 318.399716 224.64 \nz\n\" style=\"fill:#9467bd;\"/>\n   </g>\n   <g id=\"patch_52\">\n    <path clip-path=\"url(#pdab5605b8f)\" d=\"M 348.83608 224.64 \nL 379.272443 224.64 \nL 379.272443 224.64 \nL 348.83608 224.64 \nz\n\" style=\"fill:#9467bd;\"/>\n   </g>\n   <g id=\"patch_53\">\n    <path clip-path=\"url(#pdab5605b8f)\" d=\"M 74.908807 224.64 \nL 105.34517 224.64 \nL 105.34517 17.554286 \nL 74.908807 17.554286 \nz\n\" style=\"fill:#8c564b;\"/>\n   </g>\n   <g id=\"patch_54\">\n    <path clip-path=\"url(#pdab5605b8f)\" d=\"M 105.34517 224.64 \nL 135.781534 224.64 \nL 135.781534 224.64 \nL 105.34517 224.64 \nz\n\" style=\"fill:#8c564b;\"/>\n   </g>\n   <g id=\"patch_55\">\n    <path clip-path=\"url(#pdab5605b8f)\" d=\"M 135.781534 224.64 \nL 166.217898 224.64 \nL 166.217898 224.64 \nL 135.781534 224.64 \nz\n\" style=\"fill:#8c564b;\"/>\n   </g>\n   <g id=\"patch_56\">\n    <path clip-path=\"url(#pdab5605b8f)\" d=\"M 166.217898 224.64 \nL 196.654261 224.64 \nL 196.654261 224.64 \nL 166.217898 224.64 \nz\n\" style=\"fill:#8c564b;\"/>\n   </g>\n   <g id=\"patch_57\">\n    <path clip-path=\"url(#pdab5605b8f)\" d=\"M 196.654261 224.64 \nL 227.090625 224.64 \nL 227.090625 224.64 \nL 196.654261 224.64 \nz\n\" style=\"fill:#8c564b;\"/>\n   </g>\n   <g id=\"patch_58\">\n    <path clip-path=\"url(#pdab5605b8f)\" d=\"M 227.090625 224.64 \nL 257.526989 224.64 \nL 257.526989 224.64 \nL 227.090625 224.64 \nz\n\" style=\"fill:#8c564b;\"/>\n   </g>\n   <g id=\"patch_59\">\n    <path clip-path=\"url(#pdab5605b8f)\" d=\"M 257.526989 224.64 \nL 287.963352 224.64 \nL 287.963352 224.64 \nL 257.526989 224.64 \nz\n\" style=\"fill:#8c564b;\"/>\n   </g>\n   <g id=\"patch_60\">\n    <path clip-path=\"url(#pdab5605b8f)\" d=\"M 287.963352 224.64 \nL 318.399716 224.64 \nL 318.399716 224.64 \nL 287.963352 224.64 \nz\n\" style=\"fill:#8c564b;\"/>\n   </g>\n   <g id=\"patch_61\">\n    <path clip-path=\"url(#pdab5605b8f)\" d=\"M 318.399716 224.64 \nL 348.83608 224.64 \nL 348.83608 224.64 \nL 318.399716 224.64 \nz\n\" style=\"fill:#8c564b;\"/>\n   </g>\n   <g id=\"patch_62\">\n    <path clip-path=\"url(#pdab5605b8f)\" d=\"M 348.83608 224.64 \nL 379.272443 224.64 \nL 379.272443 224.64 \nL 348.83608 224.64 \nz\n\" style=\"fill:#8c564b;\"/>\n   </g>\n   <g id=\"patch_63\">\n    <path clip-path=\"url(#pdab5605b8f)\" d=\"M 74.908807 224.64 \nL 105.34517 224.64 \nL 105.34517 17.554286 \nL 74.908807 17.554286 \nz\n\" style=\"fill:#e377c2;\"/>\n   </g>\n   <g id=\"patch_64\">\n    <path clip-path=\"url(#pdab5605b8f)\" d=\"M 105.34517 224.64 \nL 135.781534 224.64 \nL 135.781534 224.64 \nL 105.34517 224.64 \nz\n\" style=\"fill:#e377c2;\"/>\n   </g>\n   <g id=\"patch_65\">\n    <path clip-path=\"url(#pdab5605b8f)\" d=\"M 135.781534 224.64 \nL 166.217898 224.64 \nL 166.217898 224.64 \nL 135.781534 224.64 \nz\n\" style=\"fill:#e377c2;\"/>\n   </g>\n   <g id=\"patch_66\">\n    <path clip-path=\"url(#pdab5605b8f)\" d=\"M 166.217898 224.64 \nL 196.654261 224.64 \nL 196.654261 224.64 \nL 166.217898 224.64 \nz\n\" style=\"fill:#e377c2;\"/>\n   </g>\n   <g id=\"patch_67\">\n    <path clip-path=\"url(#pdab5605b8f)\" d=\"M 196.654261 224.64 \nL 227.090625 224.64 \nL 227.090625 224.64 \nL 196.654261 224.64 \nz\n\" style=\"fill:#e377c2;\"/>\n   </g>\n   <g id=\"patch_68\">\n    <path clip-path=\"url(#pdab5605b8f)\" d=\"M 227.090625 224.64 \nL 257.526989 224.64 \nL 257.526989 224.64 \nL 227.090625 224.64 \nz\n\" style=\"fill:#e377c2;\"/>\n   </g>\n   <g id=\"patch_69\">\n    <path clip-path=\"url(#pdab5605b8f)\" d=\"M 257.526989 224.64 \nL 287.963352 224.64 \nL 287.963352 224.64 \nL 257.526989 224.64 \nz\n\" style=\"fill:#e377c2;\"/>\n   </g>\n   <g id=\"patch_70\">\n    <path clip-path=\"url(#pdab5605b8f)\" d=\"M 287.963352 224.64 \nL 318.399716 224.64 \nL 318.399716 224.64 \nL 287.963352 224.64 \nz\n\" style=\"fill:#e377c2;\"/>\n   </g>\n   <g id=\"patch_71\">\n    <path clip-path=\"url(#pdab5605b8f)\" d=\"M 318.399716 224.64 \nL 348.83608 224.64 \nL 348.83608 224.64 \nL 318.399716 224.64 \nz\n\" style=\"fill:#e377c2;\"/>\n   </g>\n   <g id=\"patch_72\">\n    <path clip-path=\"url(#pdab5605b8f)\" d=\"M 348.83608 224.64 \nL 379.272443 224.64 \nL 379.272443 224.64 \nL 348.83608 224.64 \nz\n\" style=\"fill:#e377c2;\"/>\n   </g>\n   <g id=\"patch_73\">\n    <path clip-path=\"url(#pdab5605b8f)\" d=\"M 74.908807 224.64 \nL 105.34517 224.64 \nL 105.34517 17.554286 \nL 74.908807 17.554286 \nz\n\" style=\"fill:#7f7f7f;\"/>\n   </g>\n   <g id=\"patch_74\">\n    <path clip-path=\"url(#pdab5605b8f)\" d=\"M 105.34517 224.64 \nL 135.781534 224.64 \nL 135.781534 224.64 \nL 105.34517 224.64 \nz\n\" style=\"fill:#7f7f7f;\"/>\n   </g>\n   <g id=\"patch_75\">\n    <path clip-path=\"url(#pdab5605b8f)\" d=\"M 135.781534 224.64 \nL 166.217898 224.64 \nL 166.217898 224.64 \nL 135.781534 224.64 \nz\n\" style=\"fill:#7f7f7f;\"/>\n   </g>\n   <g id=\"patch_76\">\n    <path clip-path=\"url(#pdab5605b8f)\" d=\"M 166.217898 224.64 \nL 196.654261 224.64 \nL 196.654261 224.64 \nL 166.217898 224.64 \nz\n\" style=\"fill:#7f7f7f;\"/>\n   </g>\n   <g id=\"patch_77\">\n    <path clip-path=\"url(#pdab5605b8f)\" d=\"M 196.654261 224.64 \nL 227.090625 224.64 \nL 227.090625 224.64 \nL 196.654261 224.64 \nz\n\" style=\"fill:#7f7f7f;\"/>\n   </g>\n   <g id=\"patch_78\">\n    <path clip-path=\"url(#pdab5605b8f)\" d=\"M 227.090625 224.64 \nL 257.526989 224.64 \nL 257.526989 224.64 \nL 227.090625 224.64 \nz\n\" style=\"fill:#7f7f7f;\"/>\n   </g>\n   <g id=\"patch_79\">\n    <path clip-path=\"url(#pdab5605b8f)\" d=\"M 257.526989 224.64 \nL 287.963352 224.64 \nL 287.963352 224.64 \nL 257.526989 224.64 \nz\n\" style=\"fill:#7f7f7f;\"/>\n   </g>\n   <g id=\"patch_80\">\n    <path clip-path=\"url(#pdab5605b8f)\" d=\"M 287.963352 224.64 \nL 318.399716 224.64 \nL 318.399716 224.64 \nL 287.963352 224.64 \nz\n\" style=\"fill:#7f7f7f;\"/>\n   </g>\n   <g id=\"patch_81\">\n    <path clip-path=\"url(#pdab5605b8f)\" d=\"M 318.399716 224.64 \nL 348.83608 224.64 \nL 348.83608 224.64 \nL 318.399716 224.64 \nz\n\" style=\"fill:#7f7f7f;\"/>\n   </g>\n   <g id=\"patch_82\">\n    <path clip-path=\"url(#pdab5605b8f)\" d=\"M 348.83608 224.64 \nL 379.272443 224.64 \nL 379.272443 224.64 \nL 348.83608 224.64 \nz\n\" style=\"fill:#7f7f7f;\"/>\n   </g>\n   <g id=\"patch_83\">\n    <path clip-path=\"url(#pdab5605b8f)\" d=\"M 74.908807 224.64 \nL 105.34517 224.64 \nL 105.34517 17.554286 \nL 74.908807 17.554286 \nz\n\" style=\"fill:#bcbd22;\"/>\n   </g>\n   <g id=\"patch_84\">\n    <path clip-path=\"url(#pdab5605b8f)\" d=\"M 105.34517 224.64 \nL 135.781534 224.64 \nL 135.781534 224.64 \nL 105.34517 224.64 \nz\n\" style=\"fill:#bcbd22;\"/>\n   </g>\n   <g id=\"patch_85\">\n    <path clip-path=\"url(#pdab5605b8f)\" d=\"M 135.781534 224.64 \nL 166.217898 224.64 \nL 166.217898 224.64 \nL 135.781534 224.64 \nz\n\" style=\"fill:#bcbd22;\"/>\n   </g>\n   <g id=\"patch_86\">\n    <path clip-path=\"url(#pdab5605b8f)\" d=\"M 166.217898 224.64 \nL 196.654261 224.64 \nL 196.654261 224.64 \nL 166.217898 224.64 \nz\n\" style=\"fill:#bcbd22;\"/>\n   </g>\n   <g id=\"patch_87\">\n    <path clip-path=\"url(#pdab5605b8f)\" d=\"M 196.654261 224.64 \nL 227.090625 224.64 \nL 227.090625 224.64 \nL 196.654261 224.64 \nz\n\" style=\"fill:#bcbd22;\"/>\n   </g>\n   <g id=\"patch_88\">\n    <path clip-path=\"url(#pdab5605b8f)\" d=\"M 227.090625 224.64 \nL 257.526989 224.64 \nL 257.526989 224.64 \nL 227.090625 224.64 \nz\n\" style=\"fill:#bcbd22;\"/>\n   </g>\n   <g id=\"patch_89\">\n    <path clip-path=\"url(#pdab5605b8f)\" d=\"M 257.526989 224.64 \nL 287.963352 224.64 \nL 287.963352 224.64 \nL 257.526989 224.64 \nz\n\" style=\"fill:#bcbd22;\"/>\n   </g>\n   <g id=\"patch_90\">\n    <path clip-path=\"url(#pdab5605b8f)\" d=\"M 287.963352 224.64 \nL 318.399716 224.64 \nL 318.399716 224.64 \nL 287.963352 224.64 \nz\n\" style=\"fill:#bcbd22;\"/>\n   </g>\n   <g id=\"patch_91\">\n    <path clip-path=\"url(#pdab5605b8f)\" d=\"M 318.399716 224.64 \nL 348.83608 224.64 \nL 348.83608 224.64 \nL 318.399716 224.64 \nz\n\" style=\"fill:#bcbd22;\"/>\n   </g>\n   <g id=\"patch_92\">\n    <path clip-path=\"url(#pdab5605b8f)\" d=\"M 348.83608 224.64 \nL 379.272443 224.64 \nL 379.272443 224.64 \nL 348.83608 224.64 \nz\n\" style=\"fill:#bcbd22;\"/>\n   </g>\n   <g id=\"patch_93\">\n    <path clip-path=\"url(#pdab5605b8f)\" d=\"M 74.908807 224.64 \nL 105.34517 224.64 \nL 105.34517 17.554286 \nL 74.908807 17.554286 \nz\n\" style=\"fill:#17becf;\"/>\n   </g>\n   <g id=\"patch_94\">\n    <path clip-path=\"url(#pdab5605b8f)\" d=\"M 105.34517 224.64 \nL 135.781534 224.64 \nL 135.781534 224.64 \nL 105.34517 224.64 \nz\n\" style=\"fill:#17becf;\"/>\n   </g>\n   <g id=\"patch_95\">\n    <path clip-path=\"url(#pdab5605b8f)\" d=\"M 135.781534 224.64 \nL 166.217898 224.64 \nL 166.217898 224.64 \nL 135.781534 224.64 \nz\n\" style=\"fill:#17becf;\"/>\n   </g>\n   <g id=\"patch_96\">\n    <path clip-path=\"url(#pdab5605b8f)\" d=\"M 166.217898 224.64 \nL 196.654261 224.64 \nL 196.654261 224.64 \nL 166.217898 224.64 \nz\n\" style=\"fill:#17becf;\"/>\n   </g>\n   <g id=\"patch_97\">\n    <path clip-path=\"url(#pdab5605b8f)\" d=\"M 196.654261 224.64 \nL 227.090625 224.64 \nL 227.090625 224.64 \nL 196.654261 224.64 \nz\n\" style=\"fill:#17becf;\"/>\n   </g>\n   <g id=\"patch_98\">\n    <path clip-path=\"url(#pdab5605b8f)\" d=\"M 227.090625 224.64 \nL 257.526989 224.64 \nL 257.526989 224.64 \nL 227.090625 224.64 \nz\n\" style=\"fill:#17becf;\"/>\n   </g>\n   <g id=\"patch_99\">\n    <path clip-path=\"url(#pdab5605b8f)\" d=\"M 257.526989 224.64 \nL 287.963352 224.64 \nL 287.963352 224.64 \nL 257.526989 224.64 \nz\n\" style=\"fill:#17becf;\"/>\n   </g>\n   <g id=\"patch_100\">\n    <path clip-path=\"url(#pdab5605b8f)\" d=\"M 287.963352 224.64 \nL 318.399716 224.64 \nL 318.399716 224.64 \nL 287.963352 224.64 \nz\n\" style=\"fill:#17becf;\"/>\n   </g>\n   <g id=\"patch_101\">\n    <path clip-path=\"url(#pdab5605b8f)\" d=\"M 318.399716 224.64 \nL 348.83608 224.64 \nL 348.83608 224.64 \nL 318.399716 224.64 \nz\n\" style=\"fill:#17becf;\"/>\n   </g>\n   <g id=\"patch_102\">\n    <path clip-path=\"url(#pdab5605b8f)\" d=\"M 348.83608 224.64 \nL 379.272443 224.64 \nL 379.272443 224.64 \nL 348.83608 224.64 \nz\n\" style=\"fill:#17becf;\"/>\n   </g>\n   <g id=\"patch_103\">\n    <path clip-path=\"url(#pdab5605b8f)\" d=\"M 74.908807 224.64 \nL 105.34517 224.64 \nL 105.34517 17.554286 \nL 74.908807 17.554286 \nz\n\" style=\"fill:#1f77b4;\"/>\n   </g>\n   <g id=\"patch_104\">\n    <path clip-path=\"url(#pdab5605b8f)\" d=\"M 105.34517 224.64 \nL 135.781534 224.64 \nL 135.781534 224.64 \nL 105.34517 224.64 \nz\n\" style=\"fill:#1f77b4;\"/>\n   </g>\n   <g id=\"patch_105\">\n    <path clip-path=\"url(#pdab5605b8f)\" d=\"M 135.781534 224.64 \nL 166.217898 224.64 \nL 166.217898 224.64 \nL 135.781534 224.64 \nz\n\" style=\"fill:#1f77b4;\"/>\n   </g>\n   <g id=\"patch_106\">\n    <path clip-path=\"url(#pdab5605b8f)\" d=\"M 166.217898 224.64 \nL 196.654261 224.64 \nL 196.654261 224.64 \nL 166.217898 224.64 \nz\n\" style=\"fill:#1f77b4;\"/>\n   </g>\n   <g id=\"patch_107\">\n    <path clip-path=\"url(#pdab5605b8f)\" d=\"M 196.654261 224.64 \nL 227.090625 224.64 \nL 227.090625 224.64 \nL 196.654261 224.64 \nz\n\" style=\"fill:#1f77b4;\"/>\n   </g>\n   <g id=\"patch_108\">\n    <path clip-path=\"url(#pdab5605b8f)\" d=\"M 227.090625 224.64 \nL 257.526989 224.64 \nL 257.526989 224.64 \nL 227.090625 224.64 \nz\n\" style=\"fill:#1f77b4;\"/>\n   </g>\n   <g id=\"patch_109\">\n    <path clip-path=\"url(#pdab5605b8f)\" d=\"M 257.526989 224.64 \nL 287.963352 224.64 \nL 287.963352 224.64 \nL 257.526989 224.64 \nz\n\" style=\"fill:#1f77b4;\"/>\n   </g>\n   <g id=\"patch_110\">\n    <path clip-path=\"url(#pdab5605b8f)\" d=\"M 287.963352 224.64 \nL 318.399716 224.64 \nL 318.399716 224.64 \nL 287.963352 224.64 \nz\n\" style=\"fill:#1f77b4;\"/>\n   </g>\n   <g id=\"patch_111\">\n    <path clip-path=\"url(#pdab5605b8f)\" d=\"M 318.399716 224.64 \nL 348.83608 224.64 \nL 348.83608 224.64 \nL 318.399716 224.64 \nz\n\" style=\"fill:#1f77b4;\"/>\n   </g>\n   <g id=\"patch_112\">\n    <path clip-path=\"url(#pdab5605b8f)\" d=\"M 348.83608 224.64 \nL 379.272443 224.64 \nL 379.272443 224.64 \nL 348.83608 224.64 \nz\n\" style=\"fill:#1f77b4;\"/>\n   </g>\n   <g id=\"matplotlib.axis_1\">\n    <g id=\"xtick_1\">\n     <g id=\"line2d_1\">\n      <defs>\n       <path d=\"M 0 0 \nL 0 3.5 \n\" id=\"mc6c3e5d771\" style=\"stroke:#000000;stroke-width:0.8;\"/>\n      </defs>\n      <g>\n       <use style=\"stroke:#000000;stroke-width:0.8;\" x=\"74.908807\" xlink:href=\"#mc6c3e5d771\" y=\"224.64\"/>\n      </g>\n     </g>\n     <g id=\"text_1\">\n      <!-- 0.0 -->\n      <g transform=\"translate(66.957244 239.238438)scale(0.1 -0.1)\">\n       <defs>\n        <path d=\"M 2034 4250 \nQ 1547 4250 1301 3770 \nQ 1056 3291 1056 2328 \nQ 1056 1369 1301 889 \nQ 1547 409 2034 409 \nQ 2525 409 2770 889 \nQ 3016 1369 3016 2328 \nQ 3016 3291 2770 3770 \nQ 2525 4250 2034 4250 \nz\nM 2034 4750 \nQ 2819 4750 3233 4129 \nQ 3647 3509 3647 2328 \nQ 3647 1150 3233 529 \nQ 2819 -91 2034 -91 \nQ 1250 -91 836 529 \nQ 422 1150 422 2328 \nQ 422 3509 836 4129 \nQ 1250 4750 2034 4750 \nz\n\" id=\"DejaVuSans-30\" transform=\"scale(0.015625)\"/>\n        <path d=\"M 684 794 \nL 1344 794 \nL 1344 0 \nL 684 0 \nL 684 794 \nz\n\" id=\"DejaVuSans-2e\" transform=\"scale(0.015625)\"/>\n       </defs>\n       <use xlink:href=\"#DejaVuSans-30\"/>\n       <use x=\"63.623047\" xlink:href=\"#DejaVuSans-2e\"/>\n       <use x=\"95.410156\" xlink:href=\"#DejaVuSans-30\"/>\n      </g>\n     </g>\n    </g>\n    <g id=\"xtick_2\">\n     <g id=\"line2d_2\">\n      <g>\n       <use style=\"stroke:#000000;stroke-width:0.8;\" x=\"113.397629\" xlink:href=\"#mc6c3e5d771\" y=\"224.64\"/>\n      </g>\n     </g>\n     <g id=\"text_2\">\n      <!-- 0.2 -->\n      <g transform=\"translate(105.446066 239.238438)scale(0.1 -0.1)\">\n       <defs>\n        <path d=\"M 1228 531 \nL 3431 531 \nL 3431 0 \nL 469 0 \nL 469 531 \nQ 828 903 1448 1529 \nQ 2069 2156 2228 2338 \nQ 2531 2678 2651 2914 \nQ 2772 3150 2772 3378 \nQ 2772 3750 2511 3984 \nQ 2250 4219 1831 4219 \nQ 1534 4219 1204 4116 \nQ 875 4013 500 3803 \nL 500 4441 \nQ 881 4594 1212 4672 \nQ 1544 4750 1819 4750 \nQ 2544 4750 2975 4387 \nQ 3406 4025 3406 3419 \nQ 3406 3131 3298 2873 \nQ 3191 2616 2906 2266 \nQ 2828 2175 2409 1742 \nQ 1991 1309 1228 531 \nz\n\" id=\"DejaVuSans-32\" transform=\"scale(0.015625)\"/>\n       </defs>\n       <use xlink:href=\"#DejaVuSans-30\"/>\n       <use x=\"63.623047\" xlink:href=\"#DejaVuSans-2e\"/>\n       <use x=\"95.410156\" xlink:href=\"#DejaVuSans-32\"/>\n      </g>\n     </g>\n    </g>\n    <g id=\"xtick_3\">\n     <g id=\"line2d_3\">\n      <g>\n       <use style=\"stroke:#000000;stroke-width:0.8;\" x=\"151.88645\" xlink:href=\"#mc6c3e5d771\" y=\"224.64\"/>\n      </g>\n     </g>\n     <g id=\"text_3\">\n      <!-- 0.4 -->\n      <g transform=\"translate(143.934888 239.238438)scale(0.1 -0.1)\">\n       <defs>\n        <path d=\"M 2419 4116 \nL 825 1625 \nL 2419 1625 \nL 2419 4116 \nz\nM 2253 4666 \nL 3047 4666 \nL 3047 1625 \nL 3713 1625 \nL 3713 1100 \nL 3047 1100 \nL 3047 0 \nL 2419 0 \nL 2419 1100 \nL 313 1100 \nL 313 1709 \nL 2253 4666 \nz\n\" id=\"DejaVuSans-34\" transform=\"scale(0.015625)\"/>\n       </defs>\n       <use xlink:href=\"#DejaVuSans-30\"/>\n       <use x=\"63.623047\" xlink:href=\"#DejaVuSans-2e\"/>\n       <use x=\"95.410156\" xlink:href=\"#DejaVuSans-34\"/>\n      </g>\n     </g>\n    </g>\n    <g id=\"xtick_4\">\n     <g id=\"line2d_4\">\n      <g>\n       <use style=\"stroke:#000000;stroke-width:0.8;\" x=\"190.375272\" xlink:href=\"#mc6c3e5d771\" y=\"224.64\"/>\n      </g>\n     </g>\n     <g id=\"text_4\">\n      <!-- 0.6 -->\n      <g transform=\"translate(182.423709 239.238438)scale(0.1 -0.1)\">\n       <defs>\n        <path d=\"M 2113 2584 \nQ 1688 2584 1439 2293 \nQ 1191 2003 1191 1497 \nQ 1191 994 1439 701 \nQ 1688 409 2113 409 \nQ 2538 409 2786 701 \nQ 3034 994 3034 1497 \nQ 3034 2003 2786 2293 \nQ 2538 2584 2113 2584 \nz\nM 3366 4563 \nL 3366 3988 \nQ 3128 4100 2886 4159 \nQ 2644 4219 2406 4219 \nQ 1781 4219 1451 3797 \nQ 1122 3375 1075 2522 \nQ 1259 2794 1537 2939 \nQ 1816 3084 2150 3084 \nQ 2853 3084 3261 2657 \nQ 3669 2231 3669 1497 \nQ 3669 778 3244 343 \nQ 2819 -91 2113 -91 \nQ 1303 -91 875 529 \nQ 447 1150 447 2328 \nQ 447 3434 972 4092 \nQ 1497 4750 2381 4750 \nQ 2619 4750 2861 4703 \nQ 3103 4656 3366 4563 \nz\n\" id=\"DejaVuSans-36\" transform=\"scale(0.015625)\"/>\n       </defs>\n       <use xlink:href=\"#DejaVuSans-30\"/>\n       <use x=\"63.623047\" xlink:href=\"#DejaVuSans-2e\"/>\n       <use x=\"95.410156\" xlink:href=\"#DejaVuSans-36\"/>\n      </g>\n     </g>\n    </g>\n    <g id=\"xtick_5\">\n     <g id=\"line2d_5\">\n      <g>\n       <use style=\"stroke:#000000;stroke-width:0.8;\" x=\"228.864094\" xlink:href=\"#mc6c3e5d771\" y=\"224.64\"/>\n      </g>\n     </g>\n     <g id=\"text_5\">\n      <!-- 0.8 -->\n      <g transform=\"translate(220.912531 239.238438)scale(0.1 -0.1)\">\n       <defs>\n        <path d=\"M 2034 2216 \nQ 1584 2216 1326 1975 \nQ 1069 1734 1069 1313 \nQ 1069 891 1326 650 \nQ 1584 409 2034 409 \nQ 2484 409 2743 651 \nQ 3003 894 3003 1313 \nQ 3003 1734 2745 1975 \nQ 2488 2216 2034 2216 \nz\nM 1403 2484 \nQ 997 2584 770 2862 \nQ 544 3141 544 3541 \nQ 544 4100 942 4425 \nQ 1341 4750 2034 4750 \nQ 2731 4750 3128 4425 \nQ 3525 4100 3525 3541 \nQ 3525 3141 3298 2862 \nQ 3072 2584 2669 2484 \nQ 3125 2378 3379 2068 \nQ 3634 1759 3634 1313 \nQ 3634 634 3220 271 \nQ 2806 -91 2034 -91 \nQ 1263 -91 848 271 \nQ 434 634 434 1313 \nQ 434 1759 690 2068 \nQ 947 2378 1403 2484 \nz\nM 1172 3481 \nQ 1172 3119 1398 2916 \nQ 1625 2713 2034 2713 \nQ 2441 2713 2670 2916 \nQ 2900 3119 2900 3481 \nQ 2900 3844 2670 4047 \nQ 2441 4250 2034 4250 \nQ 1625 4250 1398 4047 \nQ 1172 3844 1172 3481 \nz\n\" id=\"DejaVuSans-38\" transform=\"scale(0.015625)\"/>\n       </defs>\n       <use xlink:href=\"#DejaVuSans-30\"/>\n       <use x=\"63.623047\" xlink:href=\"#DejaVuSans-2e\"/>\n       <use x=\"95.410156\" xlink:href=\"#DejaVuSans-38\"/>\n      </g>\n     </g>\n    </g>\n    <g id=\"xtick_6\">\n     <g id=\"line2d_6\">\n      <g>\n       <use style=\"stroke:#000000;stroke-width:0.8;\" x=\"267.352915\" xlink:href=\"#mc6c3e5d771\" y=\"224.64\"/>\n      </g>\n     </g>\n     <g id=\"text_6\">\n      <!-- 1.0 -->\n      <g transform=\"translate(259.401353 239.238438)scale(0.1 -0.1)\">\n       <defs>\n        <path d=\"M 794 531 \nL 1825 531 \nL 1825 4091 \nL 703 3866 \nL 703 4441 \nL 1819 4666 \nL 2450 4666 \nL 2450 531 \nL 3481 531 \nL 3481 0 \nL 794 0 \nL 794 531 \nz\n\" id=\"DejaVuSans-31\" transform=\"scale(0.015625)\"/>\n       </defs>\n       <use xlink:href=\"#DejaVuSans-31\"/>\n       <use x=\"63.623047\" xlink:href=\"#DejaVuSans-2e\"/>\n       <use x=\"95.410156\" xlink:href=\"#DejaVuSans-30\"/>\n      </g>\n     </g>\n    </g>\n    <g id=\"xtick_7\">\n     <g id=\"line2d_7\">\n      <g>\n       <use style=\"stroke:#000000;stroke-width:0.8;\" x=\"305.841737\" xlink:href=\"#mc6c3e5d771\" y=\"224.64\"/>\n      </g>\n     </g>\n     <g id=\"text_7\">\n      <!-- 1.2 -->\n      <g transform=\"translate(297.890175 239.238438)scale(0.1 -0.1)\">\n       <use xlink:href=\"#DejaVuSans-31\"/>\n       <use x=\"63.623047\" xlink:href=\"#DejaVuSans-2e\"/>\n       <use x=\"95.410156\" xlink:href=\"#DejaVuSans-32\"/>\n      </g>\n     </g>\n    </g>\n    <g id=\"xtick_8\">\n     <g id=\"line2d_8\">\n      <g>\n       <use style=\"stroke:#000000;stroke-width:0.8;\" x=\"344.330559\" xlink:href=\"#mc6c3e5d771\" y=\"224.64\"/>\n      </g>\n     </g>\n     <g id=\"text_8\">\n      <!-- 1.4 -->\n      <g transform=\"translate(336.378996 239.238438)scale(0.1 -0.1)\">\n       <use xlink:href=\"#DejaVuSans-31\"/>\n       <use x=\"63.623047\" xlink:href=\"#DejaVuSans-2e\"/>\n       <use x=\"95.410156\" xlink:href=\"#DejaVuSans-34\"/>\n      </g>\n     </g>\n    </g>\n    <g id=\"xtick_9\">\n     <g id=\"line2d_9\">\n      <g>\n       <use style=\"stroke:#000000;stroke-width:0.8;\" x=\"382.819381\" xlink:href=\"#mc6c3e5d771\" y=\"224.64\"/>\n      </g>\n     </g>\n     <g id=\"text_9\">\n      <!-- 1.6 -->\n      <g transform=\"translate(374.867818 239.238438)scale(0.1 -0.1)\">\n       <use xlink:href=\"#DejaVuSans-31\"/>\n       <use x=\"63.623047\" xlink:href=\"#DejaVuSans-2e\"/>\n       <use x=\"95.410156\" xlink:href=\"#DejaVuSans-36\"/>\n      </g>\n     </g>\n    </g>\n    <g id=\"text_10\">\n     <!-- 1e7 -->\n     <g transform=\"translate(375.6125 251.916563)scale(0.1 -0.1)\">\n      <defs>\n       <path d=\"M 3597 1894 \nL 3597 1613 \nL 953 1613 \nQ 991 1019 1311 708 \nQ 1631 397 2203 397 \nQ 2534 397 2845 478 \nQ 3156 559 3463 722 \nL 3463 178 \nQ 3153 47 2828 -22 \nQ 2503 -91 2169 -91 \nQ 1331 -91 842 396 \nQ 353 884 353 1716 \nQ 353 2575 817 3079 \nQ 1281 3584 2069 3584 \nQ 2775 3584 3186 3129 \nQ 3597 2675 3597 1894 \nz\nM 3022 2063 \nQ 3016 2534 2758 2815 \nQ 2500 3097 2075 3097 \nQ 1594 3097 1305 2825 \nQ 1016 2553 972 2059 \nL 3022 2063 \nz\n\" id=\"DejaVuSans-65\" transform=\"scale(0.015625)\"/>\n       <path d=\"M 525 4666 \nL 3525 4666 \nL 3525 4397 \nL 1831 0 \nL 1172 0 \nL 2766 4134 \nL 525 4134 \nL 525 4666 \nz\n\" id=\"DejaVuSans-37\" transform=\"scale(0.015625)\"/>\n      </defs>\n      <use xlink:href=\"#DejaVuSans-31\"/>\n      <use x=\"63.623047\" xlink:href=\"#DejaVuSans-65\"/>\n      <use x=\"125.146484\" xlink:href=\"#DejaVuSans-37\"/>\n     </g>\n    </g>\n   </g>\n   <g id=\"matplotlib.axis_2\">\n    <g id=\"ytick_1\">\n     <g id=\"line2d_10\">\n      <defs>\n       <path d=\"M 0 0 \nL -3.5 0 \n\" id=\"m963be34dd0\" style=\"stroke:#000000;stroke-width:0.8;\"/>\n      </defs>\n      <g>\n       <use style=\"stroke:#000000;stroke-width:0.8;\" x=\"59.690625\" xlink:href=\"#m963be34dd0\" y=\"224.64\"/>\n      </g>\n     </g>\n     <g id=\"text_11\">\n      <!-- 0 -->\n      <g transform=\"translate(46.328125 228.439219)scale(0.1 -0.1)\">\n       <use xlink:href=\"#DejaVuSans-30\"/>\n      </g>\n     </g>\n    </g>\n    <g id=\"ytick_2\">\n     <g id=\"line2d_11\">\n      <g>\n       <use style=\"stroke:#000000;stroke-width:0.8;\" x=\"59.690625\" xlink:href=\"#m963be34dd0\" y=\"183.222857\"/>\n      </g>\n     </g>\n     <g id=\"text_12\">\n      <!-- 2000 -->\n      <g transform=\"translate(27.240625 187.022076)scale(0.1 -0.1)\">\n       <use xlink:href=\"#DejaVuSans-32\"/>\n       <use x=\"63.623047\" xlink:href=\"#DejaVuSans-30\"/>\n       <use x=\"127.246094\" xlink:href=\"#DejaVuSans-30\"/>\n       <use x=\"190.869141\" xlink:href=\"#DejaVuSans-30\"/>\n      </g>\n     </g>\n    </g>\n    <g id=\"ytick_3\">\n     <g id=\"line2d_12\">\n      <g>\n       <use style=\"stroke:#000000;stroke-width:0.8;\" x=\"59.690625\" xlink:href=\"#m963be34dd0\" y=\"141.805714\"/>\n      </g>\n     </g>\n     <g id=\"text_13\">\n      <!-- 4000 -->\n      <g transform=\"translate(27.240625 145.604933)scale(0.1 -0.1)\">\n       <use xlink:href=\"#DejaVuSans-34\"/>\n       <use x=\"63.623047\" xlink:href=\"#DejaVuSans-30\"/>\n       <use x=\"127.246094\" xlink:href=\"#DejaVuSans-30\"/>\n       <use x=\"190.869141\" xlink:href=\"#DejaVuSans-30\"/>\n      </g>\n     </g>\n    </g>\n    <g id=\"ytick_4\">\n     <g id=\"line2d_13\">\n      <g>\n       <use style=\"stroke:#000000;stroke-width:0.8;\" x=\"59.690625\" xlink:href=\"#m963be34dd0\" y=\"100.388571\"/>\n      </g>\n     </g>\n     <g id=\"text_14\">\n      <!-- 6000 -->\n      <g transform=\"translate(27.240625 104.18779)scale(0.1 -0.1)\">\n       <use xlink:href=\"#DejaVuSans-36\"/>\n       <use x=\"63.623047\" xlink:href=\"#DejaVuSans-30\"/>\n       <use x=\"127.246094\" xlink:href=\"#DejaVuSans-30\"/>\n       <use x=\"190.869141\" xlink:href=\"#DejaVuSans-30\"/>\n      </g>\n     </g>\n    </g>\n    <g id=\"ytick_5\">\n     <g id=\"line2d_14\">\n      <g>\n       <use style=\"stroke:#000000;stroke-width:0.8;\" x=\"59.690625\" xlink:href=\"#m963be34dd0\" y=\"58.971429\"/>\n      </g>\n     </g>\n     <g id=\"text_15\">\n      <!-- 8000 -->\n      <g transform=\"translate(27.240625 62.770647)scale(0.1 -0.1)\">\n       <use xlink:href=\"#DejaVuSans-38\"/>\n       <use x=\"63.623047\" xlink:href=\"#DejaVuSans-30\"/>\n       <use x=\"127.246094\" xlink:href=\"#DejaVuSans-30\"/>\n       <use x=\"190.869141\" xlink:href=\"#DejaVuSans-30\"/>\n      </g>\n     </g>\n    </g>\n    <g id=\"ytick_6\">\n     <g id=\"line2d_15\">\n      <g>\n       <use style=\"stroke:#000000;stroke-width:0.8;\" x=\"59.690625\" xlink:href=\"#m963be34dd0\" y=\"17.554286\"/>\n      </g>\n     </g>\n     <g id=\"text_16\">\n      <!-- 10000 -->\n      <g transform=\"translate(20.878125 21.353504)scale(0.1 -0.1)\">\n       <use xlink:href=\"#DejaVuSans-31\"/>\n       <use x=\"63.623047\" xlink:href=\"#DejaVuSans-30\"/>\n       <use x=\"127.246094\" xlink:href=\"#DejaVuSans-30\"/>\n       <use x=\"190.869141\" xlink:href=\"#DejaVuSans-30\"/>\n       <use x=\"254.492188\" xlink:href=\"#DejaVuSans-30\"/>\n      </g>\n     </g>\n    </g>\n    <g id=\"text_17\">\n     <!-- Frequency -->\n     <g transform=\"translate(14.798438 141.749688)rotate(-90)scale(0.1 -0.1)\">\n      <defs>\n       <path d=\"M 628 4666 \nL 3309 4666 \nL 3309 4134 \nL 1259 4134 \nL 1259 2759 \nL 3109 2759 \nL 3109 2228 \nL 1259 2228 \nL 1259 0 \nL 628 0 \nL 628 4666 \nz\n\" id=\"DejaVuSans-46\" transform=\"scale(0.015625)\"/>\n       <path d=\"M 2631 2963 \nQ 2534 3019 2420 3045 \nQ 2306 3072 2169 3072 \nQ 1681 3072 1420 2755 \nQ 1159 2438 1159 1844 \nL 1159 0 \nL 581 0 \nL 581 3500 \nL 1159 3500 \nL 1159 2956 \nQ 1341 3275 1631 3429 \nQ 1922 3584 2338 3584 \nQ 2397 3584 2469 3576 \nQ 2541 3569 2628 3553 \nL 2631 2963 \nz\n\" id=\"DejaVuSans-72\" transform=\"scale(0.015625)\"/>\n       <path d=\"M 947 1747 \nQ 947 1113 1208 752 \nQ 1469 391 1925 391 \nQ 2381 391 2643 752 \nQ 2906 1113 2906 1747 \nQ 2906 2381 2643 2742 \nQ 2381 3103 1925 3103 \nQ 1469 3103 1208 2742 \nQ 947 2381 947 1747 \nz\nM 2906 525 \nQ 2725 213 2448 61 \nQ 2172 -91 1784 -91 \nQ 1150 -91 751 415 \nQ 353 922 353 1747 \nQ 353 2572 751 3078 \nQ 1150 3584 1784 3584 \nQ 2172 3584 2448 3432 \nQ 2725 3281 2906 2969 \nL 2906 3500 \nL 3481 3500 \nL 3481 -1331 \nL 2906 -1331 \nL 2906 525 \nz\n\" id=\"DejaVuSans-71\" transform=\"scale(0.015625)\"/>\n       <path d=\"M 544 1381 \nL 544 3500 \nL 1119 3500 \nL 1119 1403 \nQ 1119 906 1312 657 \nQ 1506 409 1894 409 \nQ 2359 409 2629 706 \nQ 2900 1003 2900 1516 \nL 2900 3500 \nL 3475 3500 \nL 3475 0 \nL 2900 0 \nL 2900 538 \nQ 2691 219 2414 64 \nQ 2138 -91 1772 -91 \nQ 1169 -91 856 284 \nQ 544 659 544 1381 \nz\nM 1991 3584 \nL 1991 3584 \nz\n\" id=\"DejaVuSans-75\" transform=\"scale(0.015625)\"/>\n       <path d=\"M 3513 2113 \nL 3513 0 \nL 2938 0 \nL 2938 2094 \nQ 2938 2591 2744 2837 \nQ 2550 3084 2163 3084 \nQ 1697 3084 1428 2787 \nQ 1159 2491 1159 1978 \nL 1159 0 \nL 581 0 \nL 581 3500 \nL 1159 3500 \nL 1159 2956 \nQ 1366 3272 1645 3428 \nQ 1925 3584 2291 3584 \nQ 2894 3584 3203 3211 \nQ 3513 2838 3513 2113 \nz\n\" id=\"DejaVuSans-6e\" transform=\"scale(0.015625)\"/>\n       <path d=\"M 3122 3366 \nL 3122 2828 \nQ 2878 2963 2633 3030 \nQ 2388 3097 2138 3097 \nQ 1578 3097 1268 2742 \nQ 959 2388 959 1747 \nQ 959 1106 1268 751 \nQ 1578 397 2138 397 \nQ 2388 397 2633 464 \nQ 2878 531 3122 666 \nL 3122 134 \nQ 2881 22 2623 -34 \nQ 2366 -91 2075 -91 \nQ 1284 -91 818 406 \nQ 353 903 353 1747 \nQ 353 2603 823 3093 \nQ 1294 3584 2113 3584 \nQ 2378 3584 2631 3529 \nQ 2884 3475 3122 3366 \nz\n\" id=\"DejaVuSans-63\" transform=\"scale(0.015625)\"/>\n       <path d=\"M 2059 -325 \nQ 1816 -950 1584 -1140 \nQ 1353 -1331 966 -1331 \nL 506 -1331 \nL 506 -850 \nL 844 -850 \nQ 1081 -850 1212 -737 \nQ 1344 -625 1503 -206 \nL 1606 56 \nL 191 3500 \nL 800 3500 \nL 1894 763 \nL 2988 3500 \nL 3597 3500 \nL 2059 -325 \nz\n\" id=\"DejaVuSans-79\" transform=\"scale(0.015625)\"/>\n      </defs>\n      <use xlink:href=\"#DejaVuSans-46\"/>\n      <use x=\"50.269531\" xlink:href=\"#DejaVuSans-72\"/>\n      <use x=\"89.132812\" xlink:href=\"#DejaVuSans-65\"/>\n      <use x=\"150.65625\" xlink:href=\"#DejaVuSans-71\"/>\n      <use x=\"214.132812\" xlink:href=\"#DejaVuSans-75\"/>\n      <use x=\"277.511719\" xlink:href=\"#DejaVuSans-65\"/>\n      <use x=\"339.035156\" xlink:href=\"#DejaVuSans-6e\"/>\n      <use x=\"402.414062\" xlink:href=\"#DejaVuSans-63\"/>\n      <use x=\"457.394531\" xlink:href=\"#DejaVuSans-79\"/>\n     </g>\n    </g>\n   </g>\n   <g id=\"patch_113\">\n    <path d=\"M 59.690625 224.64 \nL 59.690625 7.2 \n\" style=\"fill:none;stroke:#000000;stroke-linecap:square;stroke-linejoin:miter;stroke-width:0.8;\"/>\n   </g>\n   <g id=\"patch_114\">\n    <path d=\"M 394.490625 224.64 \nL 394.490625 7.2 \n\" style=\"fill:none;stroke:#000000;stroke-linecap:square;stroke-linejoin:miter;stroke-width:0.8;\"/>\n   </g>\n   <g id=\"patch_115\">\n    <path d=\"M 59.690625 224.64 \nL 394.490625 224.64 \n\" style=\"fill:none;stroke:#000000;stroke-linecap:square;stroke-linejoin:miter;stroke-width:0.8;\"/>\n   </g>\n   <g id=\"patch_116\">\n    <path d=\"M 59.690625 7.2 \nL 394.490625 7.2 \n\" style=\"fill:none;stroke:#000000;stroke-linecap:square;stroke-linejoin:miter;stroke-width:0.8;\"/>\n   </g>\n   <g id=\"legend_1\">\n    <g id=\"patch_117\">\n     <path d=\"M 170.125781 219.64 \nL 284.055469 219.64 \nQ 286.055469 219.64 286.055469 217.64 \nL 286.055469 57.180625 \nQ 286.055469 55.180625 284.055469 55.180625 \nL 170.125781 55.180625 \nQ 168.125781 55.180625 168.125781 57.180625 \nL 168.125781 217.64 \nQ 168.125781 219.64 170.125781 219.64 \nz\n\" style=\"fill:#ffffff;opacity:0.8;stroke:#cccccc;stroke-linejoin:miter;\"/>\n    </g>\n    <g id=\"patch_118\">\n     <path d=\"M 172.125781 66.779063 \nL 192.125781 66.779063 \nL 192.125781 59.779063 \nL 172.125781 59.779063 \nz\n\" style=\"fill:#1f77b4;\"/>\n    </g>\n    <g id=\"text_18\">\n     <!-- RowNumber -->\n     <g transform=\"translate(200.125781 66.779063)scale(0.1 -0.1)\">\n      <defs>\n       <path d=\"M 2841 2188 \nQ 3044 2119 3236 1894 \nQ 3428 1669 3622 1275 \nL 4263 0 \nL 3584 0 \nL 2988 1197 \nQ 2756 1666 2539 1819 \nQ 2322 1972 1947 1972 \nL 1259 1972 \nL 1259 0 \nL 628 0 \nL 628 4666 \nL 2053 4666 \nQ 2853 4666 3247 4331 \nQ 3641 3997 3641 3322 \nQ 3641 2881 3436 2590 \nQ 3231 2300 2841 2188 \nz\nM 1259 4147 \nL 1259 2491 \nL 2053 2491 \nQ 2509 2491 2742 2702 \nQ 2975 2913 2975 3322 \nQ 2975 3731 2742 3939 \nQ 2509 4147 2053 4147 \nL 1259 4147 \nz\n\" id=\"DejaVuSans-52\" transform=\"scale(0.015625)\"/>\n       <path d=\"M 1959 3097 \nQ 1497 3097 1228 2736 \nQ 959 2375 959 1747 \nQ 959 1119 1226 758 \nQ 1494 397 1959 397 \nQ 2419 397 2687 759 \nQ 2956 1122 2956 1747 \nQ 2956 2369 2687 2733 \nQ 2419 3097 1959 3097 \nz\nM 1959 3584 \nQ 2709 3584 3137 3096 \nQ 3566 2609 3566 1747 \nQ 3566 888 3137 398 \nQ 2709 -91 1959 -91 \nQ 1206 -91 779 398 \nQ 353 888 353 1747 \nQ 353 2609 779 3096 \nQ 1206 3584 1959 3584 \nz\n\" id=\"DejaVuSans-6f\" transform=\"scale(0.015625)\"/>\n       <path d=\"M 269 3500 \nL 844 3500 \nL 1563 769 \nL 2278 3500 \nL 2956 3500 \nL 3675 769 \nL 4391 3500 \nL 4966 3500 \nL 4050 0 \nL 3372 0 \nL 2619 2869 \nL 1863 0 \nL 1184 0 \nL 269 3500 \nz\n\" id=\"DejaVuSans-77\" transform=\"scale(0.015625)\"/>\n       <path d=\"M 628 4666 \nL 1478 4666 \nL 3547 763 \nL 3547 4666 \nL 4159 4666 \nL 4159 0 \nL 3309 0 \nL 1241 3903 \nL 1241 0 \nL 628 0 \nL 628 4666 \nz\n\" id=\"DejaVuSans-4e\" transform=\"scale(0.015625)\"/>\n       <path d=\"M 3328 2828 \nQ 3544 3216 3844 3400 \nQ 4144 3584 4550 3584 \nQ 5097 3584 5394 3201 \nQ 5691 2819 5691 2113 \nL 5691 0 \nL 5113 0 \nL 5113 2094 \nQ 5113 2597 4934 2840 \nQ 4756 3084 4391 3084 \nQ 3944 3084 3684 2787 \nQ 3425 2491 3425 1978 \nL 3425 0 \nL 2847 0 \nL 2847 2094 \nQ 2847 2600 2669 2842 \nQ 2491 3084 2119 3084 \nQ 1678 3084 1418 2786 \nQ 1159 2488 1159 1978 \nL 1159 0 \nL 581 0 \nL 581 3500 \nL 1159 3500 \nL 1159 2956 \nQ 1356 3278 1631 3431 \nQ 1906 3584 2284 3584 \nQ 2666 3584 2933 3390 \nQ 3200 3197 3328 2828 \nz\n\" id=\"DejaVuSans-6d\" transform=\"scale(0.015625)\"/>\n       <path d=\"M 3116 1747 \nQ 3116 2381 2855 2742 \nQ 2594 3103 2138 3103 \nQ 1681 3103 1420 2742 \nQ 1159 2381 1159 1747 \nQ 1159 1113 1420 752 \nQ 1681 391 2138 391 \nQ 2594 391 2855 752 \nQ 3116 1113 3116 1747 \nz\nM 1159 2969 \nQ 1341 3281 1617 3432 \nQ 1894 3584 2278 3584 \nQ 2916 3584 3314 3078 \nQ 3713 2572 3713 1747 \nQ 3713 922 3314 415 \nQ 2916 -91 2278 -91 \nQ 1894 -91 1617 61 \nQ 1341 213 1159 525 \nL 1159 0 \nL 581 0 \nL 581 4863 \nL 1159 4863 \nL 1159 2969 \nz\n\" id=\"DejaVuSans-62\" transform=\"scale(0.015625)\"/>\n      </defs>\n      <use xlink:href=\"#DejaVuSans-52\"/>\n      <use x=\"64.982422\" xlink:href=\"#DejaVuSans-6f\"/>\n      <use x=\"126.164062\" xlink:href=\"#DejaVuSans-77\"/>\n      <use x=\"207.951172\" xlink:href=\"#DejaVuSans-4e\"/>\n      <use x=\"282.755859\" xlink:href=\"#DejaVuSans-75\"/>\n      <use x=\"346.134766\" xlink:href=\"#DejaVuSans-6d\"/>\n      <use x=\"443.546875\" xlink:href=\"#DejaVuSans-62\"/>\n      <use x=\"507.023438\" xlink:href=\"#DejaVuSans-65\"/>\n      <use x=\"568.546875\" xlink:href=\"#DejaVuSans-72\"/>\n     </g>\n    </g>\n    <g id=\"patch_119\">\n     <path d=\"M 172.125781 81.457188 \nL 192.125781 81.457188 \nL 192.125781 74.457188 \nL 172.125781 74.457188 \nz\n\" style=\"fill:#ff7f0e;\"/>\n    </g>\n    <g id=\"text_19\">\n     <!-- CustomerId -->\n     <g transform=\"translate(200.125781 81.457188)scale(0.1 -0.1)\">\n      <defs>\n       <path d=\"M 4122 4306 \nL 4122 3641 \nQ 3803 3938 3442 4084 \nQ 3081 4231 2675 4231 \nQ 1875 4231 1450 3742 \nQ 1025 3253 1025 2328 \nQ 1025 1406 1450 917 \nQ 1875 428 2675 428 \nQ 3081 428 3442 575 \nQ 3803 722 4122 1019 \nL 4122 359 \nQ 3791 134 3420 21 \nQ 3050 -91 2638 -91 \nQ 1578 -91 968 557 \nQ 359 1206 359 2328 \nQ 359 3453 968 4101 \nQ 1578 4750 2638 4750 \nQ 3056 4750 3426 4639 \nQ 3797 4528 4122 4306 \nz\n\" id=\"DejaVuSans-43\" transform=\"scale(0.015625)\"/>\n       <path d=\"M 2834 3397 \nL 2834 2853 \nQ 2591 2978 2328 3040 \nQ 2066 3103 1784 3103 \nQ 1356 3103 1142 2972 \nQ 928 2841 928 2578 \nQ 928 2378 1081 2264 \nQ 1234 2150 1697 2047 \nL 1894 2003 \nQ 2506 1872 2764 1633 \nQ 3022 1394 3022 966 \nQ 3022 478 2636 193 \nQ 2250 -91 1575 -91 \nQ 1294 -91 989 -36 \nQ 684 19 347 128 \nL 347 722 \nQ 666 556 975 473 \nQ 1284 391 1588 391 \nQ 1994 391 2212 530 \nQ 2431 669 2431 922 \nQ 2431 1156 2273 1281 \nQ 2116 1406 1581 1522 \nL 1381 1569 \nQ 847 1681 609 1914 \nQ 372 2147 372 2553 \nQ 372 3047 722 3315 \nQ 1072 3584 1716 3584 \nQ 2034 3584 2315 3537 \nQ 2597 3491 2834 3397 \nz\n\" id=\"DejaVuSans-73\" transform=\"scale(0.015625)\"/>\n       <path d=\"M 1172 4494 \nL 1172 3500 \nL 2356 3500 \nL 2356 3053 \nL 1172 3053 \nL 1172 1153 \nQ 1172 725 1289 603 \nQ 1406 481 1766 481 \nL 2356 481 \nL 2356 0 \nL 1766 0 \nQ 1100 0 847 248 \nQ 594 497 594 1153 \nL 594 3053 \nL 172 3053 \nL 172 3500 \nL 594 3500 \nL 594 4494 \nL 1172 4494 \nz\n\" id=\"DejaVuSans-74\" transform=\"scale(0.015625)\"/>\n       <path d=\"M 628 4666 \nL 1259 4666 \nL 1259 0 \nL 628 0 \nL 628 4666 \nz\n\" id=\"DejaVuSans-49\" transform=\"scale(0.015625)\"/>\n       <path d=\"M 2906 2969 \nL 2906 4863 \nL 3481 4863 \nL 3481 0 \nL 2906 0 \nL 2906 525 \nQ 2725 213 2448 61 \nQ 2172 -91 1784 -91 \nQ 1150 -91 751 415 \nQ 353 922 353 1747 \nQ 353 2572 751 3078 \nQ 1150 3584 1784 3584 \nQ 2172 3584 2448 3432 \nQ 2725 3281 2906 2969 \nz\nM 947 1747 \nQ 947 1113 1208 752 \nQ 1469 391 1925 391 \nQ 2381 391 2643 752 \nQ 2906 1113 2906 1747 \nQ 2906 2381 2643 2742 \nQ 2381 3103 1925 3103 \nQ 1469 3103 1208 2742 \nQ 947 2381 947 1747 \nz\n\" id=\"DejaVuSans-64\" transform=\"scale(0.015625)\"/>\n      </defs>\n      <use xlink:href=\"#DejaVuSans-43\"/>\n      <use x=\"69.824219\" xlink:href=\"#DejaVuSans-75\"/>\n      <use x=\"133.203125\" xlink:href=\"#DejaVuSans-73\"/>\n      <use x=\"185.302734\" xlink:href=\"#DejaVuSans-74\"/>\n      <use x=\"224.511719\" xlink:href=\"#DejaVuSans-6f\"/>\n      <use x=\"285.693359\" xlink:href=\"#DejaVuSans-6d\"/>\n      <use x=\"383.105469\" xlink:href=\"#DejaVuSans-65\"/>\n      <use x=\"444.628906\" xlink:href=\"#DejaVuSans-72\"/>\n      <use x=\"485.742188\" xlink:href=\"#DejaVuSans-49\"/>\n      <use x=\"515.234375\" xlink:href=\"#DejaVuSans-64\"/>\n     </g>\n    </g>\n    <g id=\"patch_120\">\n     <path d=\"M 172.125781 96.135313 \nL 192.125781 96.135313 \nL 192.125781 89.135313 \nL 172.125781 89.135313 \nz\n\" style=\"fill:#2ca02c;\"/>\n    </g>\n    <g id=\"text_20\">\n     <!-- CreditScore -->\n     <g transform=\"translate(200.125781 96.135313)scale(0.1 -0.1)\">\n      <defs>\n       <path d=\"M 603 3500 \nL 1178 3500 \nL 1178 0 \nL 603 0 \nL 603 3500 \nz\nM 603 4863 \nL 1178 4863 \nL 1178 4134 \nL 603 4134 \nL 603 4863 \nz\n\" id=\"DejaVuSans-69\" transform=\"scale(0.015625)\"/>\n       <path d=\"M 3425 4513 \nL 3425 3897 \nQ 3066 4069 2747 4153 \nQ 2428 4238 2131 4238 \nQ 1616 4238 1336 4038 \nQ 1056 3838 1056 3469 \nQ 1056 3159 1242 3001 \nQ 1428 2844 1947 2747 \nL 2328 2669 \nQ 3034 2534 3370 2195 \nQ 3706 1856 3706 1288 \nQ 3706 609 3251 259 \nQ 2797 -91 1919 -91 \nQ 1588 -91 1214 -16 \nQ 841 59 441 206 \nL 441 856 \nQ 825 641 1194 531 \nQ 1563 422 1919 422 \nQ 2459 422 2753 634 \nQ 3047 847 3047 1241 \nQ 3047 1584 2836 1778 \nQ 2625 1972 2144 2069 \nL 1759 2144 \nQ 1053 2284 737 2584 \nQ 422 2884 422 3419 \nQ 422 4038 858 4394 \nQ 1294 4750 2059 4750 \nQ 2388 4750 2728 4690 \nQ 3069 4631 3425 4513 \nz\n\" id=\"DejaVuSans-53\" transform=\"scale(0.015625)\"/>\n      </defs>\n      <use xlink:href=\"#DejaVuSans-43\"/>\n      <use x=\"69.824219\" xlink:href=\"#DejaVuSans-72\"/>\n      <use x=\"108.6875\" xlink:href=\"#DejaVuSans-65\"/>\n      <use x=\"170.210938\" xlink:href=\"#DejaVuSans-64\"/>\n      <use x=\"233.6875\" xlink:href=\"#DejaVuSans-69\"/>\n      <use x=\"261.470703\" xlink:href=\"#DejaVuSans-74\"/>\n      <use x=\"300.679688\" xlink:href=\"#DejaVuSans-53\"/>\n      <use x=\"364.15625\" xlink:href=\"#DejaVuSans-63\"/>\n      <use x=\"419.136719\" xlink:href=\"#DejaVuSans-6f\"/>\n      <use x=\"480.318359\" xlink:href=\"#DejaVuSans-72\"/>\n      <use x=\"519.181641\" xlink:href=\"#DejaVuSans-65\"/>\n     </g>\n    </g>\n    <g id=\"patch_121\">\n     <path d=\"M 172.125781 110.813438 \nL 192.125781 110.813438 \nL 192.125781 103.813438 \nL 172.125781 103.813438 \nz\n\" style=\"fill:#d62728;\"/>\n    </g>\n    <g id=\"text_21\">\n     <!-- Age -->\n     <g transform=\"translate(200.125781 110.813438)scale(0.1 -0.1)\">\n      <defs>\n       <path d=\"M 2188 4044 \nL 1331 1722 \nL 3047 1722 \nL 2188 4044 \nz\nM 1831 4666 \nL 2547 4666 \nL 4325 0 \nL 3669 0 \nL 3244 1197 \nL 1141 1197 \nL 716 0 \nL 50 0 \nL 1831 4666 \nz\n\" id=\"DejaVuSans-41\" transform=\"scale(0.015625)\"/>\n       <path d=\"M 2906 1791 \nQ 2906 2416 2648 2759 \nQ 2391 3103 1925 3103 \nQ 1463 3103 1205 2759 \nQ 947 2416 947 1791 \nQ 947 1169 1205 825 \nQ 1463 481 1925 481 \nQ 2391 481 2648 825 \nQ 2906 1169 2906 1791 \nz\nM 3481 434 \nQ 3481 -459 3084 -895 \nQ 2688 -1331 1869 -1331 \nQ 1566 -1331 1297 -1286 \nQ 1028 -1241 775 -1147 \nL 775 -588 \nQ 1028 -725 1275 -790 \nQ 1522 -856 1778 -856 \nQ 2344 -856 2625 -561 \nQ 2906 -266 2906 331 \nL 2906 616 \nQ 2728 306 2450 153 \nQ 2172 0 1784 0 \nQ 1141 0 747 490 \nQ 353 981 353 1791 \nQ 353 2603 747 3093 \nQ 1141 3584 1784 3584 \nQ 2172 3584 2450 3431 \nQ 2728 3278 2906 2969 \nL 2906 3500 \nL 3481 3500 \nL 3481 434 \nz\n\" id=\"DejaVuSans-67\" transform=\"scale(0.015625)\"/>\n      </defs>\n      <use xlink:href=\"#DejaVuSans-41\"/>\n      <use x=\"68.408203\" xlink:href=\"#DejaVuSans-67\"/>\n      <use x=\"131.884766\" xlink:href=\"#DejaVuSans-65\"/>\n     </g>\n    </g>\n    <g id=\"patch_122\">\n     <path d=\"M 172.125781 125.491563 \nL 192.125781 125.491563 \nL 192.125781 118.491563 \nL 172.125781 118.491563 \nz\n\" style=\"fill:#9467bd;\"/>\n    </g>\n    <g id=\"text_22\">\n     <!-- Tenure -->\n     <g transform=\"translate(200.125781 125.491563)scale(0.1 -0.1)\">\n      <defs>\n       <path d=\"M -19 4666 \nL 3928 4666 \nL 3928 4134 \nL 2272 4134 \nL 2272 0 \nL 1638 0 \nL 1638 4134 \nL -19 4134 \nL -19 4666 \nz\n\" id=\"DejaVuSans-54\" transform=\"scale(0.015625)\"/>\n      </defs>\n      <use xlink:href=\"#DejaVuSans-54\"/>\n      <use x=\"44.083984\" xlink:href=\"#DejaVuSans-65\"/>\n      <use x=\"105.607422\" xlink:href=\"#DejaVuSans-6e\"/>\n      <use x=\"168.986328\" xlink:href=\"#DejaVuSans-75\"/>\n      <use x=\"232.365234\" xlink:href=\"#DejaVuSans-72\"/>\n      <use x=\"271.228516\" xlink:href=\"#DejaVuSans-65\"/>\n     </g>\n    </g>\n    <g id=\"patch_123\">\n     <path d=\"M 172.125781 140.169688 \nL 192.125781 140.169688 \nL 192.125781 133.169688 \nL 172.125781 133.169688 \nz\n\" style=\"fill:#8c564b;\"/>\n    </g>\n    <g id=\"text_23\">\n     <!-- Balance -->\n     <g transform=\"translate(200.125781 140.169688)scale(0.1 -0.1)\">\n      <defs>\n       <path d=\"M 1259 2228 \nL 1259 519 \nL 2272 519 \nQ 2781 519 3026 730 \nQ 3272 941 3272 1375 \nQ 3272 1813 3026 2020 \nQ 2781 2228 2272 2228 \nL 1259 2228 \nz\nM 1259 4147 \nL 1259 2741 \nL 2194 2741 \nQ 2656 2741 2882 2914 \nQ 3109 3088 3109 3444 \nQ 3109 3797 2882 3972 \nQ 2656 4147 2194 4147 \nL 1259 4147 \nz\nM 628 4666 \nL 2241 4666 \nQ 2963 4666 3353 4366 \nQ 3744 4066 3744 3513 \nQ 3744 3084 3544 2831 \nQ 3344 2578 2956 2516 \nQ 3422 2416 3680 2098 \nQ 3938 1781 3938 1306 \nQ 3938 681 3513 340 \nQ 3088 0 2303 0 \nL 628 0 \nL 628 4666 \nz\n\" id=\"DejaVuSans-42\" transform=\"scale(0.015625)\"/>\n       <path d=\"M 2194 1759 \nQ 1497 1759 1228 1600 \nQ 959 1441 959 1056 \nQ 959 750 1161 570 \nQ 1363 391 1709 391 \nQ 2188 391 2477 730 \nQ 2766 1069 2766 1631 \nL 2766 1759 \nL 2194 1759 \nz\nM 3341 1997 \nL 3341 0 \nL 2766 0 \nL 2766 531 \nQ 2569 213 2275 61 \nQ 1981 -91 1556 -91 \nQ 1019 -91 701 211 \nQ 384 513 384 1019 \nQ 384 1609 779 1909 \nQ 1175 2209 1959 2209 \nL 2766 2209 \nL 2766 2266 \nQ 2766 2663 2505 2880 \nQ 2244 3097 1772 3097 \nQ 1472 3097 1187 3025 \nQ 903 2953 641 2809 \nL 641 3341 \nQ 956 3463 1253 3523 \nQ 1550 3584 1831 3584 \nQ 2591 3584 2966 3190 \nQ 3341 2797 3341 1997 \nz\n\" id=\"DejaVuSans-61\" transform=\"scale(0.015625)\"/>\n       <path d=\"M 603 4863 \nL 1178 4863 \nL 1178 0 \nL 603 0 \nL 603 4863 \nz\n\" id=\"DejaVuSans-6c\" transform=\"scale(0.015625)\"/>\n      </defs>\n      <use xlink:href=\"#DejaVuSans-42\"/>\n      <use x=\"68.603516\" xlink:href=\"#DejaVuSans-61\"/>\n      <use x=\"129.882812\" xlink:href=\"#DejaVuSans-6c\"/>\n      <use x=\"157.666016\" xlink:href=\"#DejaVuSans-61\"/>\n      <use x=\"218.945312\" xlink:href=\"#DejaVuSans-6e\"/>\n      <use x=\"282.324219\" xlink:href=\"#DejaVuSans-63\"/>\n      <use x=\"337.304688\" xlink:href=\"#DejaVuSans-65\"/>\n     </g>\n    </g>\n    <g id=\"patch_124\">\n     <path d=\"M 172.125781 154.847813 \nL 192.125781 154.847813 \nL 192.125781 147.847813 \nL 172.125781 147.847813 \nz\n\" style=\"fill:#e377c2;\"/>\n    </g>\n    <g id=\"text_24\">\n     <!-- NumOfProducts -->\n     <g transform=\"translate(200.125781 154.847813)scale(0.1 -0.1)\">\n      <defs>\n       <path d=\"M 2522 4238 \nQ 1834 4238 1429 3725 \nQ 1025 3213 1025 2328 \nQ 1025 1447 1429 934 \nQ 1834 422 2522 422 \nQ 3209 422 3611 934 \nQ 4013 1447 4013 2328 \nQ 4013 3213 3611 3725 \nQ 3209 4238 2522 4238 \nz\nM 2522 4750 \nQ 3503 4750 4090 4092 \nQ 4678 3434 4678 2328 \nQ 4678 1225 4090 567 \nQ 3503 -91 2522 -91 \nQ 1538 -91 948 565 \nQ 359 1222 359 2328 \nQ 359 3434 948 4092 \nQ 1538 4750 2522 4750 \nz\n\" id=\"DejaVuSans-4f\" transform=\"scale(0.015625)\"/>\n       <path d=\"M 2375 4863 \nL 2375 4384 \nL 1825 4384 \nQ 1516 4384 1395 4259 \nQ 1275 4134 1275 3809 \nL 1275 3500 \nL 2222 3500 \nL 2222 3053 \nL 1275 3053 \nL 1275 0 \nL 697 0 \nL 697 3053 \nL 147 3053 \nL 147 3500 \nL 697 3500 \nL 697 3744 \nQ 697 4328 969 4595 \nQ 1241 4863 1831 4863 \nL 2375 4863 \nz\n\" id=\"DejaVuSans-66\" transform=\"scale(0.015625)\"/>\n       <path d=\"M 1259 4147 \nL 1259 2394 \nL 2053 2394 \nQ 2494 2394 2734 2622 \nQ 2975 2850 2975 3272 \nQ 2975 3691 2734 3919 \nQ 2494 4147 2053 4147 \nL 1259 4147 \nz\nM 628 4666 \nL 2053 4666 \nQ 2838 4666 3239 4311 \nQ 3641 3956 3641 3272 \nQ 3641 2581 3239 2228 \nQ 2838 1875 2053 1875 \nL 1259 1875 \nL 1259 0 \nL 628 0 \nL 628 4666 \nz\n\" id=\"DejaVuSans-50\" transform=\"scale(0.015625)\"/>\n      </defs>\n      <use xlink:href=\"#DejaVuSans-4e\"/>\n      <use x=\"74.804688\" xlink:href=\"#DejaVuSans-75\"/>\n      <use x=\"138.183594\" xlink:href=\"#DejaVuSans-6d\"/>\n      <use x=\"235.595703\" xlink:href=\"#DejaVuSans-4f\"/>\n      <use x=\"314.306641\" xlink:href=\"#DejaVuSans-66\"/>\n      <use x=\"349.511719\" xlink:href=\"#DejaVuSans-50\"/>\n      <use x=\"408.064453\" xlink:href=\"#DejaVuSans-72\"/>\n      <use x=\"446.927734\" xlink:href=\"#DejaVuSans-6f\"/>\n      <use x=\"508.109375\" xlink:href=\"#DejaVuSans-64\"/>\n      <use x=\"571.585938\" xlink:href=\"#DejaVuSans-75\"/>\n      <use x=\"634.964844\" xlink:href=\"#DejaVuSans-63\"/>\n      <use x=\"689.945312\" xlink:href=\"#DejaVuSans-74\"/>\n      <use x=\"729.154297\" xlink:href=\"#DejaVuSans-73\"/>\n     </g>\n    </g>\n    <g id=\"patch_125\">\n     <path d=\"M 172.125781 169.525938 \nL 192.125781 169.525938 \nL 192.125781 162.525938 \nL 172.125781 162.525938 \nz\n\" style=\"fill:#7f7f7f;\"/>\n    </g>\n    <g id=\"text_25\">\n     <!-- HasCrCard -->\n     <g transform=\"translate(200.125781 169.525938)scale(0.1 -0.1)\">\n      <defs>\n       <path d=\"M 628 4666 \nL 1259 4666 \nL 1259 2753 \nL 3553 2753 \nL 3553 4666 \nL 4184 4666 \nL 4184 0 \nL 3553 0 \nL 3553 2222 \nL 1259 2222 \nL 1259 0 \nL 628 0 \nL 628 4666 \nz\n\" id=\"DejaVuSans-48\" transform=\"scale(0.015625)\"/>\n      </defs>\n      <use xlink:href=\"#DejaVuSans-48\"/>\n      <use x=\"75.195312\" xlink:href=\"#DejaVuSans-61\"/>\n      <use x=\"136.474609\" xlink:href=\"#DejaVuSans-73\"/>\n      <use x=\"188.574219\" xlink:href=\"#DejaVuSans-43\"/>\n      <use x=\"258.398438\" xlink:href=\"#DejaVuSans-72\"/>\n      <use x=\"299.511719\" xlink:href=\"#DejaVuSans-43\"/>\n      <use x=\"369.335938\" xlink:href=\"#DejaVuSans-61\"/>\n      <use x=\"430.615234\" xlink:href=\"#DejaVuSans-72\"/>\n      <use x=\"469.978516\" xlink:href=\"#DejaVuSans-64\"/>\n     </g>\n    </g>\n    <g id=\"patch_126\">\n     <path d=\"M 172.125781 184.204063 \nL 192.125781 184.204063 \nL 192.125781 177.204063 \nL 172.125781 177.204063 \nz\n\" style=\"fill:#bcbd22;\"/>\n    </g>\n    <g id=\"text_26\">\n     <!-- IsActiveMember -->\n     <g transform=\"translate(200.125781 184.204063)scale(0.1 -0.1)\">\n      <defs>\n       <path d=\"M 191 3500 \nL 800 3500 \nL 1894 563 \nL 2988 3500 \nL 3597 3500 \nL 2284 0 \nL 1503 0 \nL 191 3500 \nz\n\" id=\"DejaVuSans-76\" transform=\"scale(0.015625)\"/>\n       <path d=\"M 628 4666 \nL 1569 4666 \nL 2759 1491 \nL 3956 4666 \nL 4897 4666 \nL 4897 0 \nL 4281 0 \nL 4281 4097 \nL 3078 897 \nL 2444 897 \nL 1241 4097 \nL 1241 0 \nL 628 0 \nL 628 4666 \nz\n\" id=\"DejaVuSans-4d\" transform=\"scale(0.015625)\"/>\n      </defs>\n      <use xlink:href=\"#DejaVuSans-49\"/>\n      <use x=\"29.492188\" xlink:href=\"#DejaVuSans-73\"/>\n      <use x=\"81.591797\" xlink:href=\"#DejaVuSans-41\"/>\n      <use x=\"148.25\" xlink:href=\"#DejaVuSans-63\"/>\n      <use x=\"203.230469\" xlink:href=\"#DejaVuSans-74\"/>\n      <use x=\"242.439453\" xlink:href=\"#DejaVuSans-69\"/>\n      <use x=\"270.222656\" xlink:href=\"#DejaVuSans-76\"/>\n      <use x=\"329.402344\" xlink:href=\"#DejaVuSans-65\"/>\n      <use x=\"390.925781\" xlink:href=\"#DejaVuSans-4d\"/>\n      <use x=\"477.205078\" xlink:href=\"#DejaVuSans-65\"/>\n      <use x=\"538.728516\" xlink:href=\"#DejaVuSans-6d\"/>\n      <use x=\"636.140625\" xlink:href=\"#DejaVuSans-62\"/>\n      <use x=\"699.617188\" xlink:href=\"#DejaVuSans-65\"/>\n      <use x=\"761.140625\" xlink:href=\"#DejaVuSans-72\"/>\n     </g>\n    </g>\n    <g id=\"patch_127\">\n     <path d=\"M 172.125781 198.882188 \nL 192.125781 198.882188 \nL 192.125781 191.882188 \nL 172.125781 191.882188 \nz\n\" style=\"fill:#17becf;\"/>\n    </g>\n    <g id=\"text_27\">\n     <!-- EstimatedSalary -->\n     <g transform=\"translate(200.125781 198.882188)scale(0.1 -0.1)\">\n      <defs>\n       <path d=\"M 628 4666 \nL 3578 4666 \nL 3578 4134 \nL 1259 4134 \nL 1259 2753 \nL 3481 2753 \nL 3481 2222 \nL 1259 2222 \nL 1259 531 \nL 3634 531 \nL 3634 0 \nL 628 0 \nL 628 4666 \nz\n\" id=\"DejaVuSans-45\" transform=\"scale(0.015625)\"/>\n      </defs>\n      <use xlink:href=\"#DejaVuSans-45\"/>\n      <use x=\"63.183594\" xlink:href=\"#DejaVuSans-73\"/>\n      <use x=\"115.283203\" xlink:href=\"#DejaVuSans-74\"/>\n      <use x=\"154.492188\" xlink:href=\"#DejaVuSans-69\"/>\n      <use x=\"182.275391\" xlink:href=\"#DejaVuSans-6d\"/>\n      <use x=\"279.6875\" xlink:href=\"#DejaVuSans-61\"/>\n      <use x=\"340.966797\" xlink:href=\"#DejaVuSans-74\"/>\n      <use x=\"380.175781\" xlink:href=\"#DejaVuSans-65\"/>\n      <use x=\"441.699219\" xlink:href=\"#DejaVuSans-64\"/>\n      <use x=\"505.175781\" xlink:href=\"#DejaVuSans-53\"/>\n      <use x=\"568.652344\" xlink:href=\"#DejaVuSans-61\"/>\n      <use x=\"629.931641\" xlink:href=\"#DejaVuSans-6c\"/>\n      <use x=\"657.714844\" xlink:href=\"#DejaVuSans-61\"/>\n      <use x=\"718.994141\" xlink:href=\"#DejaVuSans-72\"/>\n      <use x=\"760.107422\" xlink:href=\"#DejaVuSans-79\"/>\n     </g>\n    </g>\n    <g id=\"patch_128\">\n     <path d=\"M 172.125781 213.560313 \nL 192.125781 213.560313 \nL 192.125781 206.560313 \nL 172.125781 206.560313 \nz\n\" style=\"fill:#1f77b4;\"/>\n    </g>\n    <g id=\"text_28\">\n     <!-- Exited -->\n     <g transform=\"translate(200.125781 213.560313)scale(0.1 -0.1)\">\n      <defs>\n       <path d=\"M 3513 3500 \nL 2247 1797 \nL 3578 0 \nL 2900 0 \nL 1881 1375 \nL 863 0 \nL 184 0 \nL 1544 1831 \nL 300 3500 \nL 978 3500 \nL 1906 2253 \nL 2834 3500 \nL 3513 3500 \nz\n\" id=\"DejaVuSans-78\" transform=\"scale(0.015625)\"/>\n      </defs>\n      <use xlink:href=\"#DejaVuSans-45\"/>\n      <use x=\"63.183594\" xlink:href=\"#DejaVuSans-78\"/>\n      <use x=\"122.363281\" xlink:href=\"#DejaVuSans-69\"/>\n      <use x=\"150.146484\" xlink:href=\"#DejaVuSans-74\"/>\n      <use x=\"189.355469\" xlink:href=\"#DejaVuSans-65\"/>\n      <use x=\"250.878906\" xlink:href=\"#DejaVuSans-64\"/>\n     </g>\n    </g>\n   </g>\n  </g>\n </g>\n <defs>\n  <clipPath id=\"pdab5605b8f\">\n   <rect height=\"217.44\" width=\"334.8\" x=\"59.690625\" y=\"7.2\"/>\n  </clipPath>\n </defs>\n</svg>\n",
      "image/png": "[encoded data removed]"
     },
     "metadata": {
      "needs_background": "light"
     }
    }
   ],
   "metadata": {}
  }
 ],
 "metadata": {
  "orig_nbformat": 4,
  "language_info": {
   "name": "python",
   "version": "3.9.5",
   "mimetype": "text/x-python",
   "codemirror_mode": {
    "name": "ipython",
    "version": 3
   },
   "pygments_lexer": "ipython3",
   "nbconvert_exporter": "python",
   "file_extension": ".py"
  },
  "kernelspec": {
   "name": "python3",
   "display_name": "Python 3.9.5 64-bit ('unibern': conda)"
  },
  "interpreter": {
   "hash": "fa306bf0c5f84f5bbc9873a9044613f2317313e583cb51a56167379bf5454f8b"
  }
 },
 "nbformat": 4,
 "nbformat_minor": 2
}