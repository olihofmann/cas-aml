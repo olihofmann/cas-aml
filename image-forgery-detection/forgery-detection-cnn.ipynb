{
 "cells": [
  {
   "cell_type": "code",
   "execution_count": 7,
   "metadata": {},
   "outputs": [],
   "source": [
    "import skimage.io\n",
    "import pytorch_lightning as pl\n",
    "import torch.nn as nn\n",
    "import torch\n",
    "\n",
    "from torch.utils.data import Dataset\n",
    "from torch.functional import F"
   ]
  },
  {
   "cell_type": "markdown",
   "metadata": {},
   "source": [
    "### Dataset class"
   ]
  },
  {
   "cell_type": "code",
   "execution_count": 3,
   "metadata": {},
   "outputs": [],
   "source": [
    "class ForgeryDetectionDataset(Dataset):\n",
    "    def __init__(self, image_paths, class_to_idx, transform=None):\n",
    "        super().__init__()\n",
    "\n",
    "        self.image_paths = image_paths\n",
    "        self.transform = transform\n",
    "        self.class_to_idx = class_to_idx\n",
    "    \n",
    "    def __len__(self):\n",
    "        return len(self.image_paths)\n",
    "\n",
    "    def __getitem__(self, index):\n",
    "        image_path = self.image_paths[index]\n",
    "        image = skimage.io.imread(image_path)\n",
    "\n",
    "        label = image_path.split(\"/\")[2]\n",
    "        label = self.class_to_idx[label]\n",
    "\n",
    "        if self.transform is not None:\n",
    "            image = self.transform(image)\n",
    "        \n",
    "        return image, label"
   ]
  },
  {
   "cell_type": "markdown",
   "metadata": {},
   "source": [
    "### Create CNN"
   ]
  },
  {
   "cell_type": "code",
   "execution_count": 8,
   "metadata": {},
   "outputs": [],
   "source": [
    "class ForgeryDetectionNetwork(pl.LightningModule):\n",
    "    def __init__(self, number_of_classes, image_size):\n",
    "        super().__init__()\n",
    "        \n",
    "        self.image_size = image_size\n",
    "        self.final_size = image_size // 2\n",
    "\n",
    "        # Conv Layers\n",
    "        self.conv1 = nn.Conv2d(in_channels=3, out_channels=6, kernel_size=5, padding=1)\n",
    "        self.conv2 = nn.Conv2d(in_channels=6, out_channels=12, kernel_size=5, padding=1)\n",
    "        self.maxpool = nn.MaxPool2d(kernel_size=2)\n",
    "\n",
    "        # Dropout Layers\n",
    "        self.dropout1 = nn.Dropout(0.25)\n",
    "        self.dropout2 = nn.Dropout(0.5)\n",
    "\n",
    "        # Dense Layers\n",
    "        self.linear1 = nn.Linear(in_features=12 * self.final_size * self.final_size, out_features=128)\n",
    "        self.linear2 = nn.Linear(in_features=128, out_features=number_of_classes)\n",
    "\n",
    "        self.loss = nn.CrossEntropyLoss()\n",
    "\n",
    "    def forward(self, x):\n",
    "        x = F.relu(self.conv1(x))\n",
    "        x = self.maxpool(x)\n",
    "        x = self.dropout1(x)\n",
    "        x = F.relu(self.conv2(x))\n",
    "        x = self.maxpool(x)\n",
    "        x = self.dropout1(x)\n",
    "        x = x.flatten(start_dim=1)\n",
    "        x = F.relu(self.linear1(x))\n",
    "        x = self.dropout2(x)\n",
    "        x = F.sigmoid(self.linear2(x))\n",
    "\n",
    "        return x\n",
    "\n",
    "    def training_step(self, batch, batch_idx):\n",
    "        x, y = batch\n",
    "        output = self(x)\n",
    "\n",
    "        loss = self.loss(output, y)\n",
    "        accuracy = (torch.argmax(output, dim=1) == y).sum() / len(y)\n",
    "\n",
    "        return {\n",
    "            \"loss\": loss,\n",
    "            \"accuracy\": accuracy\n",
    "        }\n",
    "\n",
    "    def validation_step(self, batch, batch_idx):\n",
    "        x, y = batch\n",
    "        output = self(x)\n",
    "\n",
    "        loss = self.loss(output, y)\n",
    "        accuracy = (torch.argmax(output,dim=1) == y).sum() / len(y)\n",
    "\n",
    "        return {\n",
    "            \"loss\": loss,\n",
    "            \"accuracy\": accuracy\n",
    "        }\n",
    "\n",
    "    def training_epoch_end(self, outputs):\n",
    "        avg_loss = torch.stack([x[\"loss\"] for x in outputs]).mean()\n",
    "        avg_accuracy = torch.stack([x[\"accuracy\"] for x in outputs]).mean()\n",
    "\n",
    "        self.log(\"Loss/train\", avg_loss, on_epoch=True, prog_bar=True, logger=True)\n",
    "        self.log(\"Accuracy/train\", avg_accuracy, on_epoch=True, prog_bar=True, logger=True)\n",
    "\n",
    "    def validation_epoch_end(self, outputs):\n",
    "        avg_loss = torch.stack([x[\"loss\"] for x in outputs]).mean()\n",
    "        avg_accuracy = torch.stack([x[\"accuracy\"] for x in outputs]).mean()\n",
    "\n",
    "        self.log(\"Loss/valid\", avg_loss, on_epoch=True, prog_bar=True, logger=True)\n",
    "        self.log(\"Accuracy/valid\", avg_accuracy, on_epoch=True, prog_bar=True, logger=True)\n",
    "\n",
    "    def configure_optimizers(self):\n",
    "        optimizer = torch.optim.SGD(self.parameters(), lr=0.0001, momentum=0.9)\n",
    "        lr_scheduler = torch.optim.lr_scheduler.CyclicLR(optimizer, base_lr=0.0001, max_lr=0.001, step_size_up=2)\n",
    "        \n",
    "        return {\n",
    "            \"optimizer\": optimizer,\n",
    "            \"lr_scheduler\": lr_scheduler,\n",
    "            \"monitor\": \"Loss/valid\"\n",
    "        }\n"
   ]
  }
 ],
 "metadata": {
  "interpreter": {
   "hash": "b515cee28708d379ea2f6ba59aad1db66e547118a9ae47a027e3aa389b865dc3"
  },
  "kernelspec": {
   "display_name": "Python 3.9.7 ('unibern-pytorch')",
   "language": "python",
   "name": "python3"
  },
  "language_info": {
   "codemirror_mode": {
    "name": "ipython",
    "version": 3
   },
   "file_extension": ".py",
   "mimetype": "text/x-python",
   "name": "python",
   "nbconvert_exporter": "python",
   "pygments_lexer": "ipython3",
   "version": "3.9.7"
  },
  "orig_nbformat": 4
 },
 "nbformat": 4,
 "nbformat_minor": 2
}
